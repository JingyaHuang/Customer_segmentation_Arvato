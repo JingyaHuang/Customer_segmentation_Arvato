{
 "cells": [
  {
   "cell_type": "markdown",
   "metadata": {},
   "source": [
    "# Capstone Project: Create a Customer Segmentation Report for Arvato Financial Services\n",
    "\n",
    "In this project, you will analyze demographics data for customers of a mail-order sales company in Germany, comparing it against demographics information for the general population. You'll use unsupervised learning techniques to perform customer segmentation, identifying the parts of the population that best describe the core customer base of the company. Then, you'll apply what you've learned on a third dataset with demographics information for targets of a marketing campaign for the company, and use a model to predict which individuals are most likely to convert into becoming customers for the company. The data that you will use has been provided by our partners at Bertelsmann Arvato Analytics, and represents a real-life data science task.\n",
    "\n",
    "If you completed the first term of this program, you will be familiar with the first part of this project, from the unsupervised learning project. The versions of those two datasets used in this project will include many more features and has not been pre-cleaned. You are also free to choose whatever approach you'd like to analyzing the data rather than follow pre-determined steps. In your work on this project, make sure that you carefully document your steps and decisions, since your main deliverable for this project will be a blog post reporting your findings."
   ]
  },
  {
   "cell_type": "code",
   "execution_count": 1,
   "metadata": {},
   "outputs": [],
   "source": [
    "# import libraries\n",
    "import numpy as np\n",
    "import pandas as pd\n",
    "import matplotlib.pyplot as plt\n",
    "import matplotlib.image as mpimg\n",
    "%matplotlib inline\n",
    "import seaborn as sns\n",
    "\n",
    "import datetime\n",
    "from pandas_profiling import ProfileReport\n",
    "\n",
    "from sklearn.preprocessing import StandardScaler\n",
    "from sklearn.decomposition import PCA\n",
    "\n",
    "# For reproducability\n",
    "SEED = 8"
   ]
  },
  {
   "cell_type": "markdown",
   "metadata": {},
   "source": [
    "## Part 0: Get to Know the Data\n",
    "\n",
    "There are four data files associated with this project:\n",
    "\n",
    "- `Udacity_AZDIAS_052018.csv`: Demographics data for the general population of Germany; 891 211 persons (rows) x 366 features (columns).\n",
    "- `Udacity_CUSTOMERS_052018.csv`: Demographics data for customers of a mail-order company; 191 652 persons (rows) x 369 features (columns).\n",
    "- `Udacity_MAILOUT_052018_TRAIN.csv`: Demographics data for individuals who were targets of a marketing campaign; 42 982 persons (rows) x 367 (columns).\n",
    "- `Udacity_MAILOUT_052018_TEST.csv`: Demographics data for individuals who were targets of a marketing campaign; 42 833 persons (rows) x 366 (columns).\n",
    "\n",
    "Each row of the demographics files represents a single person, but also includes information outside of individuals, including information about their household, building, and neighborhood. Use the information from the first two files to figure out how customers (\"CUSTOMERS\") are similar to or differ from the general population at large (\"AZDIAS\"), then use your analysis to make predictions on the other two files (\"MAILOUT\"), predicting which recipients are most likely to become a customer for the mail-order company.\n",
    "\n",
    "The \"CUSTOMERS\" file contains three extra columns ('CUSTOMER_GROUP', 'ONLINE_PURCHASE', and 'PRODUCT_GROUP'), which provide broad information about the customers depicted in the file. The original \"MAILOUT\" file included one additional column, \"RESPONSE\", which indicated whether or not each recipient became a customer of the company. For the \"TRAIN\" subset, this column has been retained, but in the \"TEST\" subset it has been removed; it is against that withheld column that your final predictions will be assessed in the Kaggle competition.\n",
    "\n",
    "Otherwise, all of the remaining columns are the same between the three data files. For more information about the columns depicted in the files, you can refer to two Excel spreadsheets provided in the workspace. [One of them](./DIAS Information Levels - Attributes 2017.xlsx) is a top-level list of attributes and descriptions, organized by informational category. [The other](./DIAS Attributes - Values 2017.xlsx) is a detailed mapping of data values for each feature in alphabetical order.\n",
    "\n",
    "In the below cell, we've provided some initial code to load in the first two datasets. Note for all of the `.csv` data files in this project that they're semicolon (`;`) delimited, so an additional argument in the [`read_csv()`](https://pandas.pydata.org/pandas-docs/stable/generated/pandas.read_csv.html) call has been included to read in the data properly. Also, considering the size of the datasets, it may take some time for them to load completely.\n",
    "\n",
    "You'll notice when the data is loaded in that a warning message will immediately pop up. Before you really start digging into the modeling and analysis, you're going to need to perform some cleaning. Take some time to browse the structure of the data and look over the informational spreadsheets to understand the data values. Make some decisions on which features to keep, which features to drop, and if any revisions need to be made on data formats. It'll be a good idea to create a function with pre-processing steps, since you'll need to clean all of the datasets before you work with them."
   ]
  },
  {
   "cell_type": "markdown",
   "metadata": {},
   "source": [
    "### 0.1 Load data and reduce its memory"
   ]
  },
  {
   "cell_type": "code",
   "execution_count": null,
   "metadata": {},
   "outputs": [],
   "source": [
    "%%time\n",
    "# load in the data\n",
    "azdias = pd.read_csv('../../data/Term2/capstone/arvato_data/Udacity_AZDIAS_052018.csv', sep=';',\n",
    "                     parse_dates=True, keep_date_col=True)"
   ]
  },
  {
   "cell_type": "code",
   "execution_count": null,
   "metadata": {},
   "outputs": [],
   "source": [
    "%%time\n",
    "customers = pd.read_csv('../../data/Term2/capstone/arvato_data/Udacity_CUSTOMERS_052018.csv', sep=';', \n",
    "                        parse_dates=True, keep_date_col=True,)"
   ]
  },
  {
   "cell_type": "code",
   "execution_count": null,
   "metadata": {},
   "outputs": [],
   "source": [
    "mailout_train = pd.read_csv('../../data/Term2/capstone/arvato_data/Udacity_MAILOUT_052018_TRAIN.csv', sep=';',\n",
    "                     parse_dates=True, keep_date_col=True)"
   ]
  },
  {
   "cell_type": "code",
   "execution_count": null,
   "metadata": {},
   "outputs": [],
   "source": [
    "mailout_test = pd.read_csv('../../data/Term2/capstone/arvato_data/Udacity_MAILOUT_052018_TEST.csv', sep=';',\n",
    "                     parse_dates=True, keep_date_col=True)"
   ]
  },
  {
   "cell_type": "code",
   "execution_count": null,
   "metadata": {},
   "outputs": [],
   "source": [
    "azdias.head()"
   ]
  },
  {
   "cell_type": "code",
   "execution_count": null,
   "metadata": {},
   "outputs": [],
   "source": [
    "azdias.shape"
   ]
  },
  {
   "cell_type": "code",
   "execution_count": null,
   "metadata": {},
   "outputs": [],
   "source": [
    "customers.shape"
   ]
  },
  {
   "cell_type": "code",
   "execution_count": null,
   "metadata": {},
   "outputs": [],
   "source": [
    "azdias.info()"
   ]
  },
  {
   "cell_type": "code",
   "execution_count": null,
   "metadata": {},
   "outputs": [],
   "source": [
    "customers.info()"
   ]
  },
  {
   "cell_type": "markdown",
   "metadata": {},
   "source": [
    "As it can be seen above, reading the csv files takes more than 12 mins. I decided to decrease the memory usage for the files to make the process of data analysis more efficient."
   ]
  },
  {
   "cell_type": "markdown",
   "metadata": {},
   "source": [
    "I took the memory usage function from the following [repository](https://github.com/harshdarji23/Arvato-Identifying-the-potential-customers/blob/master/Jupyter%20Notebook/Arvato%20Project%20Workbook%20-Final.ipynb), which was created from this [source code from Kaggle](https://www.kaggle.com/gemartin/load-data-reduce-memory-usage)."
   ]
  },
  {
   "cell_type": "code",
   "execution_count": null,
   "metadata": {},
   "outputs": [],
   "source": [
    "def reduce_mem_usage(df):\n",
    "    \"\"\" This function iterates through all the columns of a dataframe and modifies the data type\n",
    "        to reduce memory usage. \n",
    "    Parameters:\n",
    "    df (pandas DataFrame): a dataframe, which needs to be reduced\n",
    "    \n",
    "    Returns:\n",
    "    df (pandas DataFrame): a dataframe with a reduced memory usage\n",
    "    \"\"\"\n",
    "    start_mem = df.memory_usage().sum() / 1024**2\n",
    "    print('Memory usage of dataframe is {:.2f} MB'.format(start_mem))\n",
    "    \n",
    "    for col in df.columns:\n",
    "        col_type = df[col].dtype\n",
    "        \n",
    "        if col_type != object:\n",
    "            c_min = df[col].min()\n",
    "            c_max = df[col].max()\n",
    "            if str(col_type)[:3] == 'int':\n",
    "                if c_min > np.iinfo(np.int8).min and c_max < np.iinfo(np.int8).max:\n",
    "                    df[col] = df[col].astype(np.int8)\n",
    "                elif c_min > np.iinfo(np.int16).min and c_max < np.iinfo(np.int16).max:\n",
    "                    df[col] = df[col].astype(np.int16)\n",
    "                elif c_min > np.iinfo(np.int32).min and c_max < np.iinfo(np.int32).max:\n",
    "                    df[col] = df[col].astype(np.int32)\n",
    "                elif c_min > np.iinfo(np.int64).min and c_max < np.iinfo(np.int64).max:\n",
    "                    df[col] = df[col].astype(np.int64)  \n",
    "            else:\n",
    "                if c_min > np.finfo(np.float16).min and c_max < np.finfo(np.float16).max:\n",
    "                    df[col] = df[col].astype(np.float16)\n",
    "                elif c_min > np.finfo(np.float32).min and c_max < np.finfo(np.float32).max:\n",
    "                    df[col] = df[col].astype(np.float32)\n",
    "                else:\n",
    "                    df[col] = df[col].astype(np.float64)\n",
    "        else:\n",
    "            df[col] = df[col].astype('category')\n",
    "\n",
    "    end_mem = df.memory_usage().sum() / 1024**2\n",
    "    print('Memory usage after optimization is: {:.2f} MB'.format(end_mem))\n",
    "    print('Decreased by {:.1f}%'.format(100 * (start_mem - end_mem) / start_mem))\n",
    "    \n",
    "    return df"
   ]
  },
  {
   "cell_type": "code",
   "execution_count": null,
   "metadata": {},
   "outputs": [],
   "source": [
    "%%time\n",
    "azdias_red_mem = reduce_mem_usage(azdias)"
   ]
  },
  {
   "cell_type": "code",
   "execution_count": null,
   "metadata": {},
   "outputs": [],
   "source": [
    "%%time\n",
    "customers_red_mem = reduce_mem_usage(customers)"
   ]
  },
  {
   "cell_type": "code",
   "execution_count": null,
   "metadata": {},
   "outputs": [],
   "source": [
    "%%time\n",
    "mailout_train_red_mem = reduce_mem_usage(mailout_train)"
   ]
  },
  {
   "cell_type": "code",
   "execution_count": null,
   "metadata": {},
   "outputs": [],
   "source": [
    "%%time\n",
    "mailout_test_red_mem = reduce_mem_usage(mailout_test)"
   ]
  },
  {
   "cell_type": "markdown",
   "metadata": {},
   "source": [
    "Let us save the optimized files"
   ]
  },
  {
   "cell_type": "code",
   "execution_count": null,
   "metadata": {},
   "outputs": [],
   "source": [
    "azdias_red_mem.to_csv('Udacity_AZDIAS_reduced_memory_052018.csv', index=False)"
   ]
  },
  {
   "cell_type": "code",
   "execution_count": null,
   "metadata": {},
   "outputs": [],
   "source": [
    "customers_red_mem.to_csv('Udacity_CUSTOMERS_reduced_memory_052018.csv', index=False)"
   ]
  },
  {
   "cell_type": "code",
   "execution_count": null,
   "metadata": {},
   "outputs": [],
   "source": [
    "mailout_train_red_mem.to_csv('Udacity_MAILOUT_052018_TRAIN_reduced_memory.csv', index=False)\n",
    "mailout_test_red_mem.to_csv('Udacity_MAILOUT_052018_TEST_reduced_memory.csv', index=False)"
   ]
  },
  {
   "cell_type": "markdown",
   "metadata": {},
   "source": [
    "### 0.2 Read data with reduced memory"
   ]
  },
  {
   "cell_type": "code",
   "execution_count": 3,
   "metadata": {},
   "outputs": [
    {
     "name": "stderr",
     "output_type": "stream",
     "text": [
      "<string>:2: DtypeWarning: Columns (18,19) have mixed types.Specify dtype option on import or set low_memory=False.\n"
     ]
    },
    {
     "name": "stdout",
     "output_type": "stream",
     "text": [
      "CPU times: user 22.1 s, sys: 9.15 s, total: 31.3 s\n",
      "Wall time: 33.1 s\n"
     ]
    }
   ],
   "source": [
    "%%time\n",
    "# Read files with reduced memory\n",
    "azdias = pd.read_csv('Udacity_AZDIAS_reduced_memory_052018.csv')"
   ]
  },
  {
   "cell_type": "code",
   "execution_count": 4,
   "metadata": {},
   "outputs": [
    {
     "name": "stderr",
     "output_type": "stream",
     "text": [
      "<string>:2: DtypeWarning: Columns (18,19) have mixed types.Specify dtype option on import or set low_memory=False.\n"
     ]
    },
    {
     "name": "stdout",
     "output_type": "stream",
     "text": [
      "CPU times: user 4.41 s, sys: 702 ms, total: 5.11 s\n",
      "Wall time: 5.22 s\n"
     ]
    }
   ],
   "source": [
    "%%time\n",
    "customers = pd.read_csv('Udacity_CUSTOMERS_reduced_memory_052018.csv')"
   ]
  },
  {
   "cell_type": "code",
   "execution_count": 5,
   "metadata": {},
   "outputs": [
    {
     "name": "stderr",
     "output_type": "stream",
     "text": [
      "<string>:2: DtypeWarning: Columns (18,19) have mixed types.Specify dtype option on import or set low_memory=False.\n"
     ]
    },
    {
     "name": "stdout",
     "output_type": "stream",
     "text": [
      "CPU times: user 2.09 s, sys: 224 ms, total: 2.32 s\n",
      "Wall time: 2.35 s\n"
     ]
    }
   ],
   "source": [
    "%%time\n",
    "# read test and train datasets\n",
    "mailout_train = pd.read_csv('Udacity_MAILOUT_052018_TRAIN_reduced_memory.csv')\n",
    "mailout_test = pd.read_csv('Udacity_MAILOUT_052018_TEST_reduced_memory.csv')"
   ]
  },
  {
   "cell_type": "code",
   "execution_count": 6,
   "metadata": {},
   "outputs": [],
   "source": [
    "# Read information on the attributes \n",
    "attributes_vals = pd.read_excel('DIAS Attributes - Values 2017.xlsx', header=1)\n",
    "attributes_info = pd.read_excel('DIAS Information Levels - Attributes 2017.xlsx', header=1)"
   ]
  },
  {
   "cell_type": "code",
   "execution_count": 7,
   "metadata": {},
   "outputs": [
    {
     "data": {
      "text/html": [
       "<div>\n",
       "<style scoped>\n",
       "    .dataframe tbody tr th:only-of-type {\n",
       "        vertical-align: middle;\n",
       "    }\n",
       "\n",
       "    .dataframe tbody tr th {\n",
       "        vertical-align: top;\n",
       "    }\n",
       "\n",
       "    .dataframe thead th {\n",
       "        text-align: right;\n",
       "    }\n",
       "</style>\n",
       "<table border=\"1\" class=\"dataframe\">\n",
       "  <thead>\n",
       "    <tr style=\"text-align: right;\">\n",
       "      <th></th>\n",
       "      <th>LNR</th>\n",
       "      <th>AGER_TYP</th>\n",
       "      <th>AKT_DAT_KL</th>\n",
       "      <th>ALTER_HH</th>\n",
       "      <th>ALTER_KIND1</th>\n",
       "      <th>ALTER_KIND2</th>\n",
       "      <th>ALTER_KIND3</th>\n",
       "      <th>ALTER_KIND4</th>\n",
       "      <th>ALTERSKATEGORIE_FEIN</th>\n",
       "      <th>ANZ_HAUSHALTE_AKTIV</th>\n",
       "      <th>...</th>\n",
       "      <th>VHN</th>\n",
       "      <th>VK_DHT4A</th>\n",
       "      <th>VK_DISTANZ</th>\n",
       "      <th>VK_ZG11</th>\n",
       "      <th>W_KEIT_KIND_HH</th>\n",
       "      <th>WOHNDAUER_2008</th>\n",
       "      <th>WOHNLAGE</th>\n",
       "      <th>ZABEOTYP</th>\n",
       "      <th>ANREDE_KZ</th>\n",
       "      <th>ALTERSKATEGORIE_GROB</th>\n",
       "    </tr>\n",
       "  </thead>\n",
       "  <tbody>\n",
       "    <tr>\n",
       "      <th>0</th>\n",
       "      <td>910215</td>\n",
       "      <td>-1</td>\n",
       "      <td>NaN</td>\n",
       "      <td>NaN</td>\n",
       "      <td>NaN</td>\n",
       "      <td>NaN</td>\n",
       "      <td>NaN</td>\n",
       "      <td>NaN</td>\n",
       "      <td>NaN</td>\n",
       "      <td>NaN</td>\n",
       "      <td>...</td>\n",
       "      <td>NaN</td>\n",
       "      <td>NaN</td>\n",
       "      <td>NaN</td>\n",
       "      <td>NaN</td>\n",
       "      <td>NaN</td>\n",
       "      <td>NaN</td>\n",
       "      <td>NaN</td>\n",
       "      <td>3</td>\n",
       "      <td>1</td>\n",
       "      <td>2</td>\n",
       "    </tr>\n",
       "    <tr>\n",
       "      <th>1</th>\n",
       "      <td>910220</td>\n",
       "      <td>-1</td>\n",
       "      <td>9.0</td>\n",
       "      <td>0.0</td>\n",
       "      <td>NaN</td>\n",
       "      <td>NaN</td>\n",
       "      <td>NaN</td>\n",
       "      <td>NaN</td>\n",
       "      <td>21.0</td>\n",
       "      <td>11.0</td>\n",
       "      <td>...</td>\n",
       "      <td>4.0</td>\n",
       "      <td>8.0</td>\n",
       "      <td>11.0</td>\n",
       "      <td>10.0</td>\n",
       "      <td>3.0</td>\n",
       "      <td>9.0</td>\n",
       "      <td>4.0</td>\n",
       "      <td>5</td>\n",
       "      <td>2</td>\n",
       "      <td>1</td>\n",
       "    </tr>\n",
       "    <tr>\n",
       "      <th>2</th>\n",
       "      <td>910225</td>\n",
       "      <td>-1</td>\n",
       "      <td>9.0</td>\n",
       "      <td>17.0</td>\n",
       "      <td>NaN</td>\n",
       "      <td>NaN</td>\n",
       "      <td>NaN</td>\n",
       "      <td>NaN</td>\n",
       "      <td>17.0</td>\n",
       "      <td>10.0</td>\n",
       "      <td>...</td>\n",
       "      <td>2.0</td>\n",
       "      <td>9.0</td>\n",
       "      <td>9.0</td>\n",
       "      <td>6.0</td>\n",
       "      <td>3.0</td>\n",
       "      <td>9.0</td>\n",
       "      <td>2.0</td>\n",
       "      <td>5</td>\n",
       "      <td>2</td>\n",
       "      <td>3</td>\n",
       "    </tr>\n",
       "    <tr>\n",
       "      <th>3</th>\n",
       "      <td>910226</td>\n",
       "      <td>2</td>\n",
       "      <td>1.0</td>\n",
       "      <td>13.0</td>\n",
       "      <td>NaN</td>\n",
       "      <td>NaN</td>\n",
       "      <td>NaN</td>\n",
       "      <td>NaN</td>\n",
       "      <td>13.0</td>\n",
       "      <td>1.0</td>\n",
       "      <td>...</td>\n",
       "      <td>0.0</td>\n",
       "      <td>7.0</td>\n",
       "      <td>10.0</td>\n",
       "      <td>11.0</td>\n",
       "      <td>NaN</td>\n",
       "      <td>9.0</td>\n",
       "      <td>7.0</td>\n",
       "      <td>3</td>\n",
       "      <td>2</td>\n",
       "      <td>4</td>\n",
       "    </tr>\n",
       "    <tr>\n",
       "      <th>4</th>\n",
       "      <td>910241</td>\n",
       "      <td>-1</td>\n",
       "      <td>1.0</td>\n",
       "      <td>20.0</td>\n",
       "      <td>NaN</td>\n",
       "      <td>NaN</td>\n",
       "      <td>NaN</td>\n",
       "      <td>NaN</td>\n",
       "      <td>14.0</td>\n",
       "      <td>3.0</td>\n",
       "      <td>...</td>\n",
       "      <td>2.0</td>\n",
       "      <td>3.0</td>\n",
       "      <td>5.0</td>\n",
       "      <td>4.0</td>\n",
       "      <td>2.0</td>\n",
       "      <td>9.0</td>\n",
       "      <td>3.0</td>\n",
       "      <td>4</td>\n",
       "      <td>1</td>\n",
       "      <td>3</td>\n",
       "    </tr>\n",
       "  </tbody>\n",
       "</table>\n",
       "<p>5 rows × 366 columns</p>\n",
       "</div>"
      ],
      "text/plain": [
       "      LNR  AGER_TYP  AKT_DAT_KL  ALTER_HH  ALTER_KIND1  ALTER_KIND2  \\\n",
       "0  910215        -1         NaN       NaN          NaN          NaN   \n",
       "1  910220        -1         9.0       0.0          NaN          NaN   \n",
       "2  910225        -1         9.0      17.0          NaN          NaN   \n",
       "3  910226         2         1.0      13.0          NaN          NaN   \n",
       "4  910241        -1         1.0      20.0          NaN          NaN   \n",
       "\n",
       "   ALTER_KIND3  ALTER_KIND4  ALTERSKATEGORIE_FEIN  ANZ_HAUSHALTE_AKTIV  ...  \\\n",
       "0          NaN          NaN                   NaN                  NaN  ...   \n",
       "1          NaN          NaN                  21.0                 11.0  ...   \n",
       "2          NaN          NaN                  17.0                 10.0  ...   \n",
       "3          NaN          NaN                  13.0                  1.0  ...   \n",
       "4          NaN          NaN                  14.0                  3.0  ...   \n",
       "\n",
       "   VHN  VK_DHT4A  VK_DISTANZ  VK_ZG11  W_KEIT_KIND_HH  WOHNDAUER_2008  \\\n",
       "0  NaN       NaN         NaN      NaN             NaN             NaN   \n",
       "1  4.0       8.0        11.0     10.0             3.0             9.0   \n",
       "2  2.0       9.0         9.0      6.0             3.0             9.0   \n",
       "3  0.0       7.0        10.0     11.0             NaN             9.0   \n",
       "4  2.0       3.0         5.0      4.0             2.0             9.0   \n",
       "\n",
       "   WOHNLAGE ZABEOTYP ANREDE_KZ ALTERSKATEGORIE_GROB  \n",
       "0       NaN        3         1                    2  \n",
       "1       4.0        5         2                    1  \n",
       "2       2.0        5         2                    3  \n",
       "3       7.0        3         2                    4  \n",
       "4       3.0        4         1                    3  \n",
       "\n",
       "[5 rows x 366 columns]"
      ]
     },
     "execution_count": 7,
     "metadata": {},
     "output_type": "execute_result"
    }
   ],
   "source": [
    "azdias.head()"
   ]
  },
  {
   "cell_type": "code",
   "execution_count": 8,
   "metadata": {},
   "outputs": [
    {
     "data": {
      "text/html": [
       "<div>\n",
       "<style scoped>\n",
       "    .dataframe tbody tr th:only-of-type {\n",
       "        vertical-align: middle;\n",
       "    }\n",
       "\n",
       "    .dataframe tbody tr th {\n",
       "        vertical-align: top;\n",
       "    }\n",
       "\n",
       "    .dataframe thead th {\n",
       "        text-align: right;\n",
       "    }\n",
       "</style>\n",
       "<table border=\"1\" class=\"dataframe\">\n",
       "  <thead>\n",
       "    <tr style=\"text-align: right;\">\n",
       "      <th></th>\n",
       "      <th>LNR</th>\n",
       "      <th>AGER_TYP</th>\n",
       "      <th>AKT_DAT_KL</th>\n",
       "      <th>ALTER_HH</th>\n",
       "      <th>ALTER_KIND1</th>\n",
       "      <th>ALTER_KIND2</th>\n",
       "      <th>ALTER_KIND3</th>\n",
       "      <th>ALTER_KIND4</th>\n",
       "      <th>ALTERSKATEGORIE_FEIN</th>\n",
       "      <th>ANZ_HAUSHALTE_AKTIV</th>\n",
       "      <th>...</th>\n",
       "      <th>VK_ZG11</th>\n",
       "      <th>W_KEIT_KIND_HH</th>\n",
       "      <th>WOHNDAUER_2008</th>\n",
       "      <th>WOHNLAGE</th>\n",
       "      <th>ZABEOTYP</th>\n",
       "      <th>PRODUCT_GROUP</th>\n",
       "      <th>CUSTOMER_GROUP</th>\n",
       "      <th>ONLINE_PURCHASE</th>\n",
       "      <th>ANREDE_KZ</th>\n",
       "      <th>ALTERSKATEGORIE_GROB</th>\n",
       "    </tr>\n",
       "  </thead>\n",
       "  <tbody>\n",
       "    <tr>\n",
       "      <th>0</th>\n",
       "      <td>9626</td>\n",
       "      <td>2</td>\n",
       "      <td>1.0</td>\n",
       "      <td>10.0</td>\n",
       "      <td>NaN</td>\n",
       "      <td>NaN</td>\n",
       "      <td>NaN</td>\n",
       "      <td>NaN</td>\n",
       "      <td>10.0</td>\n",
       "      <td>1.0</td>\n",
       "      <td>...</td>\n",
       "      <td>2.0</td>\n",
       "      <td>6.0</td>\n",
       "      <td>9.0</td>\n",
       "      <td>7.0</td>\n",
       "      <td>3</td>\n",
       "      <td>COSMETIC_AND_FOOD</td>\n",
       "      <td>MULTI_BUYER</td>\n",
       "      <td>0</td>\n",
       "      <td>1</td>\n",
       "      <td>4</td>\n",
       "    </tr>\n",
       "    <tr>\n",
       "      <th>1</th>\n",
       "      <td>9628</td>\n",
       "      <td>-1</td>\n",
       "      <td>9.0</td>\n",
       "      <td>11.0</td>\n",
       "      <td>NaN</td>\n",
       "      <td>NaN</td>\n",
       "      <td>NaN</td>\n",
       "      <td>NaN</td>\n",
       "      <td>NaN</td>\n",
       "      <td>NaN</td>\n",
       "      <td>...</td>\n",
       "      <td>3.0</td>\n",
       "      <td>0.0</td>\n",
       "      <td>9.0</td>\n",
       "      <td>NaN</td>\n",
       "      <td>3</td>\n",
       "      <td>FOOD</td>\n",
       "      <td>SINGLE_BUYER</td>\n",
       "      <td>0</td>\n",
       "      <td>1</td>\n",
       "      <td>4</td>\n",
       "    </tr>\n",
       "    <tr>\n",
       "      <th>2</th>\n",
       "      <td>143872</td>\n",
       "      <td>-1</td>\n",
       "      <td>1.0</td>\n",
       "      <td>6.0</td>\n",
       "      <td>NaN</td>\n",
       "      <td>NaN</td>\n",
       "      <td>NaN</td>\n",
       "      <td>NaN</td>\n",
       "      <td>0.0</td>\n",
       "      <td>1.0</td>\n",
       "      <td>...</td>\n",
       "      <td>11.0</td>\n",
       "      <td>6.0</td>\n",
       "      <td>9.0</td>\n",
       "      <td>2.0</td>\n",
       "      <td>3</td>\n",
       "      <td>COSMETIC_AND_FOOD</td>\n",
       "      <td>MULTI_BUYER</td>\n",
       "      <td>0</td>\n",
       "      <td>2</td>\n",
       "      <td>4</td>\n",
       "    </tr>\n",
       "    <tr>\n",
       "      <th>3</th>\n",
       "      <td>143873</td>\n",
       "      <td>1</td>\n",
       "      <td>1.0</td>\n",
       "      <td>8.0</td>\n",
       "      <td>NaN</td>\n",
       "      <td>NaN</td>\n",
       "      <td>NaN</td>\n",
       "      <td>NaN</td>\n",
       "      <td>8.0</td>\n",
       "      <td>0.0</td>\n",
       "      <td>...</td>\n",
       "      <td>2.0</td>\n",
       "      <td>NaN</td>\n",
       "      <td>9.0</td>\n",
       "      <td>7.0</td>\n",
       "      <td>1</td>\n",
       "      <td>COSMETIC</td>\n",
       "      <td>MULTI_BUYER</td>\n",
       "      <td>0</td>\n",
       "      <td>1</td>\n",
       "      <td>4</td>\n",
       "    </tr>\n",
       "    <tr>\n",
       "      <th>4</th>\n",
       "      <td>143874</td>\n",
       "      <td>-1</td>\n",
       "      <td>1.0</td>\n",
       "      <td>20.0</td>\n",
       "      <td>NaN</td>\n",
       "      <td>NaN</td>\n",
       "      <td>NaN</td>\n",
       "      <td>NaN</td>\n",
       "      <td>14.0</td>\n",
       "      <td>7.0</td>\n",
       "      <td>...</td>\n",
       "      <td>4.0</td>\n",
       "      <td>2.0</td>\n",
       "      <td>9.0</td>\n",
       "      <td>3.0</td>\n",
       "      <td>1</td>\n",
       "      <td>FOOD</td>\n",
       "      <td>MULTI_BUYER</td>\n",
       "      <td>0</td>\n",
       "      <td>1</td>\n",
       "      <td>3</td>\n",
       "    </tr>\n",
       "  </tbody>\n",
       "</table>\n",
       "<p>5 rows × 369 columns</p>\n",
       "</div>"
      ],
      "text/plain": [
       "      LNR  AGER_TYP  AKT_DAT_KL  ALTER_HH  ALTER_KIND1  ALTER_KIND2  \\\n",
       "0    9626         2         1.0      10.0          NaN          NaN   \n",
       "1    9628        -1         9.0      11.0          NaN          NaN   \n",
       "2  143872        -1         1.0       6.0          NaN          NaN   \n",
       "3  143873         1         1.0       8.0          NaN          NaN   \n",
       "4  143874        -1         1.0      20.0          NaN          NaN   \n",
       "\n",
       "   ALTER_KIND3  ALTER_KIND4  ALTERSKATEGORIE_FEIN  ANZ_HAUSHALTE_AKTIV  ...  \\\n",
       "0          NaN          NaN                  10.0                  1.0  ...   \n",
       "1          NaN          NaN                   NaN                  NaN  ...   \n",
       "2          NaN          NaN                   0.0                  1.0  ...   \n",
       "3          NaN          NaN                   8.0                  0.0  ...   \n",
       "4          NaN          NaN                  14.0                  7.0  ...   \n",
       "\n",
       "   VK_ZG11  W_KEIT_KIND_HH  WOHNDAUER_2008  WOHNLAGE  ZABEOTYP  \\\n",
       "0      2.0             6.0             9.0       7.0         3   \n",
       "1      3.0             0.0             9.0       NaN         3   \n",
       "2     11.0             6.0             9.0       2.0         3   \n",
       "3      2.0             NaN             9.0       7.0         1   \n",
       "4      4.0             2.0             9.0       3.0         1   \n",
       "\n",
       "       PRODUCT_GROUP  CUSTOMER_GROUP ONLINE_PURCHASE ANREDE_KZ  \\\n",
       "0  COSMETIC_AND_FOOD     MULTI_BUYER               0         1   \n",
       "1               FOOD    SINGLE_BUYER               0         1   \n",
       "2  COSMETIC_AND_FOOD     MULTI_BUYER               0         2   \n",
       "3           COSMETIC     MULTI_BUYER               0         1   \n",
       "4               FOOD     MULTI_BUYER               0         1   \n",
       "\n",
       "  ALTERSKATEGORIE_GROB  \n",
       "0                    4  \n",
       "1                    4  \n",
       "2                    4  \n",
       "3                    4  \n",
       "4                    3  \n",
       "\n",
       "[5 rows x 369 columns]"
      ]
     },
     "execution_count": 8,
     "metadata": {},
     "output_type": "execute_result"
    }
   ],
   "source": [
    "customers.head()"
   ]
  },
  {
   "cell_type": "code",
   "execution_count": 9,
   "metadata": {},
   "outputs": [
    {
     "data": {
      "text/html": [
       "<div>\n",
       "<style scoped>\n",
       "    .dataframe tbody tr th:only-of-type {\n",
       "        vertical-align: middle;\n",
       "    }\n",
       "\n",
       "    .dataframe tbody tr th {\n",
       "        vertical-align: top;\n",
       "    }\n",
       "\n",
       "    .dataframe thead th {\n",
       "        text-align: right;\n",
       "    }\n",
       "</style>\n",
       "<table border=\"1\" class=\"dataframe\">\n",
       "  <thead>\n",
       "    <tr style=\"text-align: right;\">\n",
       "      <th></th>\n",
       "      <th>LNR</th>\n",
       "      <th>AGER_TYP</th>\n",
       "      <th>AKT_DAT_KL</th>\n",
       "      <th>ALTER_HH</th>\n",
       "      <th>ALTER_KIND1</th>\n",
       "      <th>ALTER_KIND2</th>\n",
       "      <th>ALTER_KIND3</th>\n",
       "      <th>ALTER_KIND4</th>\n",
       "      <th>ALTERSKATEGORIE_FEIN</th>\n",
       "      <th>ANZ_HAUSHALTE_AKTIV</th>\n",
       "      <th>...</th>\n",
       "      <th>VK_DHT4A</th>\n",
       "      <th>VK_DISTANZ</th>\n",
       "      <th>VK_ZG11</th>\n",
       "      <th>W_KEIT_KIND_HH</th>\n",
       "      <th>WOHNDAUER_2008</th>\n",
       "      <th>WOHNLAGE</th>\n",
       "      <th>ZABEOTYP</th>\n",
       "      <th>RESPONSE</th>\n",
       "      <th>ANREDE_KZ</th>\n",
       "      <th>ALTERSKATEGORIE_GROB</th>\n",
       "    </tr>\n",
       "  </thead>\n",
       "  <tbody>\n",
       "    <tr>\n",
       "      <th>0</th>\n",
       "      <td>1763</td>\n",
       "      <td>2</td>\n",
       "      <td>1.0</td>\n",
       "      <td>8.0</td>\n",
       "      <td>NaN</td>\n",
       "      <td>NaN</td>\n",
       "      <td>NaN</td>\n",
       "      <td>NaN</td>\n",
       "      <td>8.0</td>\n",
       "      <td>15.0</td>\n",
       "      <td>...</td>\n",
       "      <td>5.0</td>\n",
       "      <td>2.0</td>\n",
       "      <td>1.0</td>\n",
       "      <td>6.0</td>\n",
       "      <td>9.0</td>\n",
       "      <td>3.0</td>\n",
       "      <td>3</td>\n",
       "      <td>0</td>\n",
       "      <td>2</td>\n",
       "      <td>4</td>\n",
       "    </tr>\n",
       "    <tr>\n",
       "      <th>1</th>\n",
       "      <td>1771</td>\n",
       "      <td>1</td>\n",
       "      <td>4.0</td>\n",
       "      <td>13.0</td>\n",
       "      <td>NaN</td>\n",
       "      <td>NaN</td>\n",
       "      <td>NaN</td>\n",
       "      <td>NaN</td>\n",
       "      <td>13.0</td>\n",
       "      <td>1.0</td>\n",
       "      <td>...</td>\n",
       "      <td>1.0</td>\n",
       "      <td>2.0</td>\n",
       "      <td>1.0</td>\n",
       "      <td>4.0</td>\n",
       "      <td>9.0</td>\n",
       "      <td>7.0</td>\n",
       "      <td>1</td>\n",
       "      <td>0</td>\n",
       "      <td>2</td>\n",
       "      <td>3</td>\n",
       "    </tr>\n",
       "    <tr>\n",
       "      <th>2</th>\n",
       "      <td>1776</td>\n",
       "      <td>1</td>\n",
       "      <td>1.0</td>\n",
       "      <td>9.0</td>\n",
       "      <td>NaN</td>\n",
       "      <td>NaN</td>\n",
       "      <td>NaN</td>\n",
       "      <td>NaN</td>\n",
       "      <td>7.0</td>\n",
       "      <td>0.0</td>\n",
       "      <td>...</td>\n",
       "      <td>6.0</td>\n",
       "      <td>4.0</td>\n",
       "      <td>2.0</td>\n",
       "      <td>NaN</td>\n",
       "      <td>9.0</td>\n",
       "      <td>2.0</td>\n",
       "      <td>3</td>\n",
       "      <td>0</td>\n",
       "      <td>1</td>\n",
       "      <td>4</td>\n",
       "    </tr>\n",
       "    <tr>\n",
       "      <th>3</th>\n",
       "      <td>1460</td>\n",
       "      <td>2</td>\n",
       "      <td>1.0</td>\n",
       "      <td>6.0</td>\n",
       "      <td>NaN</td>\n",
       "      <td>NaN</td>\n",
       "      <td>NaN</td>\n",
       "      <td>NaN</td>\n",
       "      <td>6.0</td>\n",
       "      <td>4.0</td>\n",
       "      <td>...</td>\n",
       "      <td>8.0</td>\n",
       "      <td>11.0</td>\n",
       "      <td>11.0</td>\n",
       "      <td>6.0</td>\n",
       "      <td>9.0</td>\n",
       "      <td>1.0</td>\n",
       "      <td>3</td>\n",
       "      <td>0</td>\n",
       "      <td>2</td>\n",
       "      <td>4</td>\n",
       "    </tr>\n",
       "    <tr>\n",
       "      <th>4</th>\n",
       "      <td>1783</td>\n",
       "      <td>2</td>\n",
       "      <td>1.0</td>\n",
       "      <td>9.0</td>\n",
       "      <td>NaN</td>\n",
       "      <td>NaN</td>\n",
       "      <td>NaN</td>\n",
       "      <td>NaN</td>\n",
       "      <td>9.0</td>\n",
       "      <td>53.0</td>\n",
       "      <td>...</td>\n",
       "      <td>2.0</td>\n",
       "      <td>2.0</td>\n",
       "      <td>1.0</td>\n",
       "      <td>6.0</td>\n",
       "      <td>9.0</td>\n",
       "      <td>3.0</td>\n",
       "      <td>3</td>\n",
       "      <td>0</td>\n",
       "      <td>1</td>\n",
       "      <td>3</td>\n",
       "    </tr>\n",
       "  </tbody>\n",
       "</table>\n",
       "<p>5 rows × 367 columns</p>\n",
       "</div>"
      ],
      "text/plain": [
       "    LNR  AGER_TYP  AKT_DAT_KL  ALTER_HH  ALTER_KIND1  ALTER_KIND2  \\\n",
       "0  1763         2         1.0       8.0          NaN          NaN   \n",
       "1  1771         1         4.0      13.0          NaN          NaN   \n",
       "2  1776         1         1.0       9.0          NaN          NaN   \n",
       "3  1460         2         1.0       6.0          NaN          NaN   \n",
       "4  1783         2         1.0       9.0          NaN          NaN   \n",
       "\n",
       "   ALTER_KIND3  ALTER_KIND4  ALTERSKATEGORIE_FEIN  ANZ_HAUSHALTE_AKTIV  ...  \\\n",
       "0          NaN          NaN                   8.0                 15.0  ...   \n",
       "1          NaN          NaN                  13.0                  1.0  ...   \n",
       "2          NaN          NaN                   7.0                  0.0  ...   \n",
       "3          NaN          NaN                   6.0                  4.0  ...   \n",
       "4          NaN          NaN                   9.0                 53.0  ...   \n",
       "\n",
       "   VK_DHT4A  VK_DISTANZ  VK_ZG11  W_KEIT_KIND_HH  WOHNDAUER_2008  WOHNLAGE  \\\n",
       "0       5.0         2.0      1.0             6.0             9.0       3.0   \n",
       "1       1.0         2.0      1.0             4.0             9.0       7.0   \n",
       "2       6.0         4.0      2.0             NaN             9.0       2.0   \n",
       "3       8.0        11.0     11.0             6.0             9.0       1.0   \n",
       "4       2.0         2.0      1.0             6.0             9.0       3.0   \n",
       "\n",
       "   ZABEOTYP RESPONSE ANREDE_KZ ALTERSKATEGORIE_GROB  \n",
       "0         3        0         2                    4  \n",
       "1         1        0         2                    3  \n",
       "2         3        0         1                    4  \n",
       "3         3        0         2                    4  \n",
       "4         3        0         1                    3  \n",
       "\n",
       "[5 rows x 367 columns]"
      ]
     },
     "execution_count": 9,
     "metadata": {},
     "output_type": "execute_result"
    }
   ],
   "source": [
    "mailout_train.head()"
   ]
  },
  {
   "cell_type": "code",
   "execution_count": 10,
   "metadata": {},
   "outputs": [
    {
     "data": {
      "text/html": [
       "<div>\n",
       "<style scoped>\n",
       "    .dataframe tbody tr th:only-of-type {\n",
       "        vertical-align: middle;\n",
       "    }\n",
       "\n",
       "    .dataframe tbody tr th {\n",
       "        vertical-align: top;\n",
       "    }\n",
       "\n",
       "    .dataframe thead th {\n",
       "        text-align: right;\n",
       "    }\n",
       "</style>\n",
       "<table border=\"1\" class=\"dataframe\">\n",
       "  <thead>\n",
       "    <tr style=\"text-align: right;\">\n",
       "      <th></th>\n",
       "      <th>LNR</th>\n",
       "      <th>AGER_TYP</th>\n",
       "      <th>AKT_DAT_KL</th>\n",
       "      <th>ALTER_HH</th>\n",
       "      <th>ALTER_KIND1</th>\n",
       "      <th>ALTER_KIND2</th>\n",
       "      <th>ALTER_KIND3</th>\n",
       "      <th>ALTER_KIND4</th>\n",
       "      <th>ALTERSKATEGORIE_FEIN</th>\n",
       "      <th>ANZ_HAUSHALTE_AKTIV</th>\n",
       "      <th>...</th>\n",
       "      <th>VHN</th>\n",
       "      <th>VK_DHT4A</th>\n",
       "      <th>VK_DISTANZ</th>\n",
       "      <th>VK_ZG11</th>\n",
       "      <th>W_KEIT_KIND_HH</th>\n",
       "      <th>WOHNDAUER_2008</th>\n",
       "      <th>WOHNLAGE</th>\n",
       "      <th>ZABEOTYP</th>\n",
       "      <th>ANREDE_KZ</th>\n",
       "      <th>ALTERSKATEGORIE_GROB</th>\n",
       "    </tr>\n",
       "  </thead>\n",
       "  <tbody>\n",
       "    <tr>\n",
       "      <th>0</th>\n",
       "      <td>1754</td>\n",
       "      <td>2</td>\n",
       "      <td>1.0</td>\n",
       "      <td>7.0</td>\n",
       "      <td>NaN</td>\n",
       "      <td>NaN</td>\n",
       "      <td>NaN</td>\n",
       "      <td>NaN</td>\n",
       "      <td>6.0</td>\n",
       "      <td>2.0</td>\n",
       "      <td>...</td>\n",
       "      <td>4.0</td>\n",
       "      <td>5.0</td>\n",
       "      <td>6.0</td>\n",
       "      <td>3.0</td>\n",
       "      <td>6.0</td>\n",
       "      <td>9.0</td>\n",
       "      <td>3.0</td>\n",
       "      <td>3</td>\n",
       "      <td>1</td>\n",
       "      <td>4</td>\n",
       "    </tr>\n",
       "    <tr>\n",
       "      <th>1</th>\n",
       "      <td>1770</td>\n",
       "      <td>-1</td>\n",
       "      <td>1.0</td>\n",
       "      <td>0.0</td>\n",
       "      <td>NaN</td>\n",
       "      <td>NaN</td>\n",
       "      <td>NaN</td>\n",
       "      <td>NaN</td>\n",
       "      <td>0.0</td>\n",
       "      <td>20.0</td>\n",
       "      <td>...</td>\n",
       "      <td>1.0</td>\n",
       "      <td>5.0</td>\n",
       "      <td>2.0</td>\n",
       "      <td>1.0</td>\n",
       "      <td>6.0</td>\n",
       "      <td>9.0</td>\n",
       "      <td>5.0</td>\n",
       "      <td>3</td>\n",
       "      <td>1</td>\n",
       "      <td>4</td>\n",
       "    </tr>\n",
       "    <tr>\n",
       "      <th>2</th>\n",
       "      <td>1465</td>\n",
       "      <td>2</td>\n",
       "      <td>9.0</td>\n",
       "      <td>16.0</td>\n",
       "      <td>NaN</td>\n",
       "      <td>NaN</td>\n",
       "      <td>NaN</td>\n",
       "      <td>NaN</td>\n",
       "      <td>11.0</td>\n",
       "      <td>2.0</td>\n",
       "      <td>...</td>\n",
       "      <td>3.0</td>\n",
       "      <td>9.0</td>\n",
       "      <td>6.0</td>\n",
       "      <td>3.0</td>\n",
       "      <td>2.0</td>\n",
       "      <td>9.0</td>\n",
       "      <td>4.0</td>\n",
       "      <td>3</td>\n",
       "      <td>2</td>\n",
       "      <td>4</td>\n",
       "    </tr>\n",
       "    <tr>\n",
       "      <th>3</th>\n",
       "      <td>1470</td>\n",
       "      <td>-1</td>\n",
       "      <td>7.0</td>\n",
       "      <td>0.0</td>\n",
       "      <td>NaN</td>\n",
       "      <td>NaN</td>\n",
       "      <td>NaN</td>\n",
       "      <td>NaN</td>\n",
       "      <td>0.0</td>\n",
       "      <td>1.0</td>\n",
       "      <td>...</td>\n",
       "      <td>2.0</td>\n",
       "      <td>6.0</td>\n",
       "      <td>6.0</td>\n",
       "      <td>3.0</td>\n",
       "      <td>NaN</td>\n",
       "      <td>9.0</td>\n",
       "      <td>2.0</td>\n",
       "      <td>3</td>\n",
       "      <td>2</td>\n",
       "      <td>4</td>\n",
       "    </tr>\n",
       "    <tr>\n",
       "      <th>4</th>\n",
       "      <td>1478</td>\n",
       "      <td>1</td>\n",
       "      <td>1.0</td>\n",
       "      <td>21.0</td>\n",
       "      <td>NaN</td>\n",
       "      <td>NaN</td>\n",
       "      <td>NaN</td>\n",
       "      <td>NaN</td>\n",
       "      <td>13.0</td>\n",
       "      <td>1.0</td>\n",
       "      <td>...</td>\n",
       "      <td>1.0</td>\n",
       "      <td>2.0</td>\n",
       "      <td>4.0</td>\n",
       "      <td>3.0</td>\n",
       "      <td>3.0</td>\n",
       "      <td>9.0</td>\n",
       "      <td>7.0</td>\n",
       "      <td>4</td>\n",
       "      <td>2</td>\n",
       "      <td>4</td>\n",
       "    </tr>\n",
       "  </tbody>\n",
       "</table>\n",
       "<p>5 rows × 366 columns</p>\n",
       "</div>"
      ],
      "text/plain": [
       "    LNR  AGER_TYP  AKT_DAT_KL  ALTER_HH  ALTER_KIND1  ALTER_KIND2  \\\n",
       "0  1754         2         1.0       7.0          NaN          NaN   \n",
       "1  1770        -1         1.0       0.0          NaN          NaN   \n",
       "2  1465         2         9.0      16.0          NaN          NaN   \n",
       "3  1470        -1         7.0       0.0          NaN          NaN   \n",
       "4  1478         1         1.0      21.0          NaN          NaN   \n",
       "\n",
       "   ALTER_KIND3  ALTER_KIND4  ALTERSKATEGORIE_FEIN  ANZ_HAUSHALTE_AKTIV  ...  \\\n",
       "0          NaN          NaN                   6.0                  2.0  ...   \n",
       "1          NaN          NaN                   0.0                 20.0  ...   \n",
       "2          NaN          NaN                  11.0                  2.0  ...   \n",
       "3          NaN          NaN                   0.0                  1.0  ...   \n",
       "4          NaN          NaN                  13.0                  1.0  ...   \n",
       "\n",
       "   VHN  VK_DHT4A  VK_DISTANZ  VK_ZG11  W_KEIT_KIND_HH  WOHNDAUER_2008  \\\n",
       "0  4.0       5.0         6.0      3.0             6.0             9.0   \n",
       "1  1.0       5.0         2.0      1.0             6.0             9.0   \n",
       "2  3.0       9.0         6.0      3.0             2.0             9.0   \n",
       "3  2.0       6.0         6.0      3.0             NaN             9.0   \n",
       "4  1.0       2.0         4.0      3.0             3.0             9.0   \n",
       "\n",
       "   WOHNLAGE ZABEOTYP ANREDE_KZ ALTERSKATEGORIE_GROB  \n",
       "0       3.0        3         1                    4  \n",
       "1       5.0        3         1                    4  \n",
       "2       4.0        3         2                    4  \n",
       "3       2.0        3         2                    4  \n",
       "4       7.0        4         2                    4  \n",
       "\n",
       "[5 rows x 366 columns]"
      ]
     },
     "execution_count": 10,
     "metadata": {},
     "output_type": "execute_result"
    }
   ],
   "source": [
    "mailout_test.head()"
   ]
  },
  {
   "cell_type": "code",
   "execution_count": 11,
   "metadata": {},
   "outputs": [
    {
     "data": {
      "text/html": [
       "<div>\n",
       "<style scoped>\n",
       "    .dataframe tbody tr th:only-of-type {\n",
       "        vertical-align: middle;\n",
       "    }\n",
       "\n",
       "    .dataframe tbody tr th {\n",
       "        vertical-align: top;\n",
       "    }\n",
       "\n",
       "    .dataframe thead th {\n",
       "        text-align: right;\n",
       "    }\n",
       "</style>\n",
       "<table border=\"1\" class=\"dataframe\">\n",
       "  <thead>\n",
       "    <tr style=\"text-align: right;\">\n",
       "      <th></th>\n",
       "      <th>Unnamed: 0</th>\n",
       "      <th>Attribute</th>\n",
       "      <th>Description</th>\n",
       "      <th>Value</th>\n",
       "      <th>Meaning</th>\n",
       "    </tr>\n",
       "  </thead>\n",
       "  <tbody>\n",
       "    <tr>\n",
       "      <th>0</th>\n",
       "      <td>NaN</td>\n",
       "      <td>AGER_TYP</td>\n",
       "      <td>best-ager typology</td>\n",
       "      <td>-1</td>\n",
       "      <td>unknown</td>\n",
       "    </tr>\n",
       "    <tr>\n",
       "      <th>1</th>\n",
       "      <td>NaN</td>\n",
       "      <td>NaN</td>\n",
       "      <td>NaN</td>\n",
       "      <td>0</td>\n",
       "      <td>no classification possible</td>\n",
       "    </tr>\n",
       "    <tr>\n",
       "      <th>2</th>\n",
       "      <td>NaN</td>\n",
       "      <td>NaN</td>\n",
       "      <td>NaN</td>\n",
       "      <td>1</td>\n",
       "      <td>passive elderly</td>\n",
       "    </tr>\n",
       "    <tr>\n",
       "      <th>3</th>\n",
       "      <td>NaN</td>\n",
       "      <td>NaN</td>\n",
       "      <td>NaN</td>\n",
       "      <td>2</td>\n",
       "      <td>cultural elderly</td>\n",
       "    </tr>\n",
       "    <tr>\n",
       "      <th>4</th>\n",
       "      <td>NaN</td>\n",
       "      <td>NaN</td>\n",
       "      <td>NaN</td>\n",
       "      <td>3</td>\n",
       "      <td>experience-driven elderly</td>\n",
       "    </tr>\n",
       "    <tr>\n",
       "      <th>5</th>\n",
       "      <td>NaN</td>\n",
       "      <td>ALTERSKATEGORIE_GROB</td>\n",
       "      <td>age classification through prename analysis</td>\n",
       "      <td>-1, 0</td>\n",
       "      <td>unknown</td>\n",
       "    </tr>\n",
       "    <tr>\n",
       "      <th>6</th>\n",
       "      <td>NaN</td>\n",
       "      <td>NaN</td>\n",
       "      <td>NaN</td>\n",
       "      <td>1</td>\n",
       "      <td>&lt; 30 years</td>\n",
       "    </tr>\n",
       "    <tr>\n",
       "      <th>7</th>\n",
       "      <td>NaN</td>\n",
       "      <td>NaN</td>\n",
       "      <td>NaN</td>\n",
       "      <td>2</td>\n",
       "      <td>30 - 45 years</td>\n",
       "    </tr>\n",
       "    <tr>\n",
       "      <th>8</th>\n",
       "      <td>NaN</td>\n",
       "      <td>NaN</td>\n",
       "      <td>NaN</td>\n",
       "      <td>3</td>\n",
       "      <td>46 - 60 years</td>\n",
       "    </tr>\n",
       "    <tr>\n",
       "      <th>9</th>\n",
       "      <td>NaN</td>\n",
       "      <td>NaN</td>\n",
       "      <td>NaN</td>\n",
       "      <td>4</td>\n",
       "      <td>&gt; 60 years</td>\n",
       "    </tr>\n",
       "  </tbody>\n",
       "</table>\n",
       "</div>"
      ],
      "text/plain": [
       "   Unnamed: 0             Attribute  \\\n",
       "0         NaN              AGER_TYP   \n",
       "1         NaN                   NaN   \n",
       "2         NaN                   NaN   \n",
       "3         NaN                   NaN   \n",
       "4         NaN                   NaN   \n",
       "5         NaN  ALTERSKATEGORIE_GROB   \n",
       "6         NaN                   NaN   \n",
       "7         NaN                   NaN   \n",
       "8         NaN                   NaN   \n",
       "9         NaN                   NaN   \n",
       "\n",
       "                                    Description  Value  \\\n",
       "0                            best-ager typology     -1   \n",
       "1                                           NaN      0   \n",
       "2                                           NaN      1   \n",
       "3                                           NaN      2   \n",
       "4                                           NaN      3   \n",
       "5  age classification through prename analysis   -1, 0   \n",
       "6                                           NaN      1   \n",
       "7                                           NaN      2   \n",
       "8                                           NaN      3   \n",
       "9                                           NaN      4   \n",
       "\n",
       "                      Meaning  \n",
       "0                     unknown  \n",
       "1  no classification possible  \n",
       "2             passive elderly  \n",
       "3            cultural elderly  \n",
       "4   experience-driven elderly  \n",
       "5                     unknown  \n",
       "6                  < 30 years  \n",
       "7               30 - 45 years  \n",
       "8               46 - 60 years  \n",
       "9                  > 60 years  "
      ]
     },
     "execution_count": 11,
     "metadata": {},
     "output_type": "execute_result"
    }
   ],
   "source": [
    "attributes_vals.head(10)"
   ]
  },
  {
   "cell_type": "code",
   "execution_count": 12,
   "metadata": {},
   "outputs": [
    {
     "data": {
      "text/html": [
       "<div>\n",
       "<style scoped>\n",
       "    .dataframe tbody tr th:only-of-type {\n",
       "        vertical-align: middle;\n",
       "    }\n",
       "\n",
       "    .dataframe tbody tr th {\n",
       "        vertical-align: top;\n",
       "    }\n",
       "\n",
       "    .dataframe thead th {\n",
       "        text-align: right;\n",
       "    }\n",
       "</style>\n",
       "<table border=\"1\" class=\"dataframe\">\n",
       "  <thead>\n",
       "    <tr style=\"text-align: right;\">\n",
       "      <th></th>\n",
       "      <th>Unnamed: 0</th>\n",
       "      <th>Information level</th>\n",
       "      <th>Attribute</th>\n",
       "      <th>Description</th>\n",
       "      <th>Additional notes</th>\n",
       "    </tr>\n",
       "  </thead>\n",
       "  <tbody>\n",
       "    <tr>\n",
       "      <th>0</th>\n",
       "      <td>NaN</td>\n",
       "      <td>NaN</td>\n",
       "      <td>AGER_TYP</td>\n",
       "      <td>best-ager typology</td>\n",
       "      <td>in cooperation with Kantar TNS; the informatio...</td>\n",
       "    </tr>\n",
       "    <tr>\n",
       "      <th>1</th>\n",
       "      <td>NaN</td>\n",
       "      <td>Person</td>\n",
       "      <td>ALTERSKATEGORIE_GROB</td>\n",
       "      <td>age through prename analysis</td>\n",
       "      <td>modelled on millions of first name-age-referen...</td>\n",
       "    </tr>\n",
       "    <tr>\n",
       "      <th>2</th>\n",
       "      <td>NaN</td>\n",
       "      <td>NaN</td>\n",
       "      <td>ANREDE_KZ</td>\n",
       "      <td>gender</td>\n",
       "      <td>NaN</td>\n",
       "    </tr>\n",
       "  </tbody>\n",
       "</table>\n",
       "</div>"
      ],
      "text/plain": [
       "   Unnamed: 0 Information level             Attribute  \\\n",
       "0         NaN               NaN              AGER_TYP   \n",
       "1         NaN            Person  ALTERSKATEGORIE_GROB   \n",
       "2         NaN               NaN             ANREDE_KZ   \n",
       "\n",
       "                     Description  \\\n",
       "0             best-ager typology   \n",
       "1  age through prename analysis    \n",
       "2                         gender   \n",
       "\n",
       "                                    Additional notes  \n",
       "0  in cooperation with Kantar TNS; the informatio...  \n",
       "1  modelled on millions of first name-age-referen...  \n",
       "2                                                NaN  "
      ]
     },
     "execution_count": 12,
     "metadata": {},
     "output_type": "execute_result"
    }
   ],
   "source": [
    "attributes_info.head(3)"
   ]
  },
  {
   "cell_type": "code",
   "execution_count": 13,
   "metadata": {},
   "outputs": [],
   "source": [
    "# Let's drop unnecessary columns\n",
    "attributes_vals.drop(columns=['Unnamed: 0'], inplace=True)\n",
    "attributes_info.drop(columns=['Unnamed: 0'], inplace=True)"
   ]
  },
  {
   "cell_type": "code",
   "execution_count": 14,
   "metadata": {},
   "outputs": [
    {
     "data": {
      "text/html": [
       "<div>\n",
       "<style scoped>\n",
       "    .dataframe tbody tr th:only-of-type {\n",
       "        vertical-align: middle;\n",
       "    }\n",
       "\n",
       "    .dataframe tbody tr th {\n",
       "        vertical-align: top;\n",
       "    }\n",
       "\n",
       "    .dataframe thead th {\n",
       "        text-align: right;\n",
       "    }\n",
       "</style>\n",
       "<table border=\"1\" class=\"dataframe\">\n",
       "  <thead>\n",
       "    <tr style=\"text-align: right;\">\n",
       "      <th></th>\n",
       "      <th>Attribute</th>\n",
       "      <th>Description</th>\n",
       "      <th>Value</th>\n",
       "      <th>Meaning</th>\n",
       "    </tr>\n",
       "  </thead>\n",
       "  <tbody>\n",
       "    <tr>\n",
       "      <th>0</th>\n",
       "      <td>AGER_TYP</td>\n",
       "      <td>best-ager typology</td>\n",
       "      <td>-1</td>\n",
       "      <td>unknown</td>\n",
       "    </tr>\n",
       "    <tr>\n",
       "      <th>1</th>\n",
       "      <td>AGER_TYP</td>\n",
       "      <td>NaN</td>\n",
       "      <td>0</td>\n",
       "      <td>no classification possible</td>\n",
       "    </tr>\n",
       "    <tr>\n",
       "      <th>2</th>\n",
       "      <td>AGER_TYP</td>\n",
       "      <td>NaN</td>\n",
       "      <td>1</td>\n",
       "      <td>passive elderly</td>\n",
       "    </tr>\n",
       "    <tr>\n",
       "      <th>3</th>\n",
       "      <td>AGER_TYP</td>\n",
       "      <td>NaN</td>\n",
       "      <td>2</td>\n",
       "      <td>cultural elderly</td>\n",
       "    </tr>\n",
       "    <tr>\n",
       "      <th>4</th>\n",
       "      <td>AGER_TYP</td>\n",
       "      <td>NaN</td>\n",
       "      <td>3</td>\n",
       "      <td>experience-driven elderly</td>\n",
       "    </tr>\n",
       "    <tr>\n",
       "      <th>5</th>\n",
       "      <td>ALTERSKATEGORIE_GROB</td>\n",
       "      <td>age classification through prename analysis</td>\n",
       "      <td>-1, 0</td>\n",
       "      <td>unknown</td>\n",
       "    </tr>\n",
       "    <tr>\n",
       "      <th>6</th>\n",
       "      <td>ALTERSKATEGORIE_GROB</td>\n",
       "      <td>NaN</td>\n",
       "      <td>1</td>\n",
       "      <td>&lt; 30 years</td>\n",
       "    </tr>\n",
       "    <tr>\n",
       "      <th>7</th>\n",
       "      <td>ALTERSKATEGORIE_GROB</td>\n",
       "      <td>NaN</td>\n",
       "      <td>2</td>\n",
       "      <td>30 - 45 years</td>\n",
       "    </tr>\n",
       "    <tr>\n",
       "      <th>8</th>\n",
       "      <td>ALTERSKATEGORIE_GROB</td>\n",
       "      <td>NaN</td>\n",
       "      <td>3</td>\n",
       "      <td>46 - 60 years</td>\n",
       "    </tr>\n",
       "    <tr>\n",
       "      <th>9</th>\n",
       "      <td>ALTERSKATEGORIE_GROB</td>\n",
       "      <td>NaN</td>\n",
       "      <td>4</td>\n",
       "      <td>&gt; 60 years</td>\n",
       "    </tr>\n",
       "  </tbody>\n",
       "</table>\n",
       "</div>"
      ],
      "text/plain": [
       "              Attribute                                   Description  Value  \\\n",
       "0              AGER_TYP                            best-ager typology     -1   \n",
       "1              AGER_TYP                                           NaN      0   \n",
       "2              AGER_TYP                                           NaN      1   \n",
       "3              AGER_TYP                                           NaN      2   \n",
       "4              AGER_TYP                                           NaN      3   \n",
       "5  ALTERSKATEGORIE_GROB  age classification through prename analysis   -1, 0   \n",
       "6  ALTERSKATEGORIE_GROB                                           NaN      1   \n",
       "7  ALTERSKATEGORIE_GROB                                           NaN      2   \n",
       "8  ALTERSKATEGORIE_GROB                                           NaN      3   \n",
       "9  ALTERSKATEGORIE_GROB                                           NaN      4   \n",
       "\n",
       "                      Meaning  \n",
       "0                     unknown  \n",
       "1  no classification possible  \n",
       "2             passive elderly  \n",
       "3            cultural elderly  \n",
       "4   experience-driven elderly  \n",
       "5                     unknown  \n",
       "6                  < 30 years  \n",
       "7               30 - 45 years  \n",
       "8               46 - 60 years  \n",
       "9                  > 60 years  "
      ]
     },
     "execution_count": 14,
     "metadata": {},
     "output_type": "execute_result"
    }
   ],
   "source": [
    "# Let us fill in the null values in the attribute column\n",
    "attributes_vals[\"Attribute\"] = attributes_vals[\"Attribute\"].ffill()\n",
    "attributes_vals.head(10)"
   ]
  },
  {
   "cell_type": "code",
   "execution_count": 15,
   "metadata": {},
   "outputs": [
    {
     "name": "stdout",
     "output_type": "stream",
     "text": [
      "Azdias shape: (891221, 366)\n",
      "Customers shape: (191652, 369)\n",
      "Mailout train shape: (42962, 367)\n",
      "Mailout test shape: (42833, 366)\n"
     ]
    }
   ],
   "source": [
    "# Print the shapes for the dataframes\n",
    "print(\"Azdias shape:\", azdias.shape)\n",
    "print(\"Customers shape:\", customers.shape)\n",
    "print(\"Mailout train shape:\", mailout_train.shape)\n",
    "print(\"Mailout test shape:\", mailout_test.shape)"
   ]
  },
  {
   "cell_type": "markdown",
   "metadata": {},
   "source": [
    "### 0.3 Fix the warning messages"
   ]
  },
  {
   "cell_type": "code",
   "execution_count": 16,
   "metadata": {},
   "outputs": [
    {
     "data": {
      "text/plain": [
       "Index(['CAMEO_DEUG_2015', 'CAMEO_INTL_2015'], dtype='object')"
      ]
     },
     "execution_count": 16,
     "metadata": {},
     "output_type": "execute_result"
    }
   ],
   "source": [
    "# Let's have a look at the columns with warnings\n",
    "azdias.columns[18:20]"
   ]
  },
  {
   "cell_type": "code",
   "execution_count": 17,
   "metadata": {},
   "outputs": [
    {
     "data": {
      "text/plain": [
       "Index(['CAMEO_DEUG_2015', 'CAMEO_INTL_2015'], dtype='object')"
      ]
     },
     "execution_count": 17,
     "metadata": {},
     "output_type": "execute_result"
    }
   ],
   "source": [
    "# Let's have a look at the columns with warnings\n",
    "customers.columns[18:20]"
   ]
  },
  {
   "cell_type": "markdown",
   "metadata": {},
   "source": [
    "Let us check those values in a dataframe with attribute values"
   ]
  },
  {
   "cell_type": "code",
   "execution_count": 18,
   "metadata": {},
   "outputs": [
    {
     "data": {
      "text/html": [
       "<div>\n",
       "<style scoped>\n",
       "    .dataframe tbody tr th:only-of-type {\n",
       "        vertical-align: middle;\n",
       "    }\n",
       "\n",
       "    .dataframe tbody tr th {\n",
       "        vertical-align: top;\n",
       "    }\n",
       "\n",
       "    .dataframe thead th {\n",
       "        text-align: right;\n",
       "    }\n",
       "</style>\n",
       "<table border=\"1\" class=\"dataframe\">\n",
       "  <thead>\n",
       "    <tr style=\"text-align: right;\">\n",
       "      <th></th>\n",
       "      <th>Attribute</th>\n",
       "      <th>Description</th>\n",
       "      <th>Value</th>\n",
       "      <th>Meaning</th>\n",
       "    </tr>\n",
       "  </thead>\n",
       "  <tbody>\n",
       "    <tr>\n",
       "      <th>51</th>\n",
       "      <td>CAMEO_DEUG_2015</td>\n",
       "      <td>CAMEO classification 2015 - Uppergroup</td>\n",
       "      <td>-1</td>\n",
       "      <td>unknown</td>\n",
       "    </tr>\n",
       "    <tr>\n",
       "      <th>52</th>\n",
       "      <td>CAMEO_DEUG_2015</td>\n",
       "      <td>NaN</td>\n",
       "      <td>1</td>\n",
       "      <td>upper class</td>\n",
       "    </tr>\n",
       "    <tr>\n",
       "      <th>53</th>\n",
       "      <td>CAMEO_DEUG_2015</td>\n",
       "      <td>NaN</td>\n",
       "      <td>2</td>\n",
       "      <td>upper middleclass</td>\n",
       "    </tr>\n",
       "    <tr>\n",
       "      <th>54</th>\n",
       "      <td>CAMEO_DEUG_2015</td>\n",
       "      <td>NaN</td>\n",
       "      <td>3</td>\n",
       "      <td>established middleclasse</td>\n",
       "    </tr>\n",
       "    <tr>\n",
       "      <th>55</th>\n",
       "      <td>CAMEO_DEUG_2015</td>\n",
       "      <td>NaN</td>\n",
       "      <td>4</td>\n",
       "      <td>consumption-oriented middleclass</td>\n",
       "    </tr>\n",
       "    <tr>\n",
       "      <th>56</th>\n",
       "      <td>CAMEO_DEUG_2015</td>\n",
       "      <td>NaN</td>\n",
       "      <td>5</td>\n",
       "      <td>active middleclass</td>\n",
       "    </tr>\n",
       "    <tr>\n",
       "      <th>57</th>\n",
       "      <td>CAMEO_DEUG_2015</td>\n",
       "      <td>NaN</td>\n",
       "      <td>6</td>\n",
       "      <td>low-consumption middleclass</td>\n",
       "    </tr>\n",
       "    <tr>\n",
       "      <th>58</th>\n",
       "      <td>CAMEO_DEUG_2015</td>\n",
       "      <td>NaN</td>\n",
       "      <td>7</td>\n",
       "      <td>lower middleclass</td>\n",
       "    </tr>\n",
       "    <tr>\n",
       "      <th>59</th>\n",
       "      <td>CAMEO_DEUG_2015</td>\n",
       "      <td>NaN</td>\n",
       "      <td>8</td>\n",
       "      <td>working class</td>\n",
       "    </tr>\n",
       "    <tr>\n",
       "      <th>60</th>\n",
       "      <td>CAMEO_DEUG_2015</td>\n",
       "      <td>NaN</td>\n",
       "      <td>9</td>\n",
       "      <td>urban working class</td>\n",
       "    </tr>\n",
       "  </tbody>\n",
       "</table>\n",
       "</div>"
      ],
      "text/plain": [
       "          Attribute                             Description Value  \\\n",
       "51  CAMEO_DEUG_2015  CAMEO classification 2015 - Uppergroup    -1   \n",
       "52  CAMEO_DEUG_2015                                     NaN     1   \n",
       "53  CAMEO_DEUG_2015                                     NaN     2   \n",
       "54  CAMEO_DEUG_2015                                     NaN     3   \n",
       "55  CAMEO_DEUG_2015                                     NaN     4   \n",
       "56  CAMEO_DEUG_2015                                     NaN     5   \n",
       "57  CAMEO_DEUG_2015                                     NaN     6   \n",
       "58  CAMEO_DEUG_2015                                     NaN     7   \n",
       "59  CAMEO_DEUG_2015                                     NaN     8   \n",
       "60  CAMEO_DEUG_2015                                     NaN     9   \n",
       "\n",
       "                              Meaning  \n",
       "51                            unknown  \n",
       "52                        upper class  \n",
       "53                  upper middleclass  \n",
       "54           established middleclasse  \n",
       "55  consumption-oriented middleclass   \n",
       "56                active middleclass   \n",
       "57        low-consumption middleclass  \n",
       "58                  lower middleclass  \n",
       "59                      working class  \n",
       "60                urban working class  "
      ]
     },
     "execution_count": 18,
     "metadata": {},
     "output_type": "execute_result"
    }
   ],
   "source": [
    "attributes_vals[attributes_vals[\"Attribute\"] == \"CAMEO_DEUG_2015\"]"
   ]
  },
  {
   "cell_type": "code",
   "execution_count": 19,
   "metadata": {},
   "outputs": [
    {
     "data": {
      "text/html": [
       "<div>\n",
       "<style scoped>\n",
       "    .dataframe tbody tr th:only-of-type {\n",
       "        vertical-align: middle;\n",
       "    }\n",
       "\n",
       "    .dataframe tbody tr th {\n",
       "        vertical-align: top;\n",
       "    }\n",
       "\n",
       "    .dataframe thead th {\n",
       "        text-align: right;\n",
       "    }\n",
       "</style>\n",
       "<table border=\"1\" class=\"dataframe\">\n",
       "  <thead>\n",
       "    <tr style=\"text-align: right;\">\n",
       "      <th></th>\n",
       "      <th>Attribute</th>\n",
       "      <th>Description</th>\n",
       "      <th>Value</th>\n",
       "      <th>Meaning</th>\n",
       "    </tr>\n",
       "  </thead>\n",
       "  <tbody>\n",
       "    <tr>\n",
       "      <th>105</th>\n",
       "      <td>CAMEO_DEUINTL_2015</td>\n",
       "      <td>CAMEO classification 2015 - international typo...</td>\n",
       "      <td>-1</td>\n",
       "      <td>unknown</td>\n",
       "    </tr>\n",
       "    <tr>\n",
       "      <th>106</th>\n",
       "      <td>CAMEO_DEUINTL_2015</td>\n",
       "      <td>(each German CAMEO code belongs to one interna...</td>\n",
       "      <td>11</td>\n",
       "      <td>Wealthy Households-Pre-Family Couples &amp; Singles</td>\n",
       "    </tr>\n",
       "    <tr>\n",
       "      <th>107</th>\n",
       "      <td>CAMEO_DEUINTL_2015</td>\n",
       "      <td>NaN</td>\n",
       "      <td>12</td>\n",
       "      <td>Wealthy Households-Young Couples With Children</td>\n",
       "    </tr>\n",
       "    <tr>\n",
       "      <th>108</th>\n",
       "      <td>CAMEO_DEUINTL_2015</td>\n",
       "      <td>NaN</td>\n",
       "      <td>13</td>\n",
       "      <td>Wealthy Households-Families With School Age Ch...</td>\n",
       "    </tr>\n",
       "    <tr>\n",
       "      <th>109</th>\n",
       "      <td>CAMEO_DEUINTL_2015</td>\n",
       "      <td>NaN</td>\n",
       "      <td>14</td>\n",
       "      <td>Wealthy Households-Older Families &amp;  Mature Co...</td>\n",
       "    </tr>\n",
       "    <tr>\n",
       "      <th>110</th>\n",
       "      <td>CAMEO_DEUINTL_2015</td>\n",
       "      <td>NaN</td>\n",
       "      <td>15</td>\n",
       "      <td>Wealthy Households-Elders In Retirement</td>\n",
       "    </tr>\n",
       "    <tr>\n",
       "      <th>111</th>\n",
       "      <td>CAMEO_DEUINTL_2015</td>\n",
       "      <td>NaN</td>\n",
       "      <td>21</td>\n",
       "      <td>Prosperous Households-Pre-Family Couples &amp; Sin...</td>\n",
       "    </tr>\n",
       "    <tr>\n",
       "      <th>112</th>\n",
       "      <td>CAMEO_DEUINTL_2015</td>\n",
       "      <td>NaN</td>\n",
       "      <td>22</td>\n",
       "      <td>Prosperous Households-Young Couples With Children</td>\n",
       "    </tr>\n",
       "    <tr>\n",
       "      <th>113</th>\n",
       "      <td>CAMEO_DEUINTL_2015</td>\n",
       "      <td>NaN</td>\n",
       "      <td>23</td>\n",
       "      <td>Prosperous Households-Families With School Age...</td>\n",
       "    </tr>\n",
       "    <tr>\n",
       "      <th>114</th>\n",
       "      <td>CAMEO_DEUINTL_2015</td>\n",
       "      <td>NaN</td>\n",
       "      <td>24</td>\n",
       "      <td>Prosperous Households-Older Families &amp; Mature ...</td>\n",
       "    </tr>\n",
       "    <tr>\n",
       "      <th>115</th>\n",
       "      <td>CAMEO_DEUINTL_2015</td>\n",
       "      <td>NaN</td>\n",
       "      <td>25</td>\n",
       "      <td>Prosperous Households-Elders In Retirement</td>\n",
       "    </tr>\n",
       "    <tr>\n",
       "      <th>116</th>\n",
       "      <td>CAMEO_DEUINTL_2015</td>\n",
       "      <td>NaN</td>\n",
       "      <td>31</td>\n",
       "      <td>Comfortable Households-Pre-Family Couples &amp; Si...</td>\n",
       "    </tr>\n",
       "    <tr>\n",
       "      <th>117</th>\n",
       "      <td>CAMEO_DEUINTL_2015</td>\n",
       "      <td>NaN</td>\n",
       "      <td>32</td>\n",
       "      <td>Comfortable Households-Young Couples With Chil...</td>\n",
       "    </tr>\n",
       "    <tr>\n",
       "      <th>118</th>\n",
       "      <td>CAMEO_DEUINTL_2015</td>\n",
       "      <td>NaN</td>\n",
       "      <td>33</td>\n",
       "      <td>Comfortable Households-Families With School Ag...</td>\n",
       "    </tr>\n",
       "    <tr>\n",
       "      <th>119</th>\n",
       "      <td>CAMEO_DEUINTL_2015</td>\n",
       "      <td>NaN</td>\n",
       "      <td>34</td>\n",
       "      <td>Comfortable Households-Older Families &amp; Mature...</td>\n",
       "    </tr>\n",
       "    <tr>\n",
       "      <th>120</th>\n",
       "      <td>CAMEO_DEUINTL_2015</td>\n",
       "      <td>NaN</td>\n",
       "      <td>35</td>\n",
       "      <td>Comfortable Households-Elders In Retirement</td>\n",
       "    </tr>\n",
       "    <tr>\n",
       "      <th>121</th>\n",
       "      <td>CAMEO_DEUINTL_2015</td>\n",
       "      <td>NaN</td>\n",
       "      <td>41</td>\n",
       "      <td>Less Affluent Households-Pre-Family Couples &amp; ...</td>\n",
       "    </tr>\n",
       "    <tr>\n",
       "      <th>122</th>\n",
       "      <td>CAMEO_DEUINTL_2015</td>\n",
       "      <td>NaN</td>\n",
       "      <td>42</td>\n",
       "      <td>Less Affluent Households-Young Couples With Ch...</td>\n",
       "    </tr>\n",
       "    <tr>\n",
       "      <th>123</th>\n",
       "      <td>CAMEO_DEUINTL_2015</td>\n",
       "      <td>NaN</td>\n",
       "      <td>43</td>\n",
       "      <td>Less Affluent Households-Families With School ...</td>\n",
       "    </tr>\n",
       "    <tr>\n",
       "      <th>124</th>\n",
       "      <td>CAMEO_DEUINTL_2015</td>\n",
       "      <td>NaN</td>\n",
       "      <td>44</td>\n",
       "      <td>Less Affluent Households-Older Families &amp; Matu...</td>\n",
       "    </tr>\n",
       "    <tr>\n",
       "      <th>125</th>\n",
       "      <td>CAMEO_DEUINTL_2015</td>\n",
       "      <td>NaN</td>\n",
       "      <td>45</td>\n",
       "      <td>Less Affluent Households-Elders In Retirement</td>\n",
       "    </tr>\n",
       "    <tr>\n",
       "      <th>126</th>\n",
       "      <td>CAMEO_DEUINTL_2015</td>\n",
       "      <td>NaN</td>\n",
       "      <td>51</td>\n",
       "      <td>Poorer Households-Pre-Family Couples &amp; Singles</td>\n",
       "    </tr>\n",
       "    <tr>\n",
       "      <th>127</th>\n",
       "      <td>CAMEO_DEUINTL_2015</td>\n",
       "      <td>NaN</td>\n",
       "      <td>52</td>\n",
       "      <td>Poorer Households-Young Couples With Children</td>\n",
       "    </tr>\n",
       "    <tr>\n",
       "      <th>128</th>\n",
       "      <td>CAMEO_DEUINTL_2015</td>\n",
       "      <td>NaN</td>\n",
       "      <td>53</td>\n",
       "      <td>Poorer Households-Families With School Age Chi...</td>\n",
       "    </tr>\n",
       "    <tr>\n",
       "      <th>129</th>\n",
       "      <td>CAMEO_DEUINTL_2015</td>\n",
       "      <td>NaN</td>\n",
       "      <td>54</td>\n",
       "      <td>Poorer Households-Older Families &amp; Mature Couples</td>\n",
       "    </tr>\n",
       "    <tr>\n",
       "      <th>130</th>\n",
       "      <td>CAMEO_DEUINTL_2015</td>\n",
       "      <td>NaN</td>\n",
       "      <td>55</td>\n",
       "      <td>Poorer Households-Elders In Retirement</td>\n",
       "    </tr>\n",
       "  </tbody>\n",
       "</table>\n",
       "</div>"
      ],
      "text/plain": [
       "              Attribute                                        Description  \\\n",
       "105  CAMEO_DEUINTL_2015  CAMEO classification 2015 - international typo...   \n",
       "106  CAMEO_DEUINTL_2015  (each German CAMEO code belongs to one interna...   \n",
       "107  CAMEO_DEUINTL_2015                                                NaN   \n",
       "108  CAMEO_DEUINTL_2015                                                NaN   \n",
       "109  CAMEO_DEUINTL_2015                                                NaN   \n",
       "110  CAMEO_DEUINTL_2015                                                NaN   \n",
       "111  CAMEO_DEUINTL_2015                                                NaN   \n",
       "112  CAMEO_DEUINTL_2015                                                NaN   \n",
       "113  CAMEO_DEUINTL_2015                                                NaN   \n",
       "114  CAMEO_DEUINTL_2015                                                NaN   \n",
       "115  CAMEO_DEUINTL_2015                                                NaN   \n",
       "116  CAMEO_DEUINTL_2015                                                NaN   \n",
       "117  CAMEO_DEUINTL_2015                                                NaN   \n",
       "118  CAMEO_DEUINTL_2015                                                NaN   \n",
       "119  CAMEO_DEUINTL_2015                                                NaN   \n",
       "120  CAMEO_DEUINTL_2015                                                NaN   \n",
       "121  CAMEO_DEUINTL_2015                                                NaN   \n",
       "122  CAMEO_DEUINTL_2015                                                NaN   \n",
       "123  CAMEO_DEUINTL_2015                                                NaN   \n",
       "124  CAMEO_DEUINTL_2015                                                NaN   \n",
       "125  CAMEO_DEUINTL_2015                                                NaN   \n",
       "126  CAMEO_DEUINTL_2015                                                NaN   \n",
       "127  CAMEO_DEUINTL_2015                                                NaN   \n",
       "128  CAMEO_DEUINTL_2015                                                NaN   \n",
       "129  CAMEO_DEUINTL_2015                                                NaN   \n",
       "130  CAMEO_DEUINTL_2015                                                NaN   \n",
       "\n",
       "    Value                                            Meaning  \n",
       "105    -1                                            unknown  \n",
       "106    11    Wealthy Households-Pre-Family Couples & Singles  \n",
       "107    12     Wealthy Households-Young Couples With Children  \n",
       "108    13  Wealthy Households-Families With School Age Ch...  \n",
       "109    14  Wealthy Households-Older Families &  Mature Co...  \n",
       "110    15            Wealthy Households-Elders In Retirement  \n",
       "111    21  Prosperous Households-Pre-Family Couples & Sin...  \n",
       "112    22  Prosperous Households-Young Couples With Children  \n",
       "113    23  Prosperous Households-Families With School Age...  \n",
       "114    24  Prosperous Households-Older Families & Mature ...  \n",
       "115    25         Prosperous Households-Elders In Retirement  \n",
       "116    31  Comfortable Households-Pre-Family Couples & Si...  \n",
       "117    32  Comfortable Households-Young Couples With Chil...  \n",
       "118    33  Comfortable Households-Families With School Ag...  \n",
       "119    34  Comfortable Households-Older Families & Mature...  \n",
       "120    35        Comfortable Households-Elders In Retirement  \n",
       "121    41  Less Affluent Households-Pre-Family Couples & ...  \n",
       "122    42  Less Affluent Households-Young Couples With Ch...  \n",
       "123    43  Less Affluent Households-Families With School ...  \n",
       "124    44  Less Affluent Households-Older Families & Matu...  \n",
       "125    45      Less Affluent Households-Elders In Retirement  \n",
       "126    51     Poorer Households-Pre-Family Couples & Singles  \n",
       "127    52      Poorer Households-Young Couples With Children  \n",
       "128    53  Poorer Households-Families With School Age Chi...  \n",
       "129    54  Poorer Households-Older Families & Mature Couples  \n",
       "130    55             Poorer Households-Elders In Retirement  "
      ]
     },
     "execution_count": 19,
     "metadata": {},
     "output_type": "execute_result"
    }
   ],
   "source": [
    "attributes_vals[attributes_vals[\"Attribute\"] == \"CAMEO_DEUINTL_2015\"]"
   ]
  },
  {
   "cell_type": "markdown",
   "metadata": {},
   "source": [
    "Based on the attribute values dataframe, it's clear that the values should be integer."
   ]
  },
  {
   "cell_type": "code",
   "execution_count": 20,
   "metadata": {},
   "outputs": [],
   "source": [
    "# Select names for the warning columns\n",
    "warning_columns = list(azdias.columns[18:20])"
   ]
  },
  {
   "cell_type": "code",
   "execution_count": 21,
   "metadata": {},
   "outputs": [
    {
     "name": "stdout",
     "output_type": "stream",
     "text": [
      "<class 'pandas.core.frame.DataFrame'>\n",
      "RangeIndex: 891221 entries, 0 to 891220\n",
      "Data columns (total 2 columns):\n",
      " #   Column           Non-Null Count   Dtype \n",
      "---  ------           --------------   ----- \n",
      " 0   CAMEO_DEUG_2015  792242 non-null  object\n",
      " 1   CAMEO_INTL_2015  792242 non-null  object\n",
      "dtypes: object(2)\n",
      "memory usage: 13.6+ MB\n"
     ]
    }
   ],
   "source": [
    "azdias[warning_columns].info()"
   ]
  },
  {
   "cell_type": "code",
   "execution_count": 22,
   "metadata": {},
   "outputs": [
    {
     "name": "stdout",
     "output_type": "stream",
     "text": [
      "<class 'pandas.core.frame.DataFrame'>\n",
      "RangeIndex: 191652 entries, 0 to 191651\n",
      "Data columns (total 2 columns):\n",
      " #   Column           Non-Null Count   Dtype \n",
      "---  ------           --------------   ----- \n",
      " 0   CAMEO_DEUG_2015  141224 non-null  object\n",
      " 1   CAMEO_INTL_2015  141224 non-null  object\n",
      "dtypes: object(2)\n",
      "memory usage: 2.9+ MB\n"
     ]
    }
   ],
   "source": [
    "customers[warning_columns].info()"
   ]
  },
  {
   "cell_type": "markdown",
   "metadata": {},
   "source": [
    "The warning columns have object type instead of integer."
   ]
  },
  {
   "cell_type": "code",
   "execution_count": 23,
   "metadata": {},
   "outputs": [
    {
     "data": {
      "text/plain": [
       "array([nan, 8.0, 4.0, 2.0, 6.0, 1.0, 9.0, 5.0, 7.0, 3.0, '4', '3', '7',\n",
       "       '2', '8', '9', '6', '5', '1', 'X'], dtype=object)"
      ]
     },
     "execution_count": 23,
     "metadata": {},
     "output_type": "execute_result"
    }
   ],
   "source": [
    "# Let's have a closer look at the values in the warning columns\n",
    "azdias[warning_columns[0]].unique()"
   ]
  },
  {
   "cell_type": "code",
   "execution_count": 24,
   "metadata": {},
   "outputs": [
    {
     "data": {
      "text/plain": [
       "array([nan, 51.0, 24.0, 12.0, 43.0, 54.0, 22.0, 14.0, 13.0, 15.0, 33.0,\n",
       "       41.0, 34.0, 55.0, 25.0, 23.0, 31.0, 52.0, 35.0, 45.0, 44.0, 32.0,\n",
       "       '22', '24', '41', '12', '54', '51', '44', '35', '23', '25', '14',\n",
       "       '34', '52', '55', '31', '32', '15', '13', '43', '33', '45', 'XX'],\n",
       "      dtype=object)"
      ]
     },
     "execution_count": 24,
     "metadata": {},
     "output_type": "execute_result"
    }
   ],
   "source": [
    "azdias[warning_columns[1]].unique()"
   ]
  },
  {
   "cell_type": "code",
   "execution_count": 25,
   "metadata": {},
   "outputs": [
    {
     "data": {
      "text/plain": [
       "array([1.0, nan, 5.0, 4.0, 7.0, 3.0, 9.0, 2.0, 6.0, 8.0, '6', '3', '8',\n",
       "       '9', '2', '4', '1', '7', '5', 'X'], dtype=object)"
      ]
     },
     "execution_count": 25,
     "metadata": {},
     "output_type": "execute_result"
    }
   ],
   "source": [
    "customers[warning_columns[0]].unique()"
   ]
  },
  {
   "cell_type": "code",
   "execution_count": 26,
   "metadata": {},
   "outputs": [
    {
     "data": {
      "text/plain": [
       "array([13.0, nan, 34.0, 24.0, 41.0, 23.0, 15.0, 55.0, 14.0, 22.0, 43.0,\n",
       "       51.0, 33.0, 25.0, 44.0, 54.0, 32.0, 12.0, 35.0, 31.0, 45.0, 52.0,\n",
       "       '45', '25', '55', '51', '14', '54', '43', '22', '15', '24', '35',\n",
       "       '23', '12', '44', '41', '52', '31', '13', '34', '32', '33', 'XX'],\n",
       "      dtype=object)"
      ]
     },
     "execution_count": 26,
     "metadata": {},
     "output_type": "execute_result"
    }
   ],
   "source": [
    "customers[warning_columns[1]].unique()"
   ]
  },
  {
   "cell_type": "markdown",
   "metadata": {},
   "source": [
    "The solumns contain nan, 'XX' and 'X' values, which are not in the attribute list of values. Therefore, let's replace thoose values by -1, which means unknown information."
   ]
  },
  {
   "cell_type": "code",
   "execution_count": 99,
   "metadata": {},
   "outputs": [],
   "source": [
    "def fix_warnings(df):\n",
    "    \"\"\"\n",
    "    Replaces suspicious data with NULL values.\n",
    "    \"\"\"\n",
    "    df.replace({warning_columns[0]: {'X': np.nan, 'XX': np.nan}}, inplace=True)\n",
    "    df.replace({warning_columns[1]: {'X': np.nan, 'XX': np.nan}}, inplace=True)\n",
    "    df[warning_columns] = df[warning_columns].astype(float)\n",
    "    return df"
   ]
  },
  {
   "cell_type": "code",
   "execution_count": 28,
   "metadata": {},
   "outputs": [],
   "source": [
    "# Fix warnings\n",
    "azdias = fix_warnings(azdias)\n",
    "customers = fix_warnings(customers)\n",
    "mailout_train = fix_warnings(mailout_train)\n",
    "mailout_test = fix_warnings(mailout_test)"
   ]
  },
  {
   "cell_type": "code",
   "execution_count": 29,
   "metadata": {},
   "outputs": [
    {
     "data": {
      "text/plain": [
       "array([nan,  8.,  4.,  2.,  6.,  1.,  9.,  5.,  7.,  3.])"
      ]
     },
     "execution_count": 29,
     "metadata": {},
     "output_type": "execute_result"
    }
   ],
   "source": [
    "# Let's have a closer look at the values in the warning columns\n",
    "azdias[warning_columns[0]].unique()"
   ]
  },
  {
   "cell_type": "code",
   "execution_count": 30,
   "metadata": {},
   "outputs": [
    {
     "data": {
      "text/plain": [
       "array([nan, 51., 24., 12., 43., 54., 22., 14., 13., 15., 33., 41., 34.,\n",
       "       55., 25., 23., 31., 52., 35., 45., 44., 32.])"
      ]
     },
     "execution_count": 30,
     "metadata": {},
     "output_type": "execute_result"
    }
   ],
   "source": [
    "# Let's have a closer look at the values in the warning columns\n",
    "azdias[warning_columns[1]].unique()"
   ]
  },
  {
   "cell_type": "code",
   "execution_count": 31,
   "metadata": {},
   "outputs": [
    {
     "data": {
      "text/plain": [
       "array([ 1., nan,  5.,  4.,  7.,  3.,  9.,  2.,  6.,  8.])"
      ]
     },
     "execution_count": 31,
     "metadata": {},
     "output_type": "execute_result"
    }
   ],
   "source": [
    "# Let's have a closer look at the values in the warning columns\n",
    "customers[warning_columns[0]].unique()"
   ]
  },
  {
   "cell_type": "code",
   "execution_count": 32,
   "metadata": {},
   "outputs": [
    {
     "data": {
      "text/plain": [
       "array([13., nan, 34., 24., 41., 23., 15., 55., 14., 22., 43., 51., 33.,\n",
       "       25., 44., 54., 32., 12., 35., 31., 45., 52.])"
      ]
     },
     "execution_count": 32,
     "metadata": {},
     "output_type": "execute_result"
    }
   ],
   "source": [
    "# Let's have a closer look at the values in the warning columns\n",
    "customers[warning_columns[1]].unique()"
   ]
  },
  {
   "cell_type": "markdown",
   "metadata": {},
   "source": [
    "### 0.4 EDA using pandas-profiling"
   ]
  },
  {
   "cell_type": "markdown",
   "metadata": {},
   "source": [
    "Let us have a look at the available data using pandas-profiling package and decide further steps for data cleaning"
   ]
  },
  {
   "cell_type": "markdown",
   "metadata": {},
   "source": [
    "Create profiles for Azdias, Customers, Mailout test and train datasets"
   ]
  },
  {
   "cell_type": "code",
   "execution_count": 33,
   "metadata": {},
   "outputs": [
    {
     "name": "stdout",
     "output_type": "stream",
     "text": [
      "CPU times: user 61.2 ms, sys: 7.75 ms, total: 68.9 ms\n",
      "Wall time: 71.2 ms\n"
     ]
    }
   ],
   "source": [
    "%%time\n",
    "profile_azdias = ProfileReport(azdias, title='EDA for Azdias dataset before cleaning', explorative = True, minimal=True)\n",
    "profile_customers = ProfileReport(customers, title='EDA for Customers dataset before cleaning', explorative = True, minimal=True)\n",
    "profile_mailout_train = ProfileReport(mailout_train, title='EDA for Mailout Train dataset before cleaning', explorative = True, minimal=True)\n",
    "profile_mailout_test = ProfileReport(mailout_test, title='EDA for Mailout Test dataset before cleaning', explorative = True, minimal=True)"
   ]
  },
  {
   "cell_type": "code",
   "execution_count": 34,
   "metadata": {},
   "outputs": [
    {
     "data": {
      "application/vnd.jupyter.widget-view+json": {
       "model_id": "66200d78adaa448390c72ce38d01ab11",
       "version_major": 2,
       "version_minor": 0
      },
      "text/plain": [
       "HBox(children=(HTML(value='Summarize dataset'), FloatProgress(value=0.0, max=375.0), HTML(value='')))"
      ]
     },
     "metadata": {},
     "output_type": "display_data"
    },
    {
     "name": "stdout",
     "output_type": "stream",
     "text": [
      "\n"
     ]
    },
    {
     "data": {
      "application/vnd.jupyter.widget-view+json": {
       "model_id": "5862c9e848c54bedbc48bec571585a74",
       "version_major": 2,
       "version_minor": 0
      },
      "text/plain": [
       "HBox(children=(HTML(value='Generate report structure'), FloatProgress(value=0.0, max=1.0), HTML(value='')))"
      ]
     },
     "metadata": {},
     "output_type": "display_data"
    },
    {
     "name": "stdout",
     "output_type": "stream",
     "text": [
      "\n"
     ]
    },
    {
     "data": {
      "application/vnd.jupyter.widget-view+json": {
       "model_id": "b5b2aaa08d89475a94d542e47a1b7e90",
       "version_major": 2,
       "version_minor": 0
      },
      "text/plain": [
       "HBox(children=(HTML(value='Render HTML'), FloatProgress(value=0.0, max=1.0), HTML(value='')))"
      ]
     },
     "metadata": {},
     "output_type": "display_data"
    },
    {
     "name": "stdout",
     "output_type": "stream",
     "text": [
      "\n"
     ]
    },
    {
     "data": {
      "application/vnd.jupyter.widget-view+json": {
       "model_id": "25432218c50c466fb362b2b4952c040d",
       "version_major": 2,
       "version_minor": 0
      },
      "text/plain": [
       "HBox(children=(HTML(value='Export report to file'), FloatProgress(value=0.0, max=1.0), HTML(value='')))"
      ]
     },
     "metadata": {},
     "output_type": "display_data"
    },
    {
     "name": "stdout",
     "output_type": "stream",
     "text": [
      "\n"
     ]
    },
    {
     "data": {
      "application/vnd.jupyter.widget-view+json": {
       "model_id": "b918e3fa9b384594bd62acb9a3959e0d",
       "version_major": 2,
       "version_minor": 0
      },
      "text/plain": [
       "HBox(children=(HTML(value='Summarize dataset'), FloatProgress(value=0.0, max=378.0), HTML(value='')))"
      ]
     },
     "metadata": {},
     "output_type": "display_data"
    },
    {
     "name": "stdout",
     "output_type": "stream",
     "text": [
      "\n"
     ]
    },
    {
     "data": {
      "application/vnd.jupyter.widget-view+json": {
       "model_id": "89de2ec8043c4c349c0f069b4650418b",
       "version_major": 2,
       "version_minor": 0
      },
      "text/plain": [
       "HBox(children=(HTML(value='Generate report structure'), FloatProgress(value=0.0, max=1.0), HTML(value='')))"
      ]
     },
     "metadata": {},
     "output_type": "display_data"
    },
    {
     "name": "stdout",
     "output_type": "stream",
     "text": [
      "\n"
     ]
    },
    {
     "data": {
      "application/vnd.jupyter.widget-view+json": {
       "model_id": "80a4e358600d48c590233094e249d0a5",
       "version_major": 2,
       "version_minor": 0
      },
      "text/plain": [
       "HBox(children=(HTML(value='Render HTML'), FloatProgress(value=0.0, max=1.0), HTML(value='')))"
      ]
     },
     "metadata": {},
     "output_type": "display_data"
    },
    {
     "name": "stdout",
     "output_type": "stream",
     "text": [
      "\n"
     ]
    },
    {
     "data": {
      "application/vnd.jupyter.widget-view+json": {
       "model_id": "42f3a354b5384dc2b6f82423eba18cf9",
       "version_major": 2,
       "version_minor": 0
      },
      "text/plain": [
       "HBox(children=(HTML(value='Export report to file'), FloatProgress(value=0.0, max=1.0), HTML(value='')))"
      ]
     },
     "metadata": {},
     "output_type": "display_data"
    },
    {
     "name": "stdout",
     "output_type": "stream",
     "text": [
      "\n"
     ]
    },
    {
     "data": {
      "application/vnd.jupyter.widget-view+json": {
       "model_id": "61316cf1608e49ba97cd3ef29ece064c",
       "version_major": 2,
       "version_minor": 0
      },
      "text/plain": [
       "HBox(children=(HTML(value='Summarize dataset'), FloatProgress(value=0.0, max=376.0), HTML(value='')))"
      ]
     },
     "metadata": {},
     "output_type": "display_data"
    },
    {
     "name": "stdout",
     "output_type": "stream",
     "text": [
      "\n"
     ]
    },
    {
     "data": {
      "application/vnd.jupyter.widget-view+json": {
       "model_id": "5d53b803a9514e02bf78e347ba0db6bf",
       "version_major": 2,
       "version_minor": 0
      },
      "text/plain": [
       "HBox(children=(HTML(value='Generate report structure'), FloatProgress(value=0.0, max=1.0), HTML(value='')))"
      ]
     },
     "metadata": {},
     "output_type": "display_data"
    },
    {
     "name": "stdout",
     "output_type": "stream",
     "text": [
      "\n"
     ]
    },
    {
     "data": {
      "application/vnd.jupyter.widget-view+json": {
       "model_id": "9a33aa6d747f4b00a442e28b665aeea8",
       "version_major": 2,
       "version_minor": 0
      },
      "text/plain": [
       "HBox(children=(HTML(value='Render HTML'), FloatProgress(value=0.0, max=1.0), HTML(value='')))"
      ]
     },
     "metadata": {},
     "output_type": "display_data"
    },
    {
     "name": "stdout",
     "output_type": "stream",
     "text": [
      "\n"
     ]
    },
    {
     "data": {
      "application/vnd.jupyter.widget-view+json": {
       "model_id": "9efed098db8d4c309e6acbf9b45e69b0",
       "version_major": 2,
       "version_minor": 0
      },
      "text/plain": [
       "HBox(children=(HTML(value='Export report to file'), FloatProgress(value=0.0, max=1.0), HTML(value='')))"
      ]
     },
     "metadata": {},
     "output_type": "display_data"
    },
    {
     "name": "stdout",
     "output_type": "stream",
     "text": [
      "\n"
     ]
    },
    {
     "data": {
      "application/vnd.jupyter.widget-view+json": {
       "model_id": "a201a9006dd64de1968d6016f11d7127",
       "version_major": 2,
       "version_minor": 0
      },
      "text/plain": [
       "HBox(children=(HTML(value='Summarize dataset'), FloatProgress(value=0.0, max=375.0), HTML(value='')))"
      ]
     },
     "metadata": {},
     "output_type": "display_data"
    },
    {
     "name": "stdout",
     "output_type": "stream",
     "text": [
      "\n"
     ]
    },
    {
     "data": {
      "application/vnd.jupyter.widget-view+json": {
       "model_id": "04ceb122a93c4d86b91d72f0354c9be9",
       "version_major": 2,
       "version_minor": 0
      },
      "text/plain": [
       "HBox(children=(HTML(value='Generate report structure'), FloatProgress(value=0.0, max=1.0), HTML(value='')))"
      ]
     },
     "metadata": {},
     "output_type": "display_data"
    },
    {
     "name": "stdout",
     "output_type": "stream",
     "text": [
      "\n"
     ]
    },
    {
     "data": {
      "application/vnd.jupyter.widget-view+json": {
       "model_id": "f8ee3d6f04164df7a4e2da7d67da7dbf",
       "version_major": 2,
       "version_minor": 0
      },
      "text/plain": [
       "HBox(children=(HTML(value='Render HTML'), FloatProgress(value=0.0, max=1.0), HTML(value='')))"
      ]
     },
     "metadata": {},
     "output_type": "display_data"
    },
    {
     "name": "stdout",
     "output_type": "stream",
     "text": [
      "\n"
     ]
    },
    {
     "data": {
      "application/vnd.jupyter.widget-view+json": {
       "model_id": "82186711b3184f7e92723dc8b6a67647",
       "version_major": 2,
       "version_minor": 0
      },
      "text/plain": [
       "HBox(children=(HTML(value='Export report to file'), FloatProgress(value=0.0, max=1.0), HTML(value='')))"
      ]
     },
     "metadata": {},
     "output_type": "display_data"
    },
    {
     "name": "stdout",
     "output_type": "stream",
     "text": [
      "\n",
      "CPU times: user 7min 2s, sys: 44.7 s, total: 7min 47s\n",
      "Wall time: 6min 42s\n"
     ]
    }
   ],
   "source": [
    "%%time\n",
    "# Make output files\n",
    "profile_azdias.to_file(output_file='output_azdias.html')\n",
    "profile_customers.to_file(output_file='output_customers.html')\n",
    "profile_mailout_train.to_file(output_file='output_mailout_train.html')\n",
    "profile_mailout_test.to_file(output_file='output_mailout_test.html')"
   ]
  },
  {
   "cell_type": "markdown",
   "metadata": {},
   "source": [
    "#### Summary of findings\n",
    "1. 'LNR'column represents ids of customers/users. Therefore, it has 100% distinct values.\n",
    "2. 'EINGEFUEGT_AM'column has categorical variables instead of datetime type\n",
    "3. Inconsistency in filling in unknown variables such as:\n",
    "    * In 'AGER_TYP' column unknown data have values = -1\n",
    "    * In 'ALTER_HH' column unknown data has values = 0\n",
    "4. Mainly, the warnings show eather missing values or zeros in the datasets. NULL and zero values vary from 4-20% to more than 80-90%.\n",
    "\n",
    "#### Next steps in data cleaning\n",
    "1. Change datatype from categorical to datetime for 'EINGEFUEGT_AM' column\n",
    "2. Unify missing values by replacing unknown data by NULL values\n",
    "3. Check the datasets for missing values\n",
    "4. Delete columns with more than 30% of missing data\n",
    "5. Check categorical variables in columns and apply one hot encoding if there is a need to do that"
   ]
  },
  {
   "cell_type": "markdown",
   "metadata": {},
   "source": [
    "### 0.5 Data cleaning"
   ]
  },
  {
   "cell_type": "code",
   "execution_count": 35,
   "metadata": {},
   "outputs": [],
   "source": [
    "# Create copies of dataframes\n",
    "azdias_clean = azdias.copy()\n",
    "customers_clean = customers.copy()"
   ]
  },
  {
   "cell_type": "markdown",
   "metadata": {},
   "source": [
    "#### 0.5.1 Change datatype for 'AINGEFUGT_AM' column"
   ]
  },
  {
   "cell_type": "code",
   "execution_count": 36,
   "metadata": {},
   "outputs": [
    {
     "data": {
      "text/plain": [
       "0                    NaN\n",
       "1    1992-02-10 00:00:00\n",
       "2    1992-02-12 00:00:00\n",
       "Name: EINGEFUEGT_AM, dtype: object"
      ]
     },
     "execution_count": 36,
     "metadata": {},
     "output_type": "execute_result"
    }
   ],
   "source": [
    "# Let's have a look at the column\n",
    "azdias_clean['EINGEFUEGT_AM'].head(3)"
   ]
  },
  {
   "cell_type": "code",
   "execution_count": 37,
   "metadata": {},
   "outputs": [],
   "source": [
    "# Function for changing data type\n",
    "def change_to_datetime(df):\n",
    "    \"\"\"\n",
    "    This function changes 'EINGEFUEGT_AM' column's data type to datetime\n",
    "    \"\"\"\n",
    "    df['EINGEFUEGT_AM'] = pd.to_datetime(df['EINGEFUEGT_AM'], format='%Y-%m-%d %H:%M:%S')\n",
    "    return df"
   ]
  },
  {
   "cell_type": "code",
   "execution_count": 38,
   "metadata": {},
   "outputs": [],
   "source": [
    "# Change to datetime\n",
    "azdias_clean = change_to_datetime(azdias_clean)\n",
    "customers_clean = change_to_datetime(customers_clean)"
   ]
  },
  {
   "cell_type": "code",
   "execution_count": 39,
   "metadata": {},
   "outputs": [
    {
     "data": {
      "text/plain": [
       "0          NaT\n",
       "1   1992-02-10\n",
       "2   1992-02-12\n",
       "Name: EINGEFUEGT_AM, dtype: datetime64[ns]"
      ]
     },
     "execution_count": 39,
     "metadata": {},
     "output_type": "execute_result"
    }
   ],
   "source": [
    "azdias_clean['EINGEFUEGT_AM'].head(3)"
   ]
  },
  {
   "cell_type": "markdown",
   "metadata": {},
   "source": [
    "In order to get a numeric representation of datetime data, let's create columns with year and month"
   ]
  },
  {
   "cell_type": "code",
   "execution_count": 40,
   "metadata": {},
   "outputs": [],
   "source": [
    "def get_year_month(df):\n",
    "    \"\"\"\n",
    "    Returns columns with year and month and deletes 'EINGEFUEGT_AM' column\n",
    "    \"\"\"\n",
    "    df['EINGEFUEGT_AM_YEAR'], df['EINGEFUEGT_AM_MONTH'] = df['EINGEFUEGT_AM'].dt.year, df['EINGEFUEGT_AM'].dt.month\n",
    "    df.drop(columns=['EINGEFUEGT_AM'], inplace=True)\n",
    "    return df"
   ]
  },
  {
   "cell_type": "code",
   "execution_count": 41,
   "metadata": {},
   "outputs": [],
   "source": [
    "azdias_clean = get_year_month(azdias_clean)\n",
    "customers_clean = get_year_month(customers_clean)"
   ]
  },
  {
   "cell_type": "code",
   "execution_count": 42,
   "metadata": {},
   "outputs": [
    {
     "data": {
      "text/html": [
       "<div>\n",
       "<style scoped>\n",
       "    .dataframe tbody tr th:only-of-type {\n",
       "        vertical-align: middle;\n",
       "    }\n",
       "\n",
       "    .dataframe tbody tr th {\n",
       "        vertical-align: top;\n",
       "    }\n",
       "\n",
       "    .dataframe thead th {\n",
       "        text-align: right;\n",
       "    }\n",
       "</style>\n",
       "<table border=\"1\" class=\"dataframe\">\n",
       "  <thead>\n",
       "    <tr style=\"text-align: right;\">\n",
       "      <th></th>\n",
       "      <th>EINGEFUEGT_AM_YEAR</th>\n",
       "      <th>EINGEFUEGT_AM_MONTH</th>\n",
       "    </tr>\n",
       "  </thead>\n",
       "  <tbody>\n",
       "    <tr>\n",
       "      <th>0</th>\n",
       "      <td>NaN</td>\n",
       "      <td>NaN</td>\n",
       "    </tr>\n",
       "    <tr>\n",
       "      <th>1</th>\n",
       "      <td>1992.0</td>\n",
       "      <td>2.0</td>\n",
       "    </tr>\n",
       "    <tr>\n",
       "      <th>2</th>\n",
       "      <td>1992.0</td>\n",
       "      <td>2.0</td>\n",
       "    </tr>\n",
       "    <tr>\n",
       "      <th>3</th>\n",
       "      <td>1997.0</td>\n",
       "      <td>4.0</td>\n",
       "    </tr>\n",
       "    <tr>\n",
       "      <th>4</th>\n",
       "      <td>1992.0</td>\n",
       "      <td>2.0</td>\n",
       "    </tr>\n",
       "    <tr>\n",
       "      <th>...</th>\n",
       "      <td>...</td>\n",
       "      <td>...</td>\n",
       "    </tr>\n",
       "    <tr>\n",
       "      <th>891216</th>\n",
       "      <td>1992.0</td>\n",
       "      <td>2.0</td>\n",
       "    </tr>\n",
       "    <tr>\n",
       "      <th>891217</th>\n",
       "      <td>1992.0</td>\n",
       "      <td>2.0</td>\n",
       "    </tr>\n",
       "    <tr>\n",
       "      <th>891218</th>\n",
       "      <td>1992.0</td>\n",
       "      <td>2.0</td>\n",
       "    </tr>\n",
       "    <tr>\n",
       "      <th>891219</th>\n",
       "      <td>1992.0</td>\n",
       "      <td>2.0</td>\n",
       "    </tr>\n",
       "    <tr>\n",
       "      <th>891220</th>\n",
       "      <td>1992.0</td>\n",
       "      <td>2.0</td>\n",
       "    </tr>\n",
       "  </tbody>\n",
       "</table>\n",
       "<p>891221 rows × 2 columns</p>\n",
       "</div>"
      ],
      "text/plain": [
       "        EINGEFUEGT_AM_YEAR  EINGEFUEGT_AM_MONTH\n",
       "0                      NaN                  NaN\n",
       "1                   1992.0                  2.0\n",
       "2                   1992.0                  2.0\n",
       "3                   1997.0                  4.0\n",
       "4                   1992.0                  2.0\n",
       "...                    ...                  ...\n",
       "891216              1992.0                  2.0\n",
       "891217              1992.0                  2.0\n",
       "891218              1992.0                  2.0\n",
       "891219              1992.0                  2.0\n",
       "891220              1992.0                  2.0\n",
       "\n",
       "[891221 rows x 2 columns]"
      ]
     },
     "execution_count": 42,
     "metadata": {},
     "output_type": "execute_result"
    }
   ],
   "source": [
    "# Check the results\n",
    "azdias_clean[['EINGEFUEGT_AM_YEAR', 'EINGEFUEGT_AM_MONTH']]"
   ]
  },
  {
   "cell_type": "markdown",
   "metadata": {},
   "source": [
    "#### 0.5.2 Unify missing values"
   ]
  },
  {
   "cell_type": "code",
   "execution_count": 43,
   "metadata": {},
   "outputs": [
    {
     "data": {
      "text/plain": [
       "unknown                            232\n",
       "average                            162\n",
       "low                                154\n",
       "high                               154\n",
       "very high                          142\n",
       "very low                           139\n",
       "none                               138\n",
       "Singlebuyer 0-12 months             34\n",
       "Singlebuyer 13-24 months            34\n",
       "Multibuyer 0-12 months              34\n",
       "Multi-/Doublebuyer 13-24 months     34\n",
       "Prospects > 24 months               34\n",
       "Buyer > 24 months                   34\n",
       "Doublebuyer 0-12 months             34\n",
       "no transaction known                34\n",
       "no transactions known               22\n",
       "lowest affinity                     14\n",
       "very low affinity                   14\n",
       "high affinity                       14\n",
       "low affinity                        14\n",
       "Name: Meaning, dtype: int64"
      ]
     },
     "execution_count": 43,
     "metadata": {},
     "output_type": "execute_result"
    }
   ],
   "source": [
    "# Let's have a closer look at 'Meaning' column in attribute values\n",
    "attributes_vals['Meaning'].value_counts()[:20]"
   ]
  },
  {
   "cell_type": "code",
   "execution_count": 44,
   "metadata": {},
   "outputs": [
    {
     "name": "stdout",
     "output_type": "stream",
     "text": [
      "232\n"
     ]
    }
   ],
   "source": [
    "unknown_attributes_vals = attributes_vals[attributes_vals[\"Meaning\"] == \"unknown\"]\n",
    "print(len(unknown_attributes_vals))"
   ]
  },
  {
   "cell_type": "code",
   "execution_count": 45,
   "metadata": {},
   "outputs": [
    {
     "data": {
      "text/html": [
       "<div>\n",
       "<style scoped>\n",
       "    .dataframe tbody tr th:only-of-type {\n",
       "        vertical-align: middle;\n",
       "    }\n",
       "\n",
       "    .dataframe tbody tr th {\n",
       "        vertical-align: top;\n",
       "    }\n",
       "\n",
       "    .dataframe thead th {\n",
       "        text-align: right;\n",
       "    }\n",
       "</style>\n",
       "<table border=\"1\" class=\"dataframe\">\n",
       "  <thead>\n",
       "    <tr style=\"text-align: right;\">\n",
       "      <th></th>\n",
       "      <th>Attribute</th>\n",
       "      <th>Description</th>\n",
       "      <th>Value</th>\n",
       "      <th>Meaning</th>\n",
       "    </tr>\n",
       "  </thead>\n",
       "  <tbody>\n",
       "    <tr>\n",
       "      <th>0</th>\n",
       "      <td>AGER_TYP</td>\n",
       "      <td>best-ager typology</td>\n",
       "      <td>-1</td>\n",
       "      <td>unknown</td>\n",
       "    </tr>\n",
       "    <tr>\n",
       "      <th>5</th>\n",
       "      <td>ALTERSKATEGORIE_GROB</td>\n",
       "      <td>age classification through prename analysis</td>\n",
       "      <td>-1, 0</td>\n",
       "      <td>unknown</td>\n",
       "    </tr>\n",
       "    <tr>\n",
       "      <th>33</th>\n",
       "      <td>ANREDE_KZ</td>\n",
       "      <td>gender</td>\n",
       "      <td>-1, 0</td>\n",
       "      <td>unknown</td>\n",
       "    </tr>\n",
       "    <tr>\n",
       "      <th>40</th>\n",
       "      <td>BALLRAUM</td>\n",
       "      <td>distance to next urban centre</td>\n",
       "      <td>-1</td>\n",
       "      <td>unknown</td>\n",
       "    </tr>\n",
       "    <tr>\n",
       "      <th>48</th>\n",
       "      <td>BIP_FLAG</td>\n",
       "      <td>business-flag indicating companies in the buil...</td>\n",
       "      <td>-1</td>\n",
       "      <td>unknown</td>\n",
       "    </tr>\n",
       "    <tr>\n",
       "      <th>...</th>\n",
       "      <td>...</td>\n",
       "      <td>...</td>\n",
       "      <td>...</td>\n",
       "      <td>...</td>\n",
       "    </tr>\n",
       "    <tr>\n",
       "      <th>2219</th>\n",
       "      <td>WOHNDAUER_2008</td>\n",
       "      <td>length of residence</td>\n",
       "      <td>-1, 0</td>\n",
       "      <td>unknown</td>\n",
       "    </tr>\n",
       "    <tr>\n",
       "      <th>2229</th>\n",
       "      <td>WOHNLAGE</td>\n",
       "      <td>residential-area</td>\n",
       "      <td>-1</td>\n",
       "      <td>unknown</td>\n",
       "    </tr>\n",
       "    <tr>\n",
       "      <th>2238</th>\n",
       "      <td>WACHSTUMSGEBIET_NB</td>\n",
       "      <td>growing area (population growth in the last 5 ...</td>\n",
       "      <td>-1, 0</td>\n",
       "      <td>unknown</td>\n",
       "    </tr>\n",
       "    <tr>\n",
       "      <th>2244</th>\n",
       "      <td>W_KEIT_KIND_HH</td>\n",
       "      <td>likelihood of a child present in this household</td>\n",
       "      <td>-1, 0</td>\n",
       "      <td>unknown</td>\n",
       "    </tr>\n",
       "    <tr>\n",
       "      <th>2251</th>\n",
       "      <td>ZABEOTYP</td>\n",
       "      <td>typification of energy consumers</td>\n",
       "      <td>-1, 9</td>\n",
       "      <td>unknown</td>\n",
       "    </tr>\n",
       "  </tbody>\n",
       "</table>\n",
       "<p>232 rows × 4 columns</p>\n",
       "</div>"
      ],
      "text/plain": [
       "                 Attribute                                        Description  \\\n",
       "0                 AGER_TYP                                 best-ager typology   \n",
       "5     ALTERSKATEGORIE_GROB       age classification through prename analysis    \n",
       "33               ANREDE_KZ                                             gender   \n",
       "40                BALLRAUM                     distance to next urban centre    \n",
       "48                BIP_FLAG  business-flag indicating companies in the buil...   \n",
       "...                    ...                                                ...   \n",
       "2219        WOHNDAUER_2008                                length of residence   \n",
       "2229              WOHNLAGE                                  residential-area    \n",
       "2238    WACHSTUMSGEBIET_NB  growing area (population growth in the last 5 ...   \n",
       "2244        W_KEIT_KIND_HH    likelihood of a child present in this household   \n",
       "2251              ZABEOTYP                   typification of energy consumers   \n",
       "\n",
       "      Value  Meaning  \n",
       "0        -1  unknown  \n",
       "5     -1, 0  unknown  \n",
       "33    -1, 0  unknown  \n",
       "40       -1  unknown  \n",
       "48       -1  unknown  \n",
       "...     ...      ...  \n",
       "2219  -1, 0  unknown  \n",
       "2229     -1  unknown  \n",
       "2238  -1, 0  unknown  \n",
       "2244  -1, 0  unknown  \n",
       "2251  -1, 9  unknown  \n",
       "\n",
       "[232 rows x 4 columns]"
      ]
     },
     "execution_count": 45,
     "metadata": {},
     "output_type": "execute_result"
    }
   ],
   "source": [
    "# Have a look at unknown attribute values\n",
    "unknown_attributes_vals"
   ]
  },
  {
   "cell_type": "code",
   "execution_count": 46,
   "metadata": {},
   "outputs": [],
   "source": [
    "def get_unknown_val(attribute, unknown_attributes_vals):\n",
    "    \"\"\"\n",
    "    Shows unknown value for a specific attribute\n",
    "    \"\"\"\n",
    "    \n",
    "    unknown = unknown_attributes_vals[unknown_attributes_vals[\"Attribute\"] == attribute][\"Value\"]\n",
    "    unknown = unknown.astype(str).str.cat(sep=\",\")\n",
    "    unknown = [int(x) for x in unknown.split(\",\")]\n",
    "      \n",
    "    return [unknown]"
   ]
  },
  {
   "cell_type": "code",
   "execution_count": 47,
   "metadata": {},
   "outputs": [
    {
     "name": "stdout",
     "output_type": "stream",
     "text": [
      "[[-1]]\n"
     ]
    }
   ],
   "source": [
    "# Check get_unknown_val function\n",
    "ager_typ_unknown = get_unknown_val(\"AGER_TYP\", unknown_attributes_vals)\n",
    "print(ager_typ_unknown)"
   ]
  },
  {
   "cell_type": "code",
   "execution_count": 48,
   "metadata": {},
   "outputs": [],
   "source": [
    "def change_unknown_by_null(value, unknown):\n",
    "    \"\"\"\n",
    "    Replaces unknown values with NULL values if the value mathes with the unknown representation\n",
    "    \"\"\"\n",
    "    if value in unknown:\n",
    "        return np.nan\n",
    "    else:\n",
    "        return value"
   ]
  },
  {
   "cell_type": "code",
   "execution_count": 49,
   "metadata": {},
   "outputs": [
    {
     "name": "stdout",
     "output_type": "stream",
     "text": [
      "CPU times: user 576 ms, sys: 218 ms, total: 794 ms\n",
      "Wall time: 804 ms\n"
     ]
    }
   ],
   "source": [
    "%%time\n",
    "# test tunctions above\n",
    "azdias_clean[\"AGER_TYP\"] = azdias[\"AGER_TYP\"].apply(change_unknown_by_null, args=(ager_typ_unknown))"
   ]
  },
  {
   "cell_type": "code",
   "execution_count": 50,
   "metadata": {},
   "outputs": [
    {
     "data": {
      "text/plain": [
       "677503"
      ]
     },
     "execution_count": 50,
     "metadata": {},
     "output_type": "execute_result"
    }
   ],
   "source": [
    "# After replacing\n",
    "azdias_clean[\"AGER_TYP\"].isnull().sum()"
   ]
  },
  {
   "cell_type": "code",
   "execution_count": 51,
   "metadata": {},
   "outputs": [
    {
     "data": {
      "text/plain": [
       "0"
      ]
     },
     "execution_count": 51,
     "metadata": {},
     "output_type": "execute_result"
    }
   ],
   "source": [
    "# Before replacing\n",
    "azdias[\"AGER_TYP\"].isnull().sum()"
   ]
  },
  {
   "cell_type": "code",
   "execution_count": 52,
   "metadata": {},
   "outputs": [],
   "source": [
    "def replace_unknowns_with_null(df, unknown_attributes_vals, verbose=False):\n",
    "    \"\"\"\n",
    "    Replaces unknown values by NULL based on unknown_attributes_vals list.\n",
    "    \"\"\"\n",
    "    for attribute in unknown_attributes_vals.Attribute:\n",
    "        unknown = get_unknown_val(attribute, unknown_attributes_vals)\n",
    "        if verbose:\n",
    "            print(\"Replaced {} to NaN in attribute {}\".format(unknown, attribute))\n",
    "        if attribute in df.columns:\n",
    "            df[attribute] = df[attribute].apply(change_unknown_by_null, args=(unknown))\n",
    "    return df"
   ]
  },
  {
   "cell_type": "code",
   "execution_count": 53,
   "metadata": {},
   "outputs": [
    {
     "data": {
      "text/html": [
       "<div>\n",
       "<style scoped>\n",
       "    .dataframe tbody tr th:only-of-type {\n",
       "        vertical-align: middle;\n",
       "    }\n",
       "\n",
       "    .dataframe tbody tr th {\n",
       "        vertical-align: top;\n",
       "    }\n",
       "\n",
       "    .dataframe thead th {\n",
       "        text-align: right;\n",
       "    }\n",
       "</style>\n",
       "<table border=\"1\" class=\"dataframe\">\n",
       "  <thead>\n",
       "    <tr style=\"text-align: right;\">\n",
       "      <th></th>\n",
       "      <th>LNR</th>\n",
       "      <th>AGER_TYP</th>\n",
       "      <th>AKT_DAT_KL</th>\n",
       "      <th>ALTER_HH</th>\n",
       "      <th>ALTER_KIND1</th>\n",
       "      <th>ALTER_KIND2</th>\n",
       "      <th>ALTER_KIND3</th>\n",
       "      <th>ALTER_KIND4</th>\n",
       "      <th>ALTERSKATEGORIE_FEIN</th>\n",
       "      <th>ANZ_HAUSHALTE_AKTIV</th>\n",
       "      <th>...</th>\n",
       "      <th>VK_DISTANZ</th>\n",
       "      <th>VK_ZG11</th>\n",
       "      <th>W_KEIT_KIND_HH</th>\n",
       "      <th>WOHNDAUER_2008</th>\n",
       "      <th>WOHNLAGE</th>\n",
       "      <th>ZABEOTYP</th>\n",
       "      <th>ANREDE_KZ</th>\n",
       "      <th>ALTERSKATEGORIE_GROB</th>\n",
       "      <th>EINGEFUEGT_AM_YEAR</th>\n",
       "      <th>EINGEFUEGT_AM_MONTH</th>\n",
       "    </tr>\n",
       "  </thead>\n",
       "  <tbody>\n",
       "    <tr>\n",
       "      <th>0</th>\n",
       "      <td>910215</td>\n",
       "      <td>NaN</td>\n",
       "      <td>NaN</td>\n",
       "      <td>NaN</td>\n",
       "      <td>NaN</td>\n",
       "      <td>NaN</td>\n",
       "      <td>NaN</td>\n",
       "      <td>NaN</td>\n",
       "      <td>NaN</td>\n",
       "      <td>NaN</td>\n",
       "      <td>...</td>\n",
       "      <td>NaN</td>\n",
       "      <td>NaN</td>\n",
       "      <td>NaN</td>\n",
       "      <td>NaN</td>\n",
       "      <td>NaN</td>\n",
       "      <td>3</td>\n",
       "      <td>1</td>\n",
       "      <td>2</td>\n",
       "      <td>NaN</td>\n",
       "      <td>NaN</td>\n",
       "    </tr>\n",
       "    <tr>\n",
       "      <th>1</th>\n",
       "      <td>910220</td>\n",
       "      <td>NaN</td>\n",
       "      <td>9.0</td>\n",
       "      <td>0.0</td>\n",
       "      <td>NaN</td>\n",
       "      <td>NaN</td>\n",
       "      <td>NaN</td>\n",
       "      <td>NaN</td>\n",
       "      <td>21.0</td>\n",
       "      <td>11.0</td>\n",
       "      <td>...</td>\n",
       "      <td>11.0</td>\n",
       "      <td>10.0</td>\n",
       "      <td>3.0</td>\n",
       "      <td>9.0</td>\n",
       "      <td>4.0</td>\n",
       "      <td>5</td>\n",
       "      <td>2</td>\n",
       "      <td>1</td>\n",
       "      <td>1992.0</td>\n",
       "      <td>2.0</td>\n",
       "    </tr>\n",
       "    <tr>\n",
       "      <th>2</th>\n",
       "      <td>910225</td>\n",
       "      <td>NaN</td>\n",
       "      <td>9.0</td>\n",
       "      <td>17.0</td>\n",
       "      <td>NaN</td>\n",
       "      <td>NaN</td>\n",
       "      <td>NaN</td>\n",
       "      <td>NaN</td>\n",
       "      <td>17.0</td>\n",
       "      <td>10.0</td>\n",
       "      <td>...</td>\n",
       "      <td>9.0</td>\n",
       "      <td>6.0</td>\n",
       "      <td>3.0</td>\n",
       "      <td>9.0</td>\n",
       "      <td>2.0</td>\n",
       "      <td>5</td>\n",
       "      <td>2</td>\n",
       "      <td>3</td>\n",
       "      <td>1992.0</td>\n",
       "      <td>2.0</td>\n",
       "    </tr>\n",
       "    <tr>\n",
       "      <th>3</th>\n",
       "      <td>910226</td>\n",
       "      <td>2.0</td>\n",
       "      <td>1.0</td>\n",
       "      <td>13.0</td>\n",
       "      <td>NaN</td>\n",
       "      <td>NaN</td>\n",
       "      <td>NaN</td>\n",
       "      <td>NaN</td>\n",
       "      <td>13.0</td>\n",
       "      <td>1.0</td>\n",
       "      <td>...</td>\n",
       "      <td>10.0</td>\n",
       "      <td>11.0</td>\n",
       "      <td>NaN</td>\n",
       "      <td>9.0</td>\n",
       "      <td>7.0</td>\n",
       "      <td>3</td>\n",
       "      <td>2</td>\n",
       "      <td>4</td>\n",
       "      <td>1997.0</td>\n",
       "      <td>4.0</td>\n",
       "    </tr>\n",
       "    <tr>\n",
       "      <th>4</th>\n",
       "      <td>910241</td>\n",
       "      <td>NaN</td>\n",
       "      <td>1.0</td>\n",
       "      <td>20.0</td>\n",
       "      <td>NaN</td>\n",
       "      <td>NaN</td>\n",
       "      <td>NaN</td>\n",
       "      <td>NaN</td>\n",
       "      <td>14.0</td>\n",
       "      <td>3.0</td>\n",
       "      <td>...</td>\n",
       "      <td>5.0</td>\n",
       "      <td>4.0</td>\n",
       "      <td>2.0</td>\n",
       "      <td>9.0</td>\n",
       "      <td>3.0</td>\n",
       "      <td>4</td>\n",
       "      <td>1</td>\n",
       "      <td>3</td>\n",
       "      <td>1992.0</td>\n",
       "      <td>2.0</td>\n",
       "    </tr>\n",
       "    <tr>\n",
       "      <th>5</th>\n",
       "      <td>910244</td>\n",
       "      <td>3.0</td>\n",
       "      <td>1.0</td>\n",
       "      <td>10.0</td>\n",
       "      <td>NaN</td>\n",
       "      <td>NaN</td>\n",
       "      <td>NaN</td>\n",
       "      <td>NaN</td>\n",
       "      <td>10.0</td>\n",
       "      <td>5.0</td>\n",
       "      <td>...</td>\n",
       "      <td>7.0</td>\n",
       "      <td>4.0</td>\n",
       "      <td>6.0</td>\n",
       "      <td>9.0</td>\n",
       "      <td>7.0</td>\n",
       "      <td>4</td>\n",
       "      <td>2</td>\n",
       "      <td>1</td>\n",
       "      <td>1992.0</td>\n",
       "      <td>2.0</td>\n",
       "    </tr>\n",
       "    <tr>\n",
       "      <th>6</th>\n",
       "      <td>910248</td>\n",
       "      <td>NaN</td>\n",
       "      <td>9.0</td>\n",
       "      <td>0.0</td>\n",
       "      <td>NaN</td>\n",
       "      <td>NaN</td>\n",
       "      <td>NaN</td>\n",
       "      <td>NaN</td>\n",
       "      <td>NaN</td>\n",
       "      <td>4.0</td>\n",
       "      <td>...</td>\n",
       "      <td>10.0</td>\n",
       "      <td>10.0</td>\n",
       "      <td>3.0</td>\n",
       "      <td>9.0</td>\n",
       "      <td>5.0</td>\n",
       "      <td>4</td>\n",
       "      <td>2</td>\n",
       "      <td>2</td>\n",
       "      <td>1992.0</td>\n",
       "      <td>2.0</td>\n",
       "    </tr>\n",
       "    <tr>\n",
       "      <th>7</th>\n",
       "      <td>910261</td>\n",
       "      <td>NaN</td>\n",
       "      <td>1.0</td>\n",
       "      <td>14.0</td>\n",
       "      <td>NaN</td>\n",
       "      <td>NaN</td>\n",
       "      <td>NaN</td>\n",
       "      <td>NaN</td>\n",
       "      <td>14.0</td>\n",
       "      <td>6.0</td>\n",
       "      <td>...</td>\n",
       "      <td>12.0</td>\n",
       "      <td>9.0</td>\n",
       "      <td>5.0</td>\n",
       "      <td>9.0</td>\n",
       "      <td>1.0</td>\n",
       "      <td>1</td>\n",
       "      <td>1</td>\n",
       "      <td>1</td>\n",
       "      <td>1992.0</td>\n",
       "      <td>2.0</td>\n",
       "    </tr>\n",
       "    <tr>\n",
       "      <th>8</th>\n",
       "      <td>645145</td>\n",
       "      <td>NaN</td>\n",
       "      <td>9.0</td>\n",
       "      <td>16.0</td>\n",
       "      <td>NaN</td>\n",
       "      <td>NaN</td>\n",
       "      <td>NaN</td>\n",
       "      <td>NaN</td>\n",
       "      <td>16.0</td>\n",
       "      <td>2.0</td>\n",
       "      <td>...</td>\n",
       "      <td>11.0</td>\n",
       "      <td>8.0</td>\n",
       "      <td>5.0</td>\n",
       "      <td>8.0</td>\n",
       "      <td>1.0</td>\n",
       "      <td>6</td>\n",
       "      <td>1</td>\n",
       "      <td>3</td>\n",
       "      <td>1992.0</td>\n",
       "      <td>2.0</td>\n",
       "    </tr>\n",
       "    <tr>\n",
       "      <th>9</th>\n",
       "      <td>645153</td>\n",
       "      <td>NaN</td>\n",
       "      <td>5.0</td>\n",
       "      <td>17.0</td>\n",
       "      <td>NaN</td>\n",
       "      <td>NaN</td>\n",
       "      <td>NaN</td>\n",
       "      <td>NaN</td>\n",
       "      <td>17.0</td>\n",
       "      <td>9.0</td>\n",
       "      <td>...</td>\n",
       "      <td>1.0</td>\n",
       "      <td>1.0</td>\n",
       "      <td>4.0</td>\n",
       "      <td>3.0</td>\n",
       "      <td>7.0</td>\n",
       "      <td>4</td>\n",
       "      <td>2</td>\n",
       "      <td>3</td>\n",
       "      <td>1992.0</td>\n",
       "      <td>2.0</td>\n",
       "    </tr>\n",
       "  </tbody>\n",
       "</table>\n",
       "<p>10 rows × 367 columns</p>\n",
       "</div>"
      ],
      "text/plain": [
       "      LNR  AGER_TYP  AKT_DAT_KL  ALTER_HH  ALTER_KIND1  ALTER_KIND2  \\\n",
       "0  910215       NaN         NaN       NaN          NaN          NaN   \n",
       "1  910220       NaN         9.0       0.0          NaN          NaN   \n",
       "2  910225       NaN         9.0      17.0          NaN          NaN   \n",
       "3  910226       2.0         1.0      13.0          NaN          NaN   \n",
       "4  910241       NaN         1.0      20.0          NaN          NaN   \n",
       "5  910244       3.0         1.0      10.0          NaN          NaN   \n",
       "6  910248       NaN         9.0       0.0          NaN          NaN   \n",
       "7  910261       NaN         1.0      14.0          NaN          NaN   \n",
       "8  645145       NaN         9.0      16.0          NaN          NaN   \n",
       "9  645153       NaN         5.0      17.0          NaN          NaN   \n",
       "\n",
       "   ALTER_KIND3  ALTER_KIND4  ALTERSKATEGORIE_FEIN  ANZ_HAUSHALTE_AKTIV  ...  \\\n",
       "0          NaN          NaN                   NaN                  NaN  ...   \n",
       "1          NaN          NaN                  21.0                 11.0  ...   \n",
       "2          NaN          NaN                  17.0                 10.0  ...   \n",
       "3          NaN          NaN                  13.0                  1.0  ...   \n",
       "4          NaN          NaN                  14.0                  3.0  ...   \n",
       "5          NaN          NaN                  10.0                  5.0  ...   \n",
       "6          NaN          NaN                   NaN                  4.0  ...   \n",
       "7          NaN          NaN                  14.0                  6.0  ...   \n",
       "8          NaN          NaN                  16.0                  2.0  ...   \n",
       "9          NaN          NaN                  17.0                  9.0  ...   \n",
       "\n",
       "   VK_DISTANZ  VK_ZG11  W_KEIT_KIND_HH  WOHNDAUER_2008  WOHNLAGE  ZABEOTYP  \\\n",
       "0         NaN      NaN             NaN             NaN       NaN         3   \n",
       "1        11.0     10.0             3.0             9.0       4.0         5   \n",
       "2         9.0      6.0             3.0             9.0       2.0         5   \n",
       "3        10.0     11.0             NaN             9.0       7.0         3   \n",
       "4         5.0      4.0             2.0             9.0       3.0         4   \n",
       "5         7.0      4.0             6.0             9.0       7.0         4   \n",
       "6        10.0     10.0             3.0             9.0       5.0         4   \n",
       "7        12.0      9.0             5.0             9.0       1.0         1   \n",
       "8        11.0      8.0             5.0             8.0       1.0         6   \n",
       "9         1.0      1.0             4.0             3.0       7.0         4   \n",
       "\n",
       "   ANREDE_KZ ALTERSKATEGORIE_GROB  EINGEFUEGT_AM_YEAR  EINGEFUEGT_AM_MONTH  \n",
       "0          1                    2                 NaN                  NaN  \n",
       "1          2                    1              1992.0                  2.0  \n",
       "2          2                    3              1992.0                  2.0  \n",
       "3          2                    4              1997.0                  4.0  \n",
       "4          1                    3              1992.0                  2.0  \n",
       "5          2                    1              1992.0                  2.0  \n",
       "6          2                    2              1992.0                  2.0  \n",
       "7          1                    1              1992.0                  2.0  \n",
       "8          1                    3              1992.0                  2.0  \n",
       "9          2                    3              1992.0                  2.0  \n",
       "\n",
       "[10 rows x 367 columns]"
      ]
     },
     "execution_count": 53,
     "metadata": {},
     "output_type": "execute_result"
    }
   ],
   "source": [
    "# Azdias dataframe before replacing unknown values\n",
    "azdias_clean.head(10)"
   ]
  },
  {
   "cell_type": "code",
   "execution_count": 54,
   "metadata": {},
   "outputs": [
    {
     "name": "stdout",
     "output_type": "stream",
     "text": [
      "Replaced [[-1]] to NaN in attribute AGER_TYP\n",
      "Replaced [[-1, 0]] to NaN in attribute ALTERSKATEGORIE_GROB\n",
      "Replaced [[-1, 0]] to NaN in attribute ANREDE_KZ\n",
      "Replaced [[-1]] to NaN in attribute BALLRAUM\n",
      "Replaced [[-1]] to NaN in attribute BIP_FLAG\n",
      "Replaced [[-1]] to NaN in attribute CAMEO_DEUG_2015\n",
      "Replaced [[-1]] to NaN in attribute CAMEO_DEUINTL_2015\n",
      "Replaced [[0]] to NaN in attribute CJT_GESAMTTYP\n",
      "Replaced [[-1]] to NaN in attribute D19_KK_KUNDENTYP\n",
      "Replaced [[-1]] to NaN in attribute EWDICHTE\n",
      "Replaced [[-1]] to NaN in attribute FINANZTYP\n",
      "Replaced [[-1]] to NaN in attribute FINANZ_ANLEGER\n",
      "Replaced [[-1]] to NaN in attribute FINANZ_HAUSBAUER\n",
      "Replaced [[-1]] to NaN in attribute FINANZ_MINIMALIST\n",
      "Replaced [[-1]] to NaN in attribute FINANZ_SPARER\n",
      "Replaced [[-1]] to NaN in attribute FINANZ_UNAUFFAELLIGER\n",
      "Replaced [[-1]] to NaN in attribute FINANZ_VORSORGER\n",
      "Replaced [[-1, 0]] to NaN in attribute GEBAEUDETYP\n",
      "Replaced [[-1, 0]] to NaN in attribute GEOSCORE_KLS7\n",
      "Replaced [[-1, 0]] to NaN in attribute HAUSHALTSSTRUKTUR\n",
      "Replaced [[-1]] to NaN in attribute HEALTH_TYP\n",
      "Replaced [[-1, 0]] to NaN in attribute HH_EINKOMMEN_SCORE\n",
      "Replaced [[-1]] to NaN in attribute INNENSTADT\n",
      "Replaced [[-1, 9]] to NaN in attribute KBA05_ALTER1\n",
      "Replaced [[-1, 9]] to NaN in attribute KBA05_ALTER2\n",
      "Replaced [[-1, 9]] to NaN in attribute KBA05_ALTER3\n",
      "Replaced [[-1, 9]] to NaN in attribute KBA05_ALTER4\n",
      "Replaced [[-1, 9]] to NaN in attribute KBA05_ANHANG\n",
      "Replaced [[-1]] to NaN in attribute KBA05_ANTG1\n",
      "Replaced [[-1]] to NaN in attribute KBA05_ANTG2\n",
      "Replaced [[-1]] to NaN in attribute KBA05_ANTG3\n",
      "Replaced [[-1]] to NaN in attribute KBA05_ANTG4\n",
      "Replaced [[-1, 9]] to NaN in attribute KBA05_AUTOQUOT\n",
      "Replaced [[-1, 0]] to NaN in attribute KBA05_BAUMAX\n",
      "Replaced [[-1, 9]] to NaN in attribute KBA05_CCM1\n",
      "Replaced [[-1, 9]] to NaN in attribute KBA05_CCM2\n",
      "Replaced [[-1, 9]] to NaN in attribute KBA05_CCM3\n",
      "Replaced [[-1, 9]] to NaN in attribute KBA05_CCM4\n",
      "Replaced [[-1, 9]] to NaN in attribute KBA05_DIESEL\n",
      "Replaced [[-1, 9]] to NaN in attribute KBA05_FRAU\n",
      "Replaced [[-1, 0]] to NaN in attribute KBA05_GBZ\n",
      "Replaced [[-1, 9]] to NaN in attribute KBA05_HERST1\n",
      "Replaced [[-1, 9]] to NaN in attribute KBA05_HERST2\n",
      "Replaced [[-1, 9]] to NaN in attribute KBA05_HERST3\n",
      "Replaced [[-1, 9]] to NaN in attribute KBA05_HERST4\n",
      "Replaced [[-1, 9]] to NaN in attribute KBA05_HERST5\n",
      "Replaced [[-1, 9]] to NaN in attribute KBA05_HERSTTEMP\n",
      "Replaced [[-1, 9]] to NaN in attribute KBA05_KRSAQUOT\n",
      "Replaced [[-1, 9]] to NaN in attribute KBA05_KRSHERST1\n",
      "Replaced [[-1, 9]] to NaN in attribute KBA05_KRSHERST2\n",
      "Replaced [[-1, 9]] to NaN in attribute KBA05_KRSHERST3\n",
      "Replaced [[-1, 9]] to NaN in attribute KBA05_KRSKLEIN\n",
      "Replaced [[-1, 9]] to NaN in attribute KBA05_KRSOBER\n",
      "Replaced [[-1, 9]] to NaN in attribute KBA05_KRSVAN\n",
      "Replaced [[-1, 9]] to NaN in attribute KBA05_KRSZUL\n",
      "Replaced [[-1, 9]] to NaN in attribute KBA05_KW1\n",
      "Replaced [[-1, 9]] to NaN in attribute KBA05_KW2\n",
      "Replaced [[-1, 9]] to NaN in attribute KBA05_KW3\n",
      "Replaced [[-1, 9]] to NaN in attribute KBA05_MAXAH\n",
      "Replaced [[-1, 9]] to NaN in attribute KBA05_MAXBJ\n",
      "Replaced [[-1, 9]] to NaN in attribute KBA05_MAXHERST\n",
      "Replaced [[-1, 9]] to NaN in attribute KBA05_MAXSEG\n",
      "Replaced [[-1, 9]] to NaN in attribute KBA05_MAXVORB\n",
      "Replaced [[-1, 9]] to NaN in attribute KBA05_MOD1\n",
      "Replaced [[-1, 9]] to NaN in attribute KBA05_MOD2\n",
      "Replaced [[-1, 9]] to NaN in attribute KBA05_MOD3\n",
      "Replaced [[-1, 9]] to NaN in attribute KBA05_MOD4\n",
      "Replaced [[-1, 9]] to NaN in attribute KBA05_MOD8\n",
      "Replaced [[-1, 9]] to NaN in attribute KBA05_MODTEMP\n",
      "Replaced [[-1, 9]] to NaN in attribute KBA05_MOTOR\n",
      "Replaced [[-1, 9]] to NaN in attribute KBA05_MOTRAD\n",
      "Replaced [[-1, 9]] to NaN in attribute KBA05_SEG1\n",
      "Replaced [[-1, 9]] to NaN in attribute KBA05_SEG10\n",
      "Replaced [[-1, 9]] to NaN in attribute KBA05_SEG2\n",
      "Replaced [[-1, 9]] to NaN in attribute KBA05_SEG3\n",
      "Replaced [[-1, 9]] to NaN in attribute KBA05_SEG4\n",
      "Replaced [[-1, 9]] to NaN in attribute KBA05_SEG5\n",
      "Replaced [[-1, 9]] to NaN in attribute KBA05_SEG6\n",
      "Replaced [[-1, 9]] to NaN in attribute KBA05_SEG7\n",
      "Replaced [[-1, 9]] to NaN in attribute KBA05_SEG8\n",
      "Replaced [[-1, 9]] to NaN in attribute KBA05_SEG9\n",
      "Replaced [[-1, 9]] to NaN in attribute KBA05_VORB0\n",
      "Replaced [[-1, 9]] to NaN in attribute KBA05_VORB1\n",
      "Replaced [[-1, 9]] to NaN in attribute KBA05_VORB2\n",
      "Replaced [[-1, 9]] to NaN in attribute KBA05_ZUL1\n",
      "Replaced [[-1, 9]] to NaN in attribute KBA05_ZUL2\n",
      "Replaced [[-1, 9]] to NaN in attribute KBA05_ZUL3\n",
      "Replaced [[-1, 9]] to NaN in attribute KBA05_ZUL4\n",
      "Replaced [[-1]] to NaN in attribute KBA13_ALTERHALTER_30\n",
      "Replaced [[-1]] to NaN in attribute KBA13_ALTERHALTER_45\n",
      "Replaced [[-1]] to NaN in attribute KBA13_ALTERHALTER_60\n",
      "Replaced [[-1]] to NaN in attribute KBA13_ALTERHALTER_61\n",
      "Replaced [[-1]] to NaN in attribute KBA13_AUDI\n",
      "Replaced [[-1]] to NaN in attribute KBA13_AUTOQUOTE\n",
      "Replaced [[-1]] to NaN in attribute KBA13_BJ_1999\n",
      "Replaced [[-1]] to NaN in attribute KBA13_BJ_2000\n",
      "Replaced [[-1]] to NaN in attribute KBA13_BJ_2004\n",
      "Replaced [[-1]] to NaN in attribute KBA13_BJ_2006\n",
      "Replaced [[-1]] to NaN in attribute KBA13_BJ_2008\n",
      "Replaced [[-1]] to NaN in attribute KBA13_BJ_2009\n",
      "Replaced [[-1]] to NaN in attribute KBA13_BMW\n",
      "Replaced [[-1]] to NaN in attribute KBA13_CCM_1000\n",
      "Replaced [[-1]] to NaN in attribute KBA13_CCM_1200\n",
      "Replaced [[-1]] to NaN in attribute KBA13_CCM_1400\n",
      "Replaced [[-1]] to NaN in attribute KBA13_CCM_0_1400\n",
      "Replaced [[-1]] to NaN in attribute KBA13_CCM_1500\n",
      "Replaced [[-1]] to NaN in attribute KBA13_CCM_1400_2500\n",
      "Replaced [[-1]] to NaN in attribute KBA13_CCM_1600\n",
      "Replaced [[-1]] to NaN in attribute KBA13_CCM_1800\n",
      "Replaced [[-1]] to NaN in attribute KBA13_CCM_2000\n",
      "Replaced [[-1]] to NaN in attribute KBA13_CCM_2500\n",
      "Replaced [[-1]] to NaN in attribute KBA13_CCM_2501\n",
      "Replaced [[-1]] to NaN in attribute KBA13_CCM_3000\n",
      "Replaced [[-1]] to NaN in attribute KBA13_CCM_3001\n",
      "Replaced [[-1]] to NaN in attribute KBA13_FAB_ASIEN\n",
      "Replaced [[-1]] to NaN in attribute KBA13_FAB_SONSTIGE\n",
      "Replaced [[-1]] to NaN in attribute KBA13_FIAT\n",
      "Replaced [[-1]] to NaN in attribute KBA13_FORD\n",
      "Replaced [[-1]] to NaN in attribute KBA13_HALTER_20\n",
      "Replaced [[-1]] to NaN in attribute KBA13_HALTER_25\n",
      "Replaced [[-1]] to NaN in attribute KBA13_HALTER_30\n",
      "Replaced [[-1]] to NaN in attribute KBA13_HALTER_35\n",
      "Replaced [[-1]] to NaN in attribute KBA13_HALTER_40\n",
      "Replaced [[-1]] to NaN in attribute KBA13_HALTER_45\n",
      "Replaced [[-1]] to NaN in attribute KBA13_HALTER_50\n",
      "Replaced [[-1]] to NaN in attribute KBA13_HALTER_55\n",
      "Replaced [[-1]] to NaN in attribute KBA13_HALTER_60\n",
      "Replaced [[-1]] to NaN in attribute KBA13_HALTER_65\n",
      "Replaced [[-1]] to NaN in attribute KBA13_HALTER_66\n",
      "Replaced [[-1]] to NaN in attribute KBA13_HERST_ASIEN\n",
      "Replaced [[-1]] to NaN in attribute KBA13_HERST_AUDI_VW\n",
      "Replaced [[-1]] to NaN in attribute KBA13_HERST_BMW_BENZ\n",
      "Replaced [[-1]] to NaN in attribute KBA13_HERST_EUROPA\n",
      "Replaced [[-1]] to NaN in attribute KBA13_HERST_FORD_OPEL\n",
      "Replaced [[-1]] to NaN in attribute KBA13_HERST_SONST\n",
      "Replaced [[-1]] to NaN in attribute KBA13_KMH_110\n",
      "Replaced [[-1]] to NaN in attribute KBA13_KMH_140\n",
      "Replaced [[-1]] to NaN in attribute KBA13_KMH_180\n",
      "Replaced [[-1]] to NaN in attribute KBA13_KMH_0_140\n",
      "Replaced [[-1]] to NaN in attribute KBA13_KMH_140_210\n",
      "Replaced [[-1]] to NaN in attribute KBA13_KMH_211\n",
      "Replaced [[-1]] to NaN in attribute KBA13_KMH_250\n",
      "Replaced [[-1]] to NaN in attribute KBA13_KMH_251\n",
      "Replaced [[-1]] to NaN in attribute KBA13_KRSAQUOT\n",
      "Replaced [[-1]] to NaN in attribute KBA13_KRSHERST_AUDI_VW\n",
      "Replaced [[-1]] to NaN in attribute KBA13_KRSHERST_BMW_BENZ\n",
      "Replaced [[-1]] to NaN in attribute KBA13_KRSHERST_FORD_OPEL\n",
      "Replaced [[-1]] to NaN in attribute KBA13_KRSSEG_KLEIN\n",
      "Replaced [[-1]] to NaN in attribute KBA13_KRSSEG_OBER\n",
      "Replaced [[-1]] to NaN in attribute KBA13_KRSSEG_VAN\n",
      "Replaced [[-1]] to NaN in attribute KBA13_KRSZUL_NEU\n",
      "Replaced [[-1]] to NaN in attribute KBA13_KW_30\n",
      "Replaced [[-1]] to NaN in attribute KBA13_KW_40\n",
      "Replaced [[-1]] to NaN in attribute KBA13_KW_50\n",
      "Replaced [[-1]] to NaN in attribute KBA13_KW_60\n",
      "Replaced [[-1]] to NaN in attribute KBA13_KW_0_60\n",
      "Replaced [[-1]] to NaN in attribute KBA13_KW_70\n",
      "Replaced [[-1]] to NaN in attribute KBA13_KW_61_120\n",
      "Replaced [[-1]] to NaN in attribute KBA13_KW_80\n",
      "Replaced [[-1]] to NaN in attribute KBA13_KW_90\n"
     ]
    },
    {
     "name": "stdout",
     "output_type": "stream",
     "text": [
      "Replaced [[-1]] to NaN in attribute KBA13_KW_110\n",
      "Replaced [[-1]] to NaN in attribute KBA13_KW_120\n",
      "Replaced [[-1]] to NaN in attribute KBA13_KW_121\n",
      "Replaced [[-1]] to NaN in attribute KBA13_MAZDA\n",
      "Replaced [[-1]] to NaN in attribute KBA13_MERCEDES\n",
      "Replaced [[-1]] to NaN in attribute KBA13_MOTOR\n",
      "Replaced [[-1]] to NaN in attribute KBA13_NISSAN\n",
      "Replaced [[-1]] to NaN in attribute KBA13_OPEL\n",
      "Replaced [[-1]] to NaN in attribute KBA13_PEUGEOT\n",
      "Replaced [[-1]] to NaN in attribute KBA13_RENAULT\n",
      "Replaced [[-1]] to NaN in attribute KBA13_SEG_GELAENDEWAGEN\n",
      "Replaced [[-1]] to NaN in attribute KBA13_SEG_GROSSRAUMVANS\n",
      "Replaced [[-1]] to NaN in attribute KBA13_SEG_KLEINST\n",
      "Replaced [[-1]] to NaN in attribute KBA13_SEG_KLEINWAGEN\n",
      "Replaced [[-1]] to NaN in attribute KBA13_SEG_KOMPAKTKLASSE\n",
      "Replaced [[-1]] to NaN in attribute KBA13_SEG_MINIVANS\n",
      "Replaced [[-1]] to NaN in attribute KBA13_SEG_MINIWAGEN\n",
      "Replaced [[-1]] to NaN in attribute KBA13_SEG_MITTELKLASSE\n",
      "Replaced [[-1]] to NaN in attribute KBA13_SEG_OBEREMITTELKLASSE\n",
      "Replaced [[-1]] to NaN in attribute KBA13_SEG_OBERKLASSE\n",
      "Replaced [[-1]] to NaN in attribute KBA13_SEG_SONSTIGE\n",
      "Replaced [[-1]] to NaN in attribute KBA13_SEG_SPORTWAGEN\n",
      "Replaced [[-1]] to NaN in attribute KBA13_SEG_UTILITIES\n",
      "Replaced [[-1]] to NaN in attribute KBA13_SEG_VAN\n",
      "Replaced [[-1]] to NaN in attribute KBA13_SEG_WOHNMOBILE\n",
      "Replaced [[-1]] to NaN in attribute KBA13_SITZE_4\n",
      "Replaced [[-1]] to NaN in attribute KBA13_SITZE_5\n",
      "Replaced [[-1]] to NaN in attribute KBA13_SITZE_6\n",
      "Replaced [[-1]] to NaN in attribute KBA13_TOYOTA\n",
      "Replaced [[-1]] to NaN in attribute KBA13_VORB_0\n",
      "Replaced [[-1]] to NaN in attribute KBA13_VORB_1\n",
      "Replaced [[-1]] to NaN in attribute KBA13_VORB_1_2\n",
      "Replaced [[-1]] to NaN in attribute KBA13_VORB_2\n",
      "Replaced [[-1]] to NaN in attribute KBA13_VORB_3\n",
      "Replaced [[-1]] to NaN in attribute KBA13_VW\n",
      "Replaced [[-1, 0]] to NaN in attribute KKK\n",
      "Replaced [[-1, 0]] to NaN in attribute NATIONALITAET_KZ\n",
      "Replaced [[-1]] to NaN in attribute ORTSGR_KLS9\n",
      "Replaced [[-1]] to NaN in attribute OST_WEST_KZ\n",
      "Replaced [[-1]] to NaN in attribute PLZ8_ANTG1\n",
      "Replaced [[-1]] to NaN in attribute PLZ8_ANTG2\n",
      "Replaced [[-1]] to NaN in attribute PLZ8_ANTG3\n",
      "Replaced [[-1]] to NaN in attribute PLZ8_ANTG4\n",
      "Replaced [[-1]] to NaN in attribute PLZ8_GBZ\n",
      "Replaced [[-1]] to NaN in attribute PLZ8_HHZ\n",
      "Replaced [[-1, 0]] to NaN in attribute PRAEGENDE_JUGENDJAHRE\n",
      "Replaced [[-1, 0]] to NaN in attribute REGIOTYP\n",
      "Replaced [[-1, 9]] to NaN in attribute RELAT_AB\n",
      "Replaced [[0]] to NaN in attribute RETOURTYP_BK_S\n",
      "Replaced [[-1, 9]] to NaN in attribute SEMIO_DOM\n",
      "Replaced [[-1, 9]] to NaN in attribute SEMIO_ERL\n",
      "Replaced [[-1, 9]] to NaN in attribute SEMIO_FAM\n",
      "Replaced [[-1, 9]] to NaN in attribute SEMIO_KAEM\n",
      "Replaced [[-1, 9]] to NaN in attribute SEMIO_KRIT\n",
      "Replaced [[-1, 9]] to NaN in attribute SEMIO_KULT\n",
      "Replaced [[-1, 9]] to NaN in attribute SEMIO_LUST\n",
      "Replaced [[-1, 9]] to NaN in attribute SEMIO_MAT\n",
      "Replaced [[-1, 9]] to NaN in attribute SEMIO_PFLICHT\n",
      "Replaced [[-1, 9]] to NaN in attribute SEMIO_RAT\n",
      "Replaced [[-1, 9]] to NaN in attribute SEMIO_REL\n",
      "Replaced [[-1, 9]] to NaN in attribute SEMIO_SOZ\n",
      "Replaced [[-1, 9]] to NaN in attribute SEMIO_TRADV\n",
      "Replaced [[-1, 9]] to NaN in attribute SEMIO_VERT\n",
      "Replaced [[-1]] to NaN in attribute SHOPPER_TYP\n",
      "Replaced [[-1]] to NaN in attribute SOHO_FLAG\n",
      "Replaced [[-1, 0]] to NaN in attribute TITEL_KZ\n",
      "Replaced [[-1]] to NaN in attribute VERS_TYP\n",
      "Replaced [[-1, 0]] to NaN in attribute WOHNDAUER_2008\n",
      "Replaced [[-1]] to NaN in attribute WOHNLAGE\n",
      "Replaced [[-1, 0]] to NaN in attribute WACHSTUMSGEBIET_NB\n",
      "Replaced [[-1, 0]] to NaN in attribute W_KEIT_KIND_HH\n",
      "Replaced [[-1, 9]] to NaN in attribute ZABEOTYP\n",
      "CPU times: user 1min 10s, sys: 6.75 s, total: 1min 17s\n",
      "Wall time: 1min 18s\n"
     ]
    }
   ],
   "source": [
    "%%time\n",
    "azdias_clean = replace_unknowns_with_null(azdias_clean, unknown_attributes_vals, verbose=True)"
   ]
  },
  {
   "cell_type": "code",
   "execution_count": 55,
   "metadata": {},
   "outputs": [
    {
     "name": "stdout",
     "output_type": "stream",
     "text": [
      "Replaced [[-1]] to NaN in attribute AGER_TYP\n",
      "Replaced [[-1, 0]] to NaN in attribute ALTERSKATEGORIE_GROB\n",
      "Replaced [[-1, 0]] to NaN in attribute ANREDE_KZ\n",
      "Replaced [[-1]] to NaN in attribute BALLRAUM\n",
      "Replaced [[-1]] to NaN in attribute BIP_FLAG\n",
      "Replaced [[-1]] to NaN in attribute CAMEO_DEUG_2015\n",
      "Replaced [[-1]] to NaN in attribute CAMEO_DEUINTL_2015\n",
      "Replaced [[0]] to NaN in attribute CJT_GESAMTTYP\n",
      "Replaced [[-1]] to NaN in attribute D19_KK_KUNDENTYP\n",
      "Replaced [[-1]] to NaN in attribute EWDICHTE\n",
      "Replaced [[-1]] to NaN in attribute FINANZTYP\n",
      "Replaced [[-1]] to NaN in attribute FINANZ_ANLEGER\n",
      "Replaced [[-1]] to NaN in attribute FINANZ_HAUSBAUER\n",
      "Replaced [[-1]] to NaN in attribute FINANZ_MINIMALIST\n",
      "Replaced [[-1]] to NaN in attribute FINANZ_SPARER\n",
      "Replaced [[-1]] to NaN in attribute FINANZ_UNAUFFAELLIGER\n",
      "Replaced [[-1]] to NaN in attribute FINANZ_VORSORGER\n",
      "Replaced [[-1, 0]] to NaN in attribute GEBAEUDETYP\n",
      "Replaced [[-1, 0]] to NaN in attribute GEOSCORE_KLS7\n",
      "Replaced [[-1, 0]] to NaN in attribute HAUSHALTSSTRUKTUR\n",
      "Replaced [[-1]] to NaN in attribute HEALTH_TYP\n",
      "Replaced [[-1, 0]] to NaN in attribute HH_EINKOMMEN_SCORE\n",
      "Replaced [[-1]] to NaN in attribute INNENSTADT\n",
      "Replaced [[-1, 9]] to NaN in attribute KBA05_ALTER1\n",
      "Replaced [[-1, 9]] to NaN in attribute KBA05_ALTER2\n",
      "Replaced [[-1, 9]] to NaN in attribute KBA05_ALTER3\n",
      "Replaced [[-1, 9]] to NaN in attribute KBA05_ALTER4\n",
      "Replaced [[-1, 9]] to NaN in attribute KBA05_ANHANG\n",
      "Replaced [[-1]] to NaN in attribute KBA05_ANTG1\n",
      "Replaced [[-1]] to NaN in attribute KBA05_ANTG2\n",
      "Replaced [[-1]] to NaN in attribute KBA05_ANTG3\n",
      "Replaced [[-1]] to NaN in attribute KBA05_ANTG4\n",
      "Replaced [[-1, 9]] to NaN in attribute KBA05_AUTOQUOT\n",
      "Replaced [[-1, 0]] to NaN in attribute KBA05_BAUMAX\n",
      "Replaced [[-1, 9]] to NaN in attribute KBA05_CCM1\n",
      "Replaced [[-1, 9]] to NaN in attribute KBA05_CCM2\n",
      "Replaced [[-1, 9]] to NaN in attribute KBA05_CCM3\n",
      "Replaced [[-1, 9]] to NaN in attribute KBA05_CCM4\n",
      "Replaced [[-1, 9]] to NaN in attribute KBA05_DIESEL\n",
      "Replaced [[-1, 9]] to NaN in attribute KBA05_FRAU\n",
      "Replaced [[-1, 0]] to NaN in attribute KBA05_GBZ\n",
      "Replaced [[-1, 9]] to NaN in attribute KBA05_HERST1\n",
      "Replaced [[-1, 9]] to NaN in attribute KBA05_HERST2\n",
      "Replaced [[-1, 9]] to NaN in attribute KBA05_HERST3\n",
      "Replaced [[-1, 9]] to NaN in attribute KBA05_HERST4\n",
      "Replaced [[-1, 9]] to NaN in attribute KBA05_HERST5\n",
      "Replaced [[-1, 9]] to NaN in attribute KBA05_HERSTTEMP\n",
      "Replaced [[-1, 9]] to NaN in attribute KBA05_KRSAQUOT\n",
      "Replaced [[-1, 9]] to NaN in attribute KBA05_KRSHERST1\n",
      "Replaced [[-1, 9]] to NaN in attribute KBA05_KRSHERST2\n",
      "Replaced [[-1, 9]] to NaN in attribute KBA05_KRSHERST3\n",
      "Replaced [[-1, 9]] to NaN in attribute KBA05_KRSKLEIN\n",
      "Replaced [[-1, 9]] to NaN in attribute KBA05_KRSOBER\n",
      "Replaced [[-1, 9]] to NaN in attribute KBA05_KRSVAN\n",
      "Replaced [[-1, 9]] to NaN in attribute KBA05_KRSZUL\n",
      "Replaced [[-1, 9]] to NaN in attribute KBA05_KW1\n",
      "Replaced [[-1, 9]] to NaN in attribute KBA05_KW2\n",
      "Replaced [[-1, 9]] to NaN in attribute KBA05_KW3\n",
      "Replaced [[-1, 9]] to NaN in attribute KBA05_MAXAH\n",
      "Replaced [[-1, 9]] to NaN in attribute KBA05_MAXBJ\n",
      "Replaced [[-1, 9]] to NaN in attribute KBA05_MAXHERST\n",
      "Replaced [[-1, 9]] to NaN in attribute KBA05_MAXSEG\n",
      "Replaced [[-1, 9]] to NaN in attribute KBA05_MAXVORB\n",
      "Replaced [[-1, 9]] to NaN in attribute KBA05_MOD1\n",
      "Replaced [[-1, 9]] to NaN in attribute KBA05_MOD2\n",
      "Replaced [[-1, 9]] to NaN in attribute KBA05_MOD3\n",
      "Replaced [[-1, 9]] to NaN in attribute KBA05_MOD4\n",
      "Replaced [[-1, 9]] to NaN in attribute KBA05_MOD8\n",
      "Replaced [[-1, 9]] to NaN in attribute KBA05_MODTEMP\n",
      "Replaced [[-1, 9]] to NaN in attribute KBA05_MOTOR\n",
      "Replaced [[-1, 9]] to NaN in attribute KBA05_MOTRAD\n",
      "Replaced [[-1, 9]] to NaN in attribute KBA05_SEG1\n",
      "Replaced [[-1, 9]] to NaN in attribute KBA05_SEG10\n",
      "Replaced [[-1, 9]] to NaN in attribute KBA05_SEG2\n",
      "Replaced [[-1, 9]] to NaN in attribute KBA05_SEG3\n",
      "Replaced [[-1, 9]] to NaN in attribute KBA05_SEG4\n",
      "Replaced [[-1, 9]] to NaN in attribute KBA05_SEG5\n",
      "Replaced [[-1, 9]] to NaN in attribute KBA05_SEG6\n",
      "Replaced [[-1, 9]] to NaN in attribute KBA05_SEG7\n",
      "Replaced [[-1, 9]] to NaN in attribute KBA05_SEG8\n",
      "Replaced [[-1, 9]] to NaN in attribute KBA05_SEG9\n",
      "Replaced [[-1, 9]] to NaN in attribute KBA05_VORB0\n",
      "Replaced [[-1, 9]] to NaN in attribute KBA05_VORB1\n",
      "Replaced [[-1, 9]] to NaN in attribute KBA05_VORB2\n",
      "Replaced [[-1, 9]] to NaN in attribute KBA05_ZUL1\n",
      "Replaced [[-1, 9]] to NaN in attribute KBA05_ZUL2\n",
      "Replaced [[-1, 9]] to NaN in attribute KBA05_ZUL3\n",
      "Replaced [[-1, 9]] to NaN in attribute KBA05_ZUL4\n",
      "Replaced [[-1]] to NaN in attribute KBA13_ALTERHALTER_30\n",
      "Replaced [[-1]] to NaN in attribute KBA13_ALTERHALTER_45\n",
      "Replaced [[-1]] to NaN in attribute KBA13_ALTERHALTER_60\n",
      "Replaced [[-1]] to NaN in attribute KBA13_ALTERHALTER_61\n",
      "Replaced [[-1]] to NaN in attribute KBA13_AUDI\n",
      "Replaced [[-1]] to NaN in attribute KBA13_AUTOQUOTE\n",
      "Replaced [[-1]] to NaN in attribute KBA13_BJ_1999\n",
      "Replaced [[-1]] to NaN in attribute KBA13_BJ_2000\n",
      "Replaced [[-1]] to NaN in attribute KBA13_BJ_2004\n",
      "Replaced [[-1]] to NaN in attribute KBA13_BJ_2006\n",
      "Replaced [[-1]] to NaN in attribute KBA13_BJ_2008\n",
      "Replaced [[-1]] to NaN in attribute KBA13_BJ_2009\n",
      "Replaced [[-1]] to NaN in attribute KBA13_BMW\n",
      "Replaced [[-1]] to NaN in attribute KBA13_CCM_1000\n",
      "Replaced [[-1]] to NaN in attribute KBA13_CCM_1200\n",
      "Replaced [[-1]] to NaN in attribute KBA13_CCM_1400\n",
      "Replaced [[-1]] to NaN in attribute KBA13_CCM_0_1400\n",
      "Replaced [[-1]] to NaN in attribute KBA13_CCM_1500\n",
      "Replaced [[-1]] to NaN in attribute KBA13_CCM_1400_2500\n",
      "Replaced [[-1]] to NaN in attribute KBA13_CCM_1600\n",
      "Replaced [[-1]] to NaN in attribute KBA13_CCM_1800\n",
      "Replaced [[-1]] to NaN in attribute KBA13_CCM_2000\n",
      "Replaced [[-1]] to NaN in attribute KBA13_CCM_2500\n",
      "Replaced [[-1]] to NaN in attribute KBA13_CCM_2501\n",
      "Replaced [[-1]] to NaN in attribute KBA13_CCM_3000\n",
      "Replaced [[-1]] to NaN in attribute KBA13_CCM_3001\n",
      "Replaced [[-1]] to NaN in attribute KBA13_FAB_ASIEN\n",
      "Replaced [[-1]] to NaN in attribute KBA13_FAB_SONSTIGE\n",
      "Replaced [[-1]] to NaN in attribute KBA13_FIAT\n",
      "Replaced [[-1]] to NaN in attribute KBA13_FORD\n",
      "Replaced [[-1]] to NaN in attribute KBA13_HALTER_20\n",
      "Replaced [[-1]] to NaN in attribute KBA13_HALTER_25\n",
      "Replaced [[-1]] to NaN in attribute KBA13_HALTER_30\n",
      "Replaced [[-1]] to NaN in attribute KBA13_HALTER_35\n",
      "Replaced [[-1]] to NaN in attribute KBA13_HALTER_40\n",
      "Replaced [[-1]] to NaN in attribute KBA13_HALTER_45\n",
      "Replaced [[-1]] to NaN in attribute KBA13_HALTER_50\n",
      "Replaced [[-1]] to NaN in attribute KBA13_HALTER_55\n",
      "Replaced [[-1]] to NaN in attribute KBA13_HALTER_60\n",
      "Replaced [[-1]] to NaN in attribute KBA13_HALTER_65\n",
      "Replaced [[-1]] to NaN in attribute KBA13_HALTER_66\n",
      "Replaced [[-1]] to NaN in attribute KBA13_HERST_ASIEN\n",
      "Replaced [[-1]] to NaN in attribute KBA13_HERST_AUDI_VW\n",
      "Replaced [[-1]] to NaN in attribute KBA13_HERST_BMW_BENZ\n",
      "Replaced [[-1]] to NaN in attribute KBA13_HERST_EUROPA\n",
      "Replaced [[-1]] to NaN in attribute KBA13_HERST_FORD_OPEL\n",
      "Replaced [[-1]] to NaN in attribute KBA13_HERST_SONST\n",
      "Replaced [[-1]] to NaN in attribute KBA13_KMH_110\n",
      "Replaced [[-1]] to NaN in attribute KBA13_KMH_140\n",
      "Replaced [[-1]] to NaN in attribute KBA13_KMH_180\n",
      "Replaced [[-1]] to NaN in attribute KBA13_KMH_0_140\n",
      "Replaced [[-1]] to NaN in attribute KBA13_KMH_140_210\n",
      "Replaced [[-1]] to NaN in attribute KBA13_KMH_211\n",
      "Replaced [[-1]] to NaN in attribute KBA13_KMH_250\n",
      "Replaced [[-1]] to NaN in attribute KBA13_KMH_251\n",
      "Replaced [[-1]] to NaN in attribute KBA13_KRSAQUOT\n",
      "Replaced [[-1]] to NaN in attribute KBA13_KRSHERST_AUDI_VW\n",
      "Replaced [[-1]] to NaN in attribute KBA13_KRSHERST_BMW_BENZ\n",
      "Replaced [[-1]] to NaN in attribute KBA13_KRSHERST_FORD_OPEL\n",
      "Replaced [[-1]] to NaN in attribute KBA13_KRSSEG_KLEIN\n",
      "Replaced [[-1]] to NaN in attribute KBA13_KRSSEG_OBER\n",
      "Replaced [[-1]] to NaN in attribute KBA13_KRSSEG_VAN\n",
      "Replaced [[-1]] to NaN in attribute KBA13_KRSZUL_NEU\n",
      "Replaced [[-1]] to NaN in attribute KBA13_KW_30\n",
      "Replaced [[-1]] to NaN in attribute KBA13_KW_40\n",
      "Replaced [[-1]] to NaN in attribute KBA13_KW_50\n",
      "Replaced [[-1]] to NaN in attribute KBA13_KW_60\n",
      "Replaced [[-1]] to NaN in attribute KBA13_KW_0_60\n",
      "Replaced [[-1]] to NaN in attribute KBA13_KW_70\n",
      "Replaced [[-1]] to NaN in attribute KBA13_KW_61_120\n",
      "Replaced [[-1]] to NaN in attribute KBA13_KW_80\n",
      "Replaced [[-1]] to NaN in attribute KBA13_KW_90\n",
      "Replaced [[-1]] to NaN in attribute KBA13_KW_110\n",
      "Replaced [[-1]] to NaN in attribute KBA13_KW_120\n",
      "Replaced [[-1]] to NaN in attribute KBA13_KW_121\n"
     ]
    },
    {
     "name": "stdout",
     "output_type": "stream",
     "text": [
      "Replaced [[-1]] to NaN in attribute KBA13_MAZDA\n",
      "Replaced [[-1]] to NaN in attribute KBA13_MERCEDES\n",
      "Replaced [[-1]] to NaN in attribute KBA13_MOTOR\n",
      "Replaced [[-1]] to NaN in attribute KBA13_NISSAN\n",
      "Replaced [[-1]] to NaN in attribute KBA13_OPEL\n",
      "Replaced [[-1]] to NaN in attribute KBA13_PEUGEOT\n",
      "Replaced [[-1]] to NaN in attribute KBA13_RENAULT\n",
      "Replaced [[-1]] to NaN in attribute KBA13_SEG_GELAENDEWAGEN\n",
      "Replaced [[-1]] to NaN in attribute KBA13_SEG_GROSSRAUMVANS\n",
      "Replaced [[-1]] to NaN in attribute KBA13_SEG_KLEINST\n",
      "Replaced [[-1]] to NaN in attribute KBA13_SEG_KLEINWAGEN\n",
      "Replaced [[-1]] to NaN in attribute KBA13_SEG_KOMPAKTKLASSE\n",
      "Replaced [[-1]] to NaN in attribute KBA13_SEG_MINIVANS\n",
      "Replaced [[-1]] to NaN in attribute KBA13_SEG_MINIWAGEN\n",
      "Replaced [[-1]] to NaN in attribute KBA13_SEG_MITTELKLASSE\n",
      "Replaced [[-1]] to NaN in attribute KBA13_SEG_OBEREMITTELKLASSE\n",
      "Replaced [[-1]] to NaN in attribute KBA13_SEG_OBERKLASSE\n",
      "Replaced [[-1]] to NaN in attribute KBA13_SEG_SONSTIGE\n",
      "Replaced [[-1]] to NaN in attribute KBA13_SEG_SPORTWAGEN\n",
      "Replaced [[-1]] to NaN in attribute KBA13_SEG_UTILITIES\n",
      "Replaced [[-1]] to NaN in attribute KBA13_SEG_VAN\n",
      "Replaced [[-1]] to NaN in attribute KBA13_SEG_WOHNMOBILE\n",
      "Replaced [[-1]] to NaN in attribute KBA13_SITZE_4\n",
      "Replaced [[-1]] to NaN in attribute KBA13_SITZE_5\n",
      "Replaced [[-1]] to NaN in attribute KBA13_SITZE_6\n",
      "Replaced [[-1]] to NaN in attribute KBA13_TOYOTA\n",
      "Replaced [[-1]] to NaN in attribute KBA13_VORB_0\n",
      "Replaced [[-1]] to NaN in attribute KBA13_VORB_1\n",
      "Replaced [[-1]] to NaN in attribute KBA13_VORB_1_2\n",
      "Replaced [[-1]] to NaN in attribute KBA13_VORB_2\n",
      "Replaced [[-1]] to NaN in attribute KBA13_VORB_3\n",
      "Replaced [[-1]] to NaN in attribute KBA13_VW\n",
      "Replaced [[-1, 0]] to NaN in attribute KKK\n",
      "Replaced [[-1, 0]] to NaN in attribute NATIONALITAET_KZ\n",
      "Replaced [[-1]] to NaN in attribute ORTSGR_KLS9\n",
      "Replaced [[-1]] to NaN in attribute OST_WEST_KZ\n",
      "Replaced [[-1]] to NaN in attribute PLZ8_ANTG1\n",
      "Replaced [[-1]] to NaN in attribute PLZ8_ANTG2\n",
      "Replaced [[-1]] to NaN in attribute PLZ8_ANTG3\n",
      "Replaced [[-1]] to NaN in attribute PLZ8_ANTG4\n",
      "Replaced [[-1]] to NaN in attribute PLZ8_GBZ\n",
      "Replaced [[-1]] to NaN in attribute PLZ8_HHZ\n",
      "Replaced [[-1, 0]] to NaN in attribute PRAEGENDE_JUGENDJAHRE\n",
      "Replaced [[-1, 0]] to NaN in attribute REGIOTYP\n",
      "Replaced [[-1, 9]] to NaN in attribute RELAT_AB\n",
      "Replaced [[0]] to NaN in attribute RETOURTYP_BK_S\n",
      "Replaced [[-1, 9]] to NaN in attribute SEMIO_DOM\n",
      "Replaced [[-1, 9]] to NaN in attribute SEMIO_ERL\n",
      "Replaced [[-1, 9]] to NaN in attribute SEMIO_FAM\n",
      "Replaced [[-1, 9]] to NaN in attribute SEMIO_KAEM\n",
      "Replaced [[-1, 9]] to NaN in attribute SEMIO_KRIT\n",
      "Replaced [[-1, 9]] to NaN in attribute SEMIO_KULT\n",
      "Replaced [[-1, 9]] to NaN in attribute SEMIO_LUST\n",
      "Replaced [[-1, 9]] to NaN in attribute SEMIO_MAT\n",
      "Replaced [[-1, 9]] to NaN in attribute SEMIO_PFLICHT\n",
      "Replaced [[-1, 9]] to NaN in attribute SEMIO_RAT\n",
      "Replaced [[-1, 9]] to NaN in attribute SEMIO_REL\n",
      "Replaced [[-1, 9]] to NaN in attribute SEMIO_SOZ\n",
      "Replaced [[-1, 9]] to NaN in attribute SEMIO_TRADV\n",
      "Replaced [[-1, 9]] to NaN in attribute SEMIO_VERT\n",
      "Replaced [[-1]] to NaN in attribute SHOPPER_TYP\n",
      "Replaced [[-1]] to NaN in attribute SOHO_FLAG\n",
      "Replaced [[-1, 0]] to NaN in attribute TITEL_KZ\n",
      "Replaced [[-1]] to NaN in attribute VERS_TYP\n",
      "Replaced [[-1, 0]] to NaN in attribute WOHNDAUER_2008\n",
      "Replaced [[-1]] to NaN in attribute WOHNLAGE\n",
      "Replaced [[-1, 0]] to NaN in attribute WACHSTUMSGEBIET_NB\n",
      "Replaced [[-1, 0]] to NaN in attribute W_KEIT_KIND_HH\n",
      "Replaced [[-1, 9]] to NaN in attribute ZABEOTYP\n",
      "CPU times: user 15.3 s, sys: 445 ms, total: 15.8 s\n",
      "Wall time: 15.8 s\n"
     ]
    }
   ],
   "source": [
    "%%time\n",
    "customers_clean = replace_unknowns_with_null(customers_clean, unknown_attributes_vals, verbose=True)"
   ]
  },
  {
   "cell_type": "code",
   "execution_count": 56,
   "metadata": {},
   "outputs": [
    {
     "name": "stdout",
     "output_type": "stream",
     "text": [
      "Azdias dataset\n",
      "Number of NULL values BEFORE replacing unknown values by NULL: 33493669\n",
      "Number of NULL values AFTER replacing unknown values by NULL: 36944643\n",
      "\n",
      "Customers dataset\n",
      "Number of NULL values BEFORE replacing unknown values by NULL: 13864774\n",
      "Number of NULL values AFTER replacing unknown values by NULL: 14516497\n"
     ]
    }
   ],
   "source": [
    "# Check dataframes after replacing unknown values by NULL\n",
    "print(\"Azdias dataset\")\n",
    "print(\"Number of NULL values BEFORE replacing unknown values by NULL:\", azdias.isnull().sum().sum())\n",
    "print(\"Number of NULL values AFTER replacing unknown values by NULL:\", azdias_clean.isnull().sum().sum())\n",
    "print()\n",
    "print(\"Customers dataset\")\n",
    "print(\"Number of NULL values BEFORE replacing unknown values by NULL:\", customers.isnull().sum().sum())\n",
    "print(\"Number of NULL values AFTER replacing unknown values by NULL:\", customers_clean.isnull().sum().sum())"
   ]
  },
  {
   "cell_type": "markdown",
   "metadata": {},
   "source": [
    "It seems that the functions work well and replaced unknown values with NULL"
   ]
  },
  {
   "cell_type": "markdown",
   "metadata": {},
   "source": [
    "#### 0.5.3 Drop columns with > 30% of missing values"
   ]
  },
  {
   "cell_type": "markdown",
   "metadata": {},
   "source": [
    "I checked thresholds from 10 to 30% of missing values in columns and decided to choose a threshold = 30%, which allows to drop significantly less number of columns and keep important information for further analysis."
   ]
  },
  {
   "cell_type": "code",
   "execution_count": 57,
   "metadata": {},
   "outputs": [],
   "source": [
    "# Get the percent missing by column\n",
    "def get_percent_missing_column(df):\n",
    "    \"\"\"\n",
    "    Returns percentage of missing data in a column\n",
    "    \"\"\"\n",
    "    percent_missing = df.isnull().sum()*100/len(df)\n",
    "    return percent_missing"
   ]
  },
  {
   "cell_type": "code",
   "execution_count": 58,
   "metadata": {},
   "outputs": [
    {
     "data": {
      "text/plain": [
       "LNR                            0.000000\n",
       "AGER_TYP                      76.019640\n",
       "AKT_DAT_KL                     8.247000\n",
       "ALTER_HH                       8.247000\n",
       "ALTER_KIND1                   90.904837\n",
       "ALTER_KIND2                   96.690047\n",
       "ALTER_KIND3                   99.307691\n",
       "ALTER_KIND4                   99.864792\n",
       "ALTERSKATEGORIE_FEIN          29.504130\n",
       "ANZ_HAUSHALTE_AKTIV           10.451729\n",
       "ANZ_HH_TITEL                  10.884842\n",
       "ANZ_KINDER                     8.247000\n",
       "ANZ_PERSONEN                   8.247000\n",
       "ANZ_STATISTISCHE_HAUSHALTE    10.451729\n",
       "ANZ_TITEL                      8.247000\n",
       "ARBEIT                        10.908181\n",
       "BALLRAUM                      10.518154\n",
       "CAMEO_DEU_2015                11.106000\n",
       "CAMEO_DEUG_2015               11.147852\n",
       "CAMEO_INTL_2015               11.147852\n",
       "dtype: float64"
      ]
     },
     "execution_count": 58,
     "metadata": {},
     "output_type": "execute_result"
    }
   ],
   "source": [
    "azdias_percent_missing = get_percent_missing_column(azdias_clean)\n",
    "azdias_percent_missing[:20]"
   ]
  },
  {
   "cell_type": "code",
   "execution_count": 59,
   "metadata": {},
   "outputs": [
    {
     "data": {
      "text/plain": [
       "LNR                            0.000000\n",
       "AGER_TYP                      48.059504\n",
       "AKT_DAT_KL                    24.312817\n",
       "ALTER_HH                      24.312817\n",
       "ALTER_KIND1                   93.860748\n",
       "ALTER_KIND2                   97.338927\n",
       "ALTER_KIND3                   99.334732\n",
       "ALTER_KIND4                   99.876860\n",
       "ALTERSKATEGORIE_FEIN          27.050070\n",
       "ANZ_HAUSHALTE_AKTIV           26.050863\n",
       "ANZ_HH_TITEL                  27.189907\n",
       "ANZ_KINDER                    24.312817\n",
       "ANZ_PERSONEN                  24.312817\n",
       "ANZ_STATISTISCHE_HAUSHALTE    26.050863\n",
       "ANZ_TITEL                     24.312817\n",
       "ARBEIT                        26.337320\n",
       "BALLRAUM                      26.067560\n",
       "CAMEO_DEU_2015                26.312274\n",
       "CAMEO_DEUG_2015               26.378018\n",
       "CAMEO_INTL_2015               26.378018\n",
       "dtype: float64"
      ]
     },
     "execution_count": 59,
     "metadata": {},
     "output_type": "execute_result"
    }
   ],
   "source": [
    "customers_percent_missing = get_percent_missing_column(customers_clean)\n",
    "customers_percent_missing[:20]"
   ]
  },
  {
   "cell_type": "code",
   "execution_count": 60,
   "metadata": {},
   "outputs": [],
   "source": [
    "# Get columns with a percentage higher than a threshold\n",
    "def get_null_columns(df, percent_missing, threshold):\n",
    "    \"\"\"\n",
    "    Returns a list with columns containing NULL values higher that a threshold (in percent)\n",
    "    \"\"\"\n",
    "    null_columns = []\n",
    "    for i in range(len(percent_missing)):\n",
    "        if percent_missing[i] > threshold:\n",
    "            null_columns.append(percent_missing.index[i])\n",
    "    return null_columns"
   ]
  },
  {
   "cell_type": "markdown",
   "metadata": {},
   "source": [
    "Let's set ta threshold to 30% and get the number of columns containg more than the threshold NULL values."
   ]
  },
  {
   "cell_type": "code",
   "execution_count": 61,
   "metadata": {},
   "outputs": [
    {
     "name": "stdout",
     "output_type": "stream",
     "text": [
      "Total number of columns in Azdias dataset: 367\n",
      "Number of columns in Azdias dataset with more than 30% of missing values: 9\n"
     ]
    }
   ],
   "source": [
    "null_columns_azdias = get_null_columns(azdias_clean, azdias_percent_missing, 30)\n",
    "\n",
    "print(\"Total number of columns in Azdias dataset:\", azdias_clean.shape[1])\n",
    "print(\"Number of columns in Azdias dataset with more than 30% of missing values:\", len(null_columns_azdias))"
   ]
  },
  {
   "cell_type": "code",
   "execution_count": 62,
   "metadata": {},
   "outputs": [
    {
     "name": "stdout",
     "output_type": "stream",
     "text": [
      "Total number of columns in Customers dataset: 370\n",
      "Number of columns in Customers dataset with more than 30% of missing values: 11\n"
     ]
    }
   ],
   "source": [
    "null_columns_customers = get_null_columns(customers_clean, customers_percent_missing, 30)\n",
    "\n",
    "print(\"Total number of columns in Customers dataset:\", customers_clean.shape[1])\n",
    "print(\"Number of columns in Customers dataset with more than 30% of missing values:\", len(null_columns_customers))"
   ]
  },
  {
   "cell_type": "code",
   "execution_count": 63,
   "metadata": {},
   "outputs": [
    {
     "data": {
      "text/plain": [
       "['AGER_TYP',\n",
       " 'ALTER_KIND1',\n",
       " 'ALTER_KIND2',\n",
       " 'ALTER_KIND3',\n",
       " 'ALTER_KIND4',\n",
       " 'EXTSEL992',\n",
       " 'KBA05_BAUMAX',\n",
       " 'KK_KUNDENTYP',\n",
       " 'TITEL_KZ']"
      ]
     },
     "execution_count": 63,
     "metadata": {},
     "output_type": "execute_result"
    }
   ],
   "source": [
    "# Let's have a look at the columns with > 30% of missing values\n",
    "null_columns_azdias"
   ]
  },
  {
   "cell_type": "code",
   "execution_count": 64,
   "metadata": {},
   "outputs": [
    {
     "data": {
      "text/plain": [
       "['AGER_TYP',\n",
       " 'ALTER_KIND1',\n",
       " 'ALTER_KIND2',\n",
       " 'ALTER_KIND3',\n",
       " 'ALTER_KIND4',\n",
       " 'EXTSEL992',\n",
       " 'KBA05_BAUMAX',\n",
       " 'KK_KUNDENTYP',\n",
       " 'KKK',\n",
       " 'REGIOTYP',\n",
       " 'TITEL_KZ']"
      ]
     },
     "execution_count": 64,
     "metadata": {},
     "output_type": "execute_result"
    }
   ],
   "source": [
    "null_columns_customers "
   ]
  },
  {
   "cell_type": "code",
   "execution_count": 65,
   "metadata": {},
   "outputs": [],
   "source": [
    "# Let's drop the columns for each dataset\n",
    "azdias_clean.drop(columns=null_columns_azdias, inplace=True)\n",
    "customers_clean.drop(columns=null_columns_customers, inplace=True)"
   ]
  },
  {
   "cell_type": "code",
   "execution_count": 66,
   "metadata": {},
   "outputs": [
    {
     "data": {
      "text/plain": [
       "358"
      ]
     },
     "execution_count": 66,
     "metadata": {},
     "output_type": "execute_result"
    }
   ],
   "source": [
    "# Let's check dropping columns\n",
    "azdias_clean.shape[1]"
   ]
  },
  {
   "cell_type": "code",
   "execution_count": 67,
   "metadata": {},
   "outputs": [
    {
     "data": {
      "text/plain": [
       "359"
      ]
     },
     "execution_count": 67,
     "metadata": {},
     "output_type": "execute_result"
    }
   ],
   "source": [
    "customers_clean.shape[1]"
   ]
  },
  {
   "cell_type": "code",
   "execution_count": 68,
   "metadata": {},
   "outputs": [
    {
     "name": "stdout",
     "output_type": "stream",
     "text": [
      "Percentage of missing values in Azdias dataset: 9.470353831754977\n",
      "\n",
      "Percentage of missing values in Customers dataset: 18.98161866851635\n"
     ]
    }
   ],
   "source": [
    "# Let's check the percentage of missing values in each dataset\n",
    "print(\"Percentage of missing values in Azdias dataset:\",\n",
    " azdias_clean.isnull().sum().sum()*100/(azdias_clean.shape[0]*azdias_clean.shape[1]))\n",
    "print()\n",
    "print(\"Percentage of missing values in Customers dataset:\",\n",
    " customers_clean.isnull().sum().sum()*100/(customers_clean.shape[0]*customers_clean.shape[1]))"
   ]
  },
  {
   "cell_type": "markdown",
   "metadata": {},
   "source": [
    "This percentage of missing values in the datasets looks OK for me. I'm planning to apply MissForest algorithm to fill in those missing values. MissForest can handle this percentage of missing values."
   ]
  },
  {
   "cell_type": "markdown",
   "metadata": {},
   "source": [
    "#### 0.5.4 Check categorical variables"
   ]
  },
  {
   "cell_type": "code",
   "execution_count": 69,
   "metadata": {},
   "outputs": [
    {
     "name": "stdout",
     "output_type": "stream",
     "text": [
      "<class 'pandas.core.frame.DataFrame'>\n",
      "RangeIndex: 891221 entries, 0 to 891220\n",
      "Columns: 358 entries, LNR to EINGEFUEGT_AM_MONTH\n",
      "dtypes: float64(268), int64(87), object(3)\n",
      "memory usage: 2.4+ GB\n"
     ]
    }
   ],
   "source": [
    "azdias_clean.info()"
   ]
  },
  {
   "cell_type": "code",
   "execution_count": 70,
   "metadata": {},
   "outputs": [
    {
     "name": "stdout",
     "output_type": "stream",
     "text": [
      "<class 'pandas.core.frame.DataFrame'>\n",
      "RangeIndex: 191652 entries, 0 to 191651\n",
      "Columns: 359 entries, LNR to EINGEFUEGT_AM_MONTH\n",
      "dtypes: float64(266), int64(88), object(5)\n",
      "memory usage: 524.9+ MB\n"
     ]
    }
   ],
   "source": [
    "customers_clean.info()"
   ]
  },
  {
   "cell_type": "code",
   "execution_count": 71,
   "metadata": {},
   "outputs": [],
   "source": [
    "# Let's have a look at the columns with object data type\n",
    "azdias_object_cols = azdias_clean.columns[azdias_clean.dtypes == \"object\"]\n",
    "customer_object_cols = customers_clean.columns[customers_clean.dtypes == \"object\"]"
   ]
  },
  {
   "cell_type": "code",
   "execution_count": 72,
   "metadata": {},
   "outputs": [
    {
     "data": {
      "text/plain": [
       "Index(['CAMEO_DEU_2015', 'D19_LETZTER_KAUF_BRANCHE', 'OST_WEST_KZ'], dtype='object')"
      ]
     },
     "execution_count": 72,
     "metadata": {},
     "output_type": "execute_result"
    }
   ],
   "source": [
    "azdias_object_cols"
   ]
  },
  {
   "cell_type": "code",
   "execution_count": 73,
   "metadata": {},
   "outputs": [
    {
     "data": {
      "text/plain": [
       "Index(['CAMEO_DEU_2015', 'D19_LETZTER_KAUF_BRANCHE', 'OST_WEST_KZ',\n",
       "       'PRODUCT_GROUP', 'CUSTOMER_GROUP'],\n",
       "      dtype='object')"
      ]
     },
     "execution_count": 73,
     "metadata": {},
     "output_type": "execute_result"
    }
   ],
   "source": [
    "customer_object_cols"
   ]
  },
  {
   "cell_type": "markdown",
   "metadata": {},
   "source": [
    "Looking closer to the columns with object datatypes"
   ]
  },
  {
   "cell_type": "code",
   "execution_count": 74,
   "metadata": {},
   "outputs": [
    {
     "data": {
      "text/html": [
       "<div>\n",
       "<style scoped>\n",
       "    .dataframe tbody tr th:only-of-type {\n",
       "        vertical-align: middle;\n",
       "    }\n",
       "\n",
       "    .dataframe tbody tr th {\n",
       "        vertical-align: top;\n",
       "    }\n",
       "\n",
       "    .dataframe thead th {\n",
       "        text-align: right;\n",
       "    }\n",
       "</style>\n",
       "<table border=\"1\" class=\"dataframe\">\n",
       "  <thead>\n",
       "    <tr style=\"text-align: right;\">\n",
       "      <th></th>\n",
       "      <th>CAMEO_DEU_2015</th>\n",
       "      <th>D19_LETZTER_KAUF_BRANCHE</th>\n",
       "      <th>OST_WEST_KZ</th>\n",
       "    </tr>\n",
       "  </thead>\n",
       "  <tbody>\n",
       "    <tr>\n",
       "      <th>0</th>\n",
       "      <td>NaN</td>\n",
       "      <td>NaN</td>\n",
       "      <td>NaN</td>\n",
       "    </tr>\n",
       "    <tr>\n",
       "      <th>1</th>\n",
       "      <td>8A</td>\n",
       "      <td>NaN</td>\n",
       "      <td>W</td>\n",
       "    </tr>\n",
       "    <tr>\n",
       "      <th>2</th>\n",
       "      <td>4C</td>\n",
       "      <td>D19_UNBEKANNT</td>\n",
       "      <td>W</td>\n",
       "    </tr>\n",
       "    <tr>\n",
       "      <th>3</th>\n",
       "      <td>2A</td>\n",
       "      <td>D19_UNBEKANNT</td>\n",
       "      <td>W</td>\n",
       "    </tr>\n",
       "    <tr>\n",
       "      <th>4</th>\n",
       "      <td>6B</td>\n",
       "      <td>D19_SCHUHE</td>\n",
       "      <td>W</td>\n",
       "    </tr>\n",
       "    <tr>\n",
       "      <th>5</th>\n",
       "      <td>8C</td>\n",
       "      <td>D19_ENERGIE</td>\n",
       "      <td>W</td>\n",
       "    </tr>\n",
       "    <tr>\n",
       "      <th>6</th>\n",
       "      <td>4A</td>\n",
       "      <td>D19_UNBEKANNT</td>\n",
       "      <td>W</td>\n",
       "    </tr>\n",
       "    <tr>\n",
       "      <th>7</th>\n",
       "      <td>2D</td>\n",
       "      <td>D19_UNBEKANNT</td>\n",
       "      <td>W</td>\n",
       "    </tr>\n",
       "    <tr>\n",
       "      <th>8</th>\n",
       "      <td>1A</td>\n",
       "      <td>NaN</td>\n",
       "      <td>W</td>\n",
       "    </tr>\n",
       "    <tr>\n",
       "      <th>9</th>\n",
       "      <td>1E</td>\n",
       "      <td>D19_KOSMETIK</td>\n",
       "      <td>W</td>\n",
       "    </tr>\n",
       "    <tr>\n",
       "      <th>10</th>\n",
       "      <td>9D</td>\n",
       "      <td>D19_UNBEKANNT</td>\n",
       "      <td>W</td>\n",
       "    </tr>\n",
       "    <tr>\n",
       "      <th>11</th>\n",
       "      <td>NaN</td>\n",
       "      <td>NaN</td>\n",
       "      <td>NaN</td>\n",
       "    </tr>\n",
       "    <tr>\n",
       "      <th>12</th>\n",
       "      <td>6B</td>\n",
       "      <td>D19_SCHUHE</td>\n",
       "      <td>W</td>\n",
       "    </tr>\n",
       "    <tr>\n",
       "      <th>13</th>\n",
       "      <td>5C</td>\n",
       "      <td>D19_VOLLSORTIMENT</td>\n",
       "      <td>W</td>\n",
       "    </tr>\n",
       "    <tr>\n",
       "      <th>14</th>\n",
       "      <td>NaN</td>\n",
       "      <td>NaN</td>\n",
       "      <td>NaN</td>\n",
       "    </tr>\n",
       "    <tr>\n",
       "      <th>15</th>\n",
       "      <td>8B</td>\n",
       "      <td>D19_UNBEKANNT</td>\n",
       "      <td>W</td>\n",
       "    </tr>\n",
       "    <tr>\n",
       "      <th>16</th>\n",
       "      <td>7A</td>\n",
       "      <td>D19_SONSTIGE</td>\n",
       "      <td>W</td>\n",
       "    </tr>\n",
       "    <tr>\n",
       "      <th>17</th>\n",
       "      <td>NaN</td>\n",
       "      <td>NaN</td>\n",
       "      <td>NaN</td>\n",
       "    </tr>\n",
       "    <tr>\n",
       "      <th>18</th>\n",
       "      <td>4C</td>\n",
       "      <td>NaN</td>\n",
       "      <td>W</td>\n",
       "    </tr>\n",
       "    <tr>\n",
       "      <th>19</th>\n",
       "      <td>5D</td>\n",
       "      <td>NaN</td>\n",
       "      <td>W</td>\n",
       "    </tr>\n",
       "  </tbody>\n",
       "</table>\n",
       "</div>"
      ],
      "text/plain": [
       "   CAMEO_DEU_2015 D19_LETZTER_KAUF_BRANCHE OST_WEST_KZ\n",
       "0             NaN                      NaN         NaN\n",
       "1              8A                      NaN           W\n",
       "2              4C            D19_UNBEKANNT           W\n",
       "3              2A            D19_UNBEKANNT           W\n",
       "4              6B               D19_SCHUHE           W\n",
       "5              8C              D19_ENERGIE           W\n",
       "6              4A            D19_UNBEKANNT           W\n",
       "7              2D            D19_UNBEKANNT           W\n",
       "8              1A                      NaN           W\n",
       "9              1E             D19_KOSMETIK           W\n",
       "10             9D            D19_UNBEKANNT           W\n",
       "11            NaN                      NaN         NaN\n",
       "12             6B               D19_SCHUHE           W\n",
       "13             5C        D19_VOLLSORTIMENT           W\n",
       "14            NaN                      NaN         NaN\n",
       "15             8B            D19_UNBEKANNT           W\n",
       "16             7A             D19_SONSTIGE           W\n",
       "17            NaN                      NaN         NaN\n",
       "18             4C                      NaN           W\n",
       "19             5D                      NaN           W"
      ]
     },
     "execution_count": 74,
     "metadata": {},
     "output_type": "execute_result"
    }
   ],
   "source": [
    "azdias_clean[['CAMEO_DEU_2015', 'D19_LETZTER_KAUF_BRANCHE', 'OST_WEST_KZ']][:20]"
   ]
  },
  {
   "cell_type": "code",
   "execution_count": 75,
   "metadata": {},
   "outputs": [
    {
     "data": {
      "text/html": [
       "<div>\n",
       "<style scoped>\n",
       "    .dataframe tbody tr th:only-of-type {\n",
       "        vertical-align: middle;\n",
       "    }\n",
       "\n",
       "    .dataframe tbody tr th {\n",
       "        vertical-align: top;\n",
       "    }\n",
       "\n",
       "    .dataframe thead th {\n",
       "        text-align: right;\n",
       "    }\n",
       "</style>\n",
       "<table border=\"1\" class=\"dataframe\">\n",
       "  <thead>\n",
       "    <tr style=\"text-align: right;\">\n",
       "      <th></th>\n",
       "      <th>CAMEO_DEU_2015</th>\n",
       "      <th>D19_LETZTER_KAUF_BRANCHE</th>\n",
       "      <th>OST_WEST_KZ</th>\n",
       "      <th>PRODUCT_GROUP</th>\n",
       "      <th>CUSTOMER_GROUP</th>\n",
       "    </tr>\n",
       "  </thead>\n",
       "  <tbody>\n",
       "    <tr>\n",
       "      <th>0</th>\n",
       "      <td>1A</td>\n",
       "      <td>D19_UNBEKANNT</td>\n",
       "      <td>W</td>\n",
       "      <td>COSMETIC_AND_FOOD</td>\n",
       "      <td>MULTI_BUYER</td>\n",
       "    </tr>\n",
       "    <tr>\n",
       "      <th>1</th>\n",
       "      <td>NaN</td>\n",
       "      <td>D19_BANKEN_GROSS</td>\n",
       "      <td>NaN</td>\n",
       "      <td>FOOD</td>\n",
       "      <td>SINGLE_BUYER</td>\n",
       "    </tr>\n",
       "    <tr>\n",
       "      <th>2</th>\n",
       "      <td>5D</td>\n",
       "      <td>D19_UNBEKANNT</td>\n",
       "      <td>W</td>\n",
       "      <td>COSMETIC_AND_FOOD</td>\n",
       "      <td>MULTI_BUYER</td>\n",
       "    </tr>\n",
       "    <tr>\n",
       "      <th>3</th>\n",
       "      <td>4C</td>\n",
       "      <td>D19_NAHRUNGSERGAENZUNG</td>\n",
       "      <td>W</td>\n",
       "      <td>COSMETIC</td>\n",
       "      <td>MULTI_BUYER</td>\n",
       "    </tr>\n",
       "    <tr>\n",
       "      <th>4</th>\n",
       "      <td>7B</td>\n",
       "      <td>D19_SCHUHE</td>\n",
       "      <td>W</td>\n",
       "      <td>FOOD</td>\n",
       "      <td>MULTI_BUYER</td>\n",
       "    </tr>\n",
       "    <tr>\n",
       "      <th>5</th>\n",
       "      <td>5D</td>\n",
       "      <td>D19_BUCH_CD</td>\n",
       "      <td>W</td>\n",
       "      <td>COSMETIC_AND_FOOD</td>\n",
       "      <td>MULTI_BUYER</td>\n",
       "    </tr>\n",
       "    <tr>\n",
       "      <th>6</th>\n",
       "      <td>3B</td>\n",
       "      <td>D19_DROGERIEARTIKEL</td>\n",
       "      <td>W</td>\n",
       "      <td>COSMETIC_AND_FOOD</td>\n",
       "      <td>MULTI_BUYER</td>\n",
       "    </tr>\n",
       "    <tr>\n",
       "      <th>7</th>\n",
       "      <td>1D</td>\n",
       "      <td>D19_SONSTIGE</td>\n",
       "      <td>W</td>\n",
       "      <td>FOOD</td>\n",
       "      <td>SINGLE_BUYER</td>\n",
       "    </tr>\n",
       "    <tr>\n",
       "      <th>8</th>\n",
       "      <td>9E</td>\n",
       "      <td>D19_SONSTIGE</td>\n",
       "      <td>W</td>\n",
       "      <td>COSMETIC</td>\n",
       "      <td>MULTI_BUYER</td>\n",
       "    </tr>\n",
       "    <tr>\n",
       "      <th>9</th>\n",
       "      <td>1D</td>\n",
       "      <td>D19_BUCH_CD</td>\n",
       "      <td>W</td>\n",
       "      <td>COSMETIC</td>\n",
       "      <td>MULTI_BUYER</td>\n",
       "    </tr>\n",
       "    <tr>\n",
       "      <th>10</th>\n",
       "      <td>NaN</td>\n",
       "      <td>D19_BUCH_CD</td>\n",
       "      <td>NaN</td>\n",
       "      <td>COSMETIC</td>\n",
       "      <td>MULTI_BUYER</td>\n",
       "    </tr>\n",
       "    <tr>\n",
       "      <th>11</th>\n",
       "      <td>2D</td>\n",
       "      <td>D19_TECHNIK</td>\n",
       "      <td>W</td>\n",
       "      <td>FOOD</td>\n",
       "      <td>SINGLE_BUYER</td>\n",
       "    </tr>\n",
       "    <tr>\n",
       "      <th>12</th>\n",
       "      <td>4A</td>\n",
       "      <td>D19_VERSICHERUNGEN</td>\n",
       "      <td>W</td>\n",
       "      <td>FOOD</td>\n",
       "      <td>SINGLE_BUYER</td>\n",
       "    </tr>\n",
       "    <tr>\n",
       "      <th>13</th>\n",
       "      <td>6B</td>\n",
       "      <td>D19_BUCH_CD</td>\n",
       "      <td>W</td>\n",
       "      <td>FOOD</td>\n",
       "      <td>SINGLE_BUYER</td>\n",
       "    </tr>\n",
       "    <tr>\n",
       "      <th>14</th>\n",
       "      <td>9D</td>\n",
       "      <td>D19_BANKEN_GROSS</td>\n",
       "      <td>W</td>\n",
       "      <td>COSMETIC_AND_FOOD</td>\n",
       "      <td>MULTI_BUYER</td>\n",
       "    </tr>\n",
       "    <tr>\n",
       "      <th>15</th>\n",
       "      <td>1D</td>\n",
       "      <td>D19_SONSTIGE</td>\n",
       "      <td>W</td>\n",
       "      <td>COSMETIC_AND_FOOD</td>\n",
       "      <td>MULTI_BUYER</td>\n",
       "    </tr>\n",
       "    <tr>\n",
       "      <th>16</th>\n",
       "      <td>1D</td>\n",
       "      <td>D19_BUCH_CD</td>\n",
       "      <td>W</td>\n",
       "      <td>COSMETIC</td>\n",
       "      <td>SINGLE_BUYER</td>\n",
       "    </tr>\n",
       "    <tr>\n",
       "      <th>17</th>\n",
       "      <td>2D</td>\n",
       "      <td>D19_VERSICHERUNGEN</td>\n",
       "      <td>W</td>\n",
       "      <td>COSMETIC</td>\n",
       "      <td>MULTI_BUYER</td>\n",
       "    </tr>\n",
       "    <tr>\n",
       "      <th>18</th>\n",
       "      <td>8B</td>\n",
       "      <td>D19_VERSICHERUNGEN</td>\n",
       "      <td>W</td>\n",
       "      <td>COSMETIC</td>\n",
       "      <td>SINGLE_BUYER</td>\n",
       "    </tr>\n",
       "    <tr>\n",
       "      <th>19</th>\n",
       "      <td>4C</td>\n",
       "      <td>D19_SONSTIGE</td>\n",
       "      <td>W</td>\n",
       "      <td>FOOD</td>\n",
       "      <td>SINGLE_BUYER</td>\n",
       "    </tr>\n",
       "  </tbody>\n",
       "</table>\n",
       "</div>"
      ],
      "text/plain": [
       "   CAMEO_DEU_2015 D19_LETZTER_KAUF_BRANCHE OST_WEST_KZ      PRODUCT_GROUP  \\\n",
       "0              1A            D19_UNBEKANNT           W  COSMETIC_AND_FOOD   \n",
       "1             NaN         D19_BANKEN_GROSS         NaN               FOOD   \n",
       "2              5D            D19_UNBEKANNT           W  COSMETIC_AND_FOOD   \n",
       "3              4C   D19_NAHRUNGSERGAENZUNG           W           COSMETIC   \n",
       "4              7B               D19_SCHUHE           W               FOOD   \n",
       "5              5D              D19_BUCH_CD           W  COSMETIC_AND_FOOD   \n",
       "6              3B      D19_DROGERIEARTIKEL           W  COSMETIC_AND_FOOD   \n",
       "7              1D             D19_SONSTIGE           W               FOOD   \n",
       "8              9E             D19_SONSTIGE           W           COSMETIC   \n",
       "9              1D              D19_BUCH_CD           W           COSMETIC   \n",
       "10            NaN              D19_BUCH_CD         NaN           COSMETIC   \n",
       "11             2D              D19_TECHNIK           W               FOOD   \n",
       "12             4A       D19_VERSICHERUNGEN           W               FOOD   \n",
       "13             6B              D19_BUCH_CD           W               FOOD   \n",
       "14             9D         D19_BANKEN_GROSS           W  COSMETIC_AND_FOOD   \n",
       "15             1D             D19_SONSTIGE           W  COSMETIC_AND_FOOD   \n",
       "16             1D              D19_BUCH_CD           W           COSMETIC   \n",
       "17             2D       D19_VERSICHERUNGEN           W           COSMETIC   \n",
       "18             8B       D19_VERSICHERUNGEN           W           COSMETIC   \n",
       "19             4C             D19_SONSTIGE           W               FOOD   \n",
       "\n",
       "   CUSTOMER_GROUP  \n",
       "0     MULTI_BUYER  \n",
       "1    SINGLE_BUYER  \n",
       "2     MULTI_BUYER  \n",
       "3     MULTI_BUYER  \n",
       "4     MULTI_BUYER  \n",
       "5     MULTI_BUYER  \n",
       "6     MULTI_BUYER  \n",
       "7    SINGLE_BUYER  \n",
       "8     MULTI_BUYER  \n",
       "9     MULTI_BUYER  \n",
       "10    MULTI_BUYER  \n",
       "11   SINGLE_BUYER  \n",
       "12   SINGLE_BUYER  \n",
       "13   SINGLE_BUYER  \n",
       "14    MULTI_BUYER  \n",
       "15    MULTI_BUYER  \n",
       "16   SINGLE_BUYER  \n",
       "17    MULTI_BUYER  \n",
       "18   SINGLE_BUYER  \n",
       "19   SINGLE_BUYER  "
      ]
     },
     "execution_count": 75,
     "metadata": {},
     "output_type": "execute_result"
    }
   ],
   "source": [
    "customers_clean[['CAMEO_DEU_2015', 'D19_LETZTER_KAUF_BRANCHE', 'OST_WEST_KZ','PRODUCT_GROUP', 'CUSTOMER_GROUP']][:20]"
   ]
  },
  {
   "cell_type": "code",
   "execution_count": 76,
   "metadata": {},
   "outputs": [
    {
     "data": {
      "text/plain": [
       "45"
      ]
     },
     "execution_count": 76,
     "metadata": {},
     "output_type": "execute_result"
    }
   ],
   "source": [
    "azdias_clean['CAMEO_DEU_2015'].nunique()"
   ]
  },
  {
   "cell_type": "code",
   "execution_count": 77,
   "metadata": {},
   "outputs": [
    {
     "data": {
      "text/plain": [
       "45"
      ]
     },
     "execution_count": 77,
     "metadata": {},
     "output_type": "execute_result"
    }
   ],
   "source": [
    "customers_clean['CAMEO_DEU_2015'].nunique()"
   ]
  },
  {
   "cell_type": "code",
   "execution_count": 78,
   "metadata": {},
   "outputs": [
    {
     "data": {
      "text/plain": [
       "35"
      ]
     },
     "execution_count": 78,
     "metadata": {},
     "output_type": "execute_result"
    }
   ],
   "source": [
    "azdias_clean['D19_LETZTER_KAUF_BRANCHE'].nunique()"
   ]
  },
  {
   "cell_type": "code",
   "execution_count": 79,
   "metadata": {},
   "outputs": [
    {
     "data": {
      "text/plain": [
       "W    629528\n",
       "O    168545\n",
       "Name: OST_WEST_KZ, dtype: int64"
      ]
     },
     "execution_count": 79,
     "metadata": {},
     "output_type": "execute_result"
    }
   ],
   "source": [
    "azdias_clean['OST_WEST_KZ'].value_counts()"
   ]
  },
  {
   "cell_type": "code",
   "execution_count": 80,
   "metadata": {},
   "outputs": [
    {
     "data": {
      "text/plain": [
       "COSMETIC_AND_FOOD    100860\n",
       "FOOD                  47382\n",
       "COSMETIC              43410\n",
       "Name: PRODUCT_GROUP, dtype: int64"
      ]
     },
     "execution_count": 80,
     "metadata": {},
     "output_type": "execute_result"
    }
   ],
   "source": [
    "customers_clean['PRODUCT_GROUP'].value_counts()"
   ]
  },
  {
   "cell_type": "code",
   "execution_count": 81,
   "metadata": {},
   "outputs": [
    {
     "data": {
      "text/plain": [
       "MULTI_BUYER     132238\n",
       "SINGLE_BUYER     59414\n",
       "Name: CUSTOMER_GROUP, dtype: int64"
      ]
     },
     "execution_count": 81,
     "metadata": {},
     "output_type": "execute_result"
    }
   ],
   "source": [
    "customers_clean['CUSTOMER_GROUP'].value_counts()"
   ]
  },
  {
   "cell_type": "markdown",
   "metadata": {},
   "source": [
    "All those columns may contain valuable information for the analysis. Particularly, 'CAMEO_DEU_2015'column, which contains information about specific group a person belongs to."
   ]
  },
  {
   "cell_type": "markdown",
   "metadata": {},
   "source": [
    "#### 0.5.5 Apply one-hot encoding"
   ]
  },
  {
   "cell_type": "markdown",
   "metadata": {},
   "source": [
    "I used one-hot encoding to create dummy variables for categorical attributes. This procedure needs to be done before feeding the data to the model."
   ]
  },
  {
   "cell_type": "code",
   "execution_count": 82,
   "metadata": {},
   "outputs": [
    {
     "name": "stdout",
     "output_type": "stream",
     "text": [
      "CPU times: user 2.84 s, sys: 7.16 s, total: 10 s\n",
      "Wall time: 13.7 s\n"
     ]
    }
   ],
   "source": [
    "%%time\n",
    "azdias_clean = pd.get_dummies(azdias_clean)"
   ]
  },
  {
   "cell_type": "code",
   "execution_count": 83,
   "metadata": {},
   "outputs": [
    {
     "data": {
      "text/html": [
       "<div>\n",
       "<style scoped>\n",
       "    .dataframe tbody tr th:only-of-type {\n",
       "        vertical-align: middle;\n",
       "    }\n",
       "\n",
       "    .dataframe tbody tr th {\n",
       "        vertical-align: top;\n",
       "    }\n",
       "\n",
       "    .dataframe thead th {\n",
       "        text-align: right;\n",
       "    }\n",
       "</style>\n",
       "<table border=\"1\" class=\"dataframe\">\n",
       "  <thead>\n",
       "    <tr style=\"text-align: right;\">\n",
       "      <th></th>\n",
       "      <th>LNR</th>\n",
       "      <th>AKT_DAT_KL</th>\n",
       "      <th>ALTER_HH</th>\n",
       "      <th>ALTERSKATEGORIE_FEIN</th>\n",
       "      <th>ANZ_HAUSHALTE_AKTIV</th>\n",
       "      <th>ANZ_HH_TITEL</th>\n",
       "      <th>ANZ_KINDER</th>\n",
       "      <th>ANZ_PERSONEN</th>\n",
       "      <th>ANZ_STATISTISCHE_HAUSHALTE</th>\n",
       "      <th>ANZ_TITEL</th>\n",
       "      <th>...</th>\n",
       "      <th>D19_LETZTER_KAUF_BRANCHE_D19_TELKO_MOBILE</th>\n",
       "      <th>D19_LETZTER_KAUF_BRANCHE_D19_TELKO_REST</th>\n",
       "      <th>D19_LETZTER_KAUF_BRANCHE_D19_TIERARTIKEL</th>\n",
       "      <th>D19_LETZTER_KAUF_BRANCHE_D19_UNBEKANNT</th>\n",
       "      <th>D19_LETZTER_KAUF_BRANCHE_D19_VERSAND_REST</th>\n",
       "      <th>D19_LETZTER_KAUF_BRANCHE_D19_VERSICHERUNGEN</th>\n",
       "      <th>D19_LETZTER_KAUF_BRANCHE_D19_VOLLSORTIMENT</th>\n",
       "      <th>D19_LETZTER_KAUF_BRANCHE_D19_WEIN_FEINKOST</th>\n",
       "      <th>OST_WEST_KZ_O</th>\n",
       "      <th>OST_WEST_KZ_W</th>\n",
       "    </tr>\n",
       "  </thead>\n",
       "  <tbody>\n",
       "    <tr>\n",
       "      <th>0</th>\n",
       "      <td>910215</td>\n",
       "      <td>NaN</td>\n",
       "      <td>NaN</td>\n",
       "      <td>NaN</td>\n",
       "      <td>NaN</td>\n",
       "      <td>NaN</td>\n",
       "      <td>NaN</td>\n",
       "      <td>NaN</td>\n",
       "      <td>NaN</td>\n",
       "      <td>NaN</td>\n",
       "      <td>...</td>\n",
       "      <td>0</td>\n",
       "      <td>0</td>\n",
       "      <td>0</td>\n",
       "      <td>0</td>\n",
       "      <td>0</td>\n",
       "      <td>0</td>\n",
       "      <td>0</td>\n",
       "      <td>0</td>\n",
       "      <td>0</td>\n",
       "      <td>0</td>\n",
       "    </tr>\n",
       "    <tr>\n",
       "      <th>1</th>\n",
       "      <td>910220</td>\n",
       "      <td>9.0</td>\n",
       "      <td>0.0</td>\n",
       "      <td>21.0</td>\n",
       "      <td>11.0</td>\n",
       "      <td>0.0</td>\n",
       "      <td>0.0</td>\n",
       "      <td>2.0</td>\n",
       "      <td>12.0</td>\n",
       "      <td>0.0</td>\n",
       "      <td>...</td>\n",
       "      <td>0</td>\n",
       "      <td>0</td>\n",
       "      <td>0</td>\n",
       "      <td>0</td>\n",
       "      <td>0</td>\n",
       "      <td>0</td>\n",
       "      <td>0</td>\n",
       "      <td>0</td>\n",
       "      <td>0</td>\n",
       "      <td>1</td>\n",
       "    </tr>\n",
       "    <tr>\n",
       "      <th>2</th>\n",
       "      <td>910225</td>\n",
       "      <td>9.0</td>\n",
       "      <td>17.0</td>\n",
       "      <td>17.0</td>\n",
       "      <td>10.0</td>\n",
       "      <td>0.0</td>\n",
       "      <td>0.0</td>\n",
       "      <td>1.0</td>\n",
       "      <td>7.0</td>\n",
       "      <td>0.0</td>\n",
       "      <td>...</td>\n",
       "      <td>0</td>\n",
       "      <td>0</td>\n",
       "      <td>0</td>\n",
       "      <td>1</td>\n",
       "      <td>0</td>\n",
       "      <td>0</td>\n",
       "      <td>0</td>\n",
       "      <td>0</td>\n",
       "      <td>0</td>\n",
       "      <td>1</td>\n",
       "    </tr>\n",
       "    <tr>\n",
       "      <th>3</th>\n",
       "      <td>910226</td>\n",
       "      <td>1.0</td>\n",
       "      <td>13.0</td>\n",
       "      <td>13.0</td>\n",
       "      <td>1.0</td>\n",
       "      <td>0.0</td>\n",
       "      <td>0.0</td>\n",
       "      <td>0.0</td>\n",
       "      <td>2.0</td>\n",
       "      <td>0.0</td>\n",
       "      <td>...</td>\n",
       "      <td>0</td>\n",
       "      <td>0</td>\n",
       "      <td>0</td>\n",
       "      <td>1</td>\n",
       "      <td>0</td>\n",
       "      <td>0</td>\n",
       "      <td>0</td>\n",
       "      <td>0</td>\n",
       "      <td>0</td>\n",
       "      <td>1</td>\n",
       "    </tr>\n",
       "    <tr>\n",
       "      <th>4</th>\n",
       "      <td>910241</td>\n",
       "      <td>1.0</td>\n",
       "      <td>20.0</td>\n",
       "      <td>14.0</td>\n",
       "      <td>3.0</td>\n",
       "      <td>0.0</td>\n",
       "      <td>0.0</td>\n",
       "      <td>4.0</td>\n",
       "      <td>3.0</td>\n",
       "      <td>0.0</td>\n",
       "      <td>...</td>\n",
       "      <td>0</td>\n",
       "      <td>0</td>\n",
       "      <td>0</td>\n",
       "      <td>0</td>\n",
       "      <td>0</td>\n",
       "      <td>0</td>\n",
       "      <td>0</td>\n",
       "      <td>0</td>\n",
       "      <td>0</td>\n",
       "      <td>1</td>\n",
       "    </tr>\n",
       "  </tbody>\n",
       "</table>\n",
       "<p>5 rows × 437 columns</p>\n",
       "</div>"
      ],
      "text/plain": [
       "      LNR  AKT_DAT_KL  ALTER_HH  ALTERSKATEGORIE_FEIN  ANZ_HAUSHALTE_AKTIV  \\\n",
       "0  910215         NaN       NaN                   NaN                  NaN   \n",
       "1  910220         9.0       0.0                  21.0                 11.0   \n",
       "2  910225         9.0      17.0                  17.0                 10.0   \n",
       "3  910226         1.0      13.0                  13.0                  1.0   \n",
       "4  910241         1.0      20.0                  14.0                  3.0   \n",
       "\n",
       "   ANZ_HH_TITEL  ANZ_KINDER  ANZ_PERSONEN  ANZ_STATISTISCHE_HAUSHALTE  \\\n",
       "0           NaN         NaN           NaN                         NaN   \n",
       "1           0.0         0.0           2.0                        12.0   \n",
       "2           0.0         0.0           1.0                         7.0   \n",
       "3           0.0         0.0           0.0                         2.0   \n",
       "4           0.0         0.0           4.0                         3.0   \n",
       "\n",
       "   ANZ_TITEL  ...  D19_LETZTER_KAUF_BRANCHE_D19_TELKO_MOBILE  \\\n",
       "0        NaN  ...                                          0   \n",
       "1        0.0  ...                                          0   \n",
       "2        0.0  ...                                          0   \n",
       "3        0.0  ...                                          0   \n",
       "4        0.0  ...                                          0   \n",
       "\n",
       "   D19_LETZTER_KAUF_BRANCHE_D19_TELKO_REST  \\\n",
       "0                                        0   \n",
       "1                                        0   \n",
       "2                                        0   \n",
       "3                                        0   \n",
       "4                                        0   \n",
       "\n",
       "   D19_LETZTER_KAUF_BRANCHE_D19_TIERARTIKEL  \\\n",
       "0                                         0   \n",
       "1                                         0   \n",
       "2                                         0   \n",
       "3                                         0   \n",
       "4                                         0   \n",
       "\n",
       "   D19_LETZTER_KAUF_BRANCHE_D19_UNBEKANNT  \\\n",
       "0                                       0   \n",
       "1                                       0   \n",
       "2                                       1   \n",
       "3                                       1   \n",
       "4                                       0   \n",
       "\n",
       "   D19_LETZTER_KAUF_BRANCHE_D19_VERSAND_REST  \\\n",
       "0                                          0   \n",
       "1                                          0   \n",
       "2                                          0   \n",
       "3                                          0   \n",
       "4                                          0   \n",
       "\n",
       "   D19_LETZTER_KAUF_BRANCHE_D19_VERSICHERUNGEN  \\\n",
       "0                                            0   \n",
       "1                                            0   \n",
       "2                                            0   \n",
       "3                                            0   \n",
       "4                                            0   \n",
       "\n",
       "   D19_LETZTER_KAUF_BRANCHE_D19_VOLLSORTIMENT  \\\n",
       "0                                           0   \n",
       "1                                           0   \n",
       "2                                           0   \n",
       "3                                           0   \n",
       "4                                           0   \n",
       "\n",
       "   D19_LETZTER_KAUF_BRANCHE_D19_WEIN_FEINKOST  OST_WEST_KZ_O  OST_WEST_KZ_W  \n",
       "0                                           0              0              0  \n",
       "1                                           0              0              1  \n",
       "2                                           0              0              1  \n",
       "3                                           0              0              1  \n",
       "4                                           0              0              1  \n",
       "\n",
       "[5 rows x 437 columns]"
      ]
     },
     "execution_count": 83,
     "metadata": {},
     "output_type": "execute_result"
    }
   ],
   "source": [
    "azdias_clean.head()"
   ]
  },
  {
   "cell_type": "code",
   "execution_count": 84,
   "metadata": {},
   "outputs": [
    {
     "data": {
      "text/plain": [
       "(891221, 437)"
      ]
     },
     "execution_count": 84,
     "metadata": {},
     "output_type": "execute_result"
    }
   ],
   "source": [
    "azdias_clean.shape"
   ]
  },
  {
   "cell_type": "code",
   "execution_count": 85,
   "metadata": {},
   "outputs": [
    {
     "name": "stdout",
     "output_type": "stream",
     "text": [
      "CPU times: user 570 ms, sys: 1.02 s, total: 1.59 s\n",
      "Wall time: 1.84 s\n"
     ]
    }
   ],
   "source": [
    "%%time\n",
    "customers_clean = pd.get_dummies(customers_clean)"
   ]
  },
  {
   "cell_type": "code",
   "execution_count": 86,
   "metadata": {},
   "outputs": [
    {
     "data": {
      "text/html": [
       "<div>\n",
       "<style scoped>\n",
       "    .dataframe tbody tr th:only-of-type {\n",
       "        vertical-align: middle;\n",
       "    }\n",
       "\n",
       "    .dataframe tbody tr th {\n",
       "        vertical-align: top;\n",
       "    }\n",
       "\n",
       "    .dataframe thead th {\n",
       "        text-align: right;\n",
       "    }\n",
       "</style>\n",
       "<table border=\"1\" class=\"dataframe\">\n",
       "  <thead>\n",
       "    <tr style=\"text-align: right;\">\n",
       "      <th></th>\n",
       "      <th>LNR</th>\n",
       "      <th>AKT_DAT_KL</th>\n",
       "      <th>ALTER_HH</th>\n",
       "      <th>ALTERSKATEGORIE_FEIN</th>\n",
       "      <th>ANZ_HAUSHALTE_AKTIV</th>\n",
       "      <th>ANZ_HH_TITEL</th>\n",
       "      <th>ANZ_KINDER</th>\n",
       "      <th>ANZ_PERSONEN</th>\n",
       "      <th>ANZ_STATISTISCHE_HAUSHALTE</th>\n",
       "      <th>ANZ_TITEL</th>\n",
       "      <th>...</th>\n",
       "      <th>D19_LETZTER_KAUF_BRANCHE_D19_VERSICHERUNGEN</th>\n",
       "      <th>D19_LETZTER_KAUF_BRANCHE_D19_VOLLSORTIMENT</th>\n",
       "      <th>D19_LETZTER_KAUF_BRANCHE_D19_WEIN_FEINKOST</th>\n",
       "      <th>OST_WEST_KZ_O</th>\n",
       "      <th>OST_WEST_KZ_W</th>\n",
       "      <th>PRODUCT_GROUP_COSMETIC</th>\n",
       "      <th>PRODUCT_GROUP_COSMETIC_AND_FOOD</th>\n",
       "      <th>PRODUCT_GROUP_FOOD</th>\n",
       "      <th>CUSTOMER_GROUP_MULTI_BUYER</th>\n",
       "      <th>CUSTOMER_GROUP_SINGLE_BUYER</th>\n",
       "    </tr>\n",
       "  </thead>\n",
       "  <tbody>\n",
       "    <tr>\n",
       "      <th>0</th>\n",
       "      <td>9626</td>\n",
       "      <td>1.0</td>\n",
       "      <td>10.0</td>\n",
       "      <td>10.0</td>\n",
       "      <td>1.0</td>\n",
       "      <td>0.0</td>\n",
       "      <td>0.0</td>\n",
       "      <td>2.0</td>\n",
       "      <td>1.0</td>\n",
       "      <td>0.0</td>\n",
       "      <td>...</td>\n",
       "      <td>0</td>\n",
       "      <td>0</td>\n",
       "      <td>0</td>\n",
       "      <td>0</td>\n",
       "      <td>1</td>\n",
       "      <td>0</td>\n",
       "      <td>1</td>\n",
       "      <td>0</td>\n",
       "      <td>1</td>\n",
       "      <td>0</td>\n",
       "    </tr>\n",
       "    <tr>\n",
       "      <th>1</th>\n",
       "      <td>9628</td>\n",
       "      <td>9.0</td>\n",
       "      <td>11.0</td>\n",
       "      <td>NaN</td>\n",
       "      <td>NaN</td>\n",
       "      <td>NaN</td>\n",
       "      <td>0.0</td>\n",
       "      <td>3.0</td>\n",
       "      <td>NaN</td>\n",
       "      <td>0.0</td>\n",
       "      <td>...</td>\n",
       "      <td>0</td>\n",
       "      <td>0</td>\n",
       "      <td>0</td>\n",
       "      <td>0</td>\n",
       "      <td>0</td>\n",
       "      <td>0</td>\n",
       "      <td>0</td>\n",
       "      <td>1</td>\n",
       "      <td>0</td>\n",
       "      <td>1</td>\n",
       "    </tr>\n",
       "    <tr>\n",
       "      <th>2</th>\n",
       "      <td>143872</td>\n",
       "      <td>1.0</td>\n",
       "      <td>6.0</td>\n",
       "      <td>0.0</td>\n",
       "      <td>1.0</td>\n",
       "      <td>0.0</td>\n",
       "      <td>0.0</td>\n",
       "      <td>1.0</td>\n",
       "      <td>1.0</td>\n",
       "      <td>0.0</td>\n",
       "      <td>...</td>\n",
       "      <td>0</td>\n",
       "      <td>0</td>\n",
       "      <td>0</td>\n",
       "      <td>0</td>\n",
       "      <td>1</td>\n",
       "      <td>0</td>\n",
       "      <td>1</td>\n",
       "      <td>0</td>\n",
       "      <td>1</td>\n",
       "      <td>0</td>\n",
       "    </tr>\n",
       "    <tr>\n",
       "      <th>3</th>\n",
       "      <td>143873</td>\n",
       "      <td>1.0</td>\n",
       "      <td>8.0</td>\n",
       "      <td>8.0</td>\n",
       "      <td>0.0</td>\n",
       "      <td>NaN</td>\n",
       "      <td>0.0</td>\n",
       "      <td>0.0</td>\n",
       "      <td>1.0</td>\n",
       "      <td>0.0</td>\n",
       "      <td>...</td>\n",
       "      <td>0</td>\n",
       "      <td>0</td>\n",
       "      <td>0</td>\n",
       "      <td>0</td>\n",
       "      <td>1</td>\n",
       "      <td>1</td>\n",
       "      <td>0</td>\n",
       "      <td>0</td>\n",
       "      <td>1</td>\n",
       "      <td>0</td>\n",
       "    </tr>\n",
       "    <tr>\n",
       "      <th>4</th>\n",
       "      <td>143874</td>\n",
       "      <td>1.0</td>\n",
       "      <td>20.0</td>\n",
       "      <td>14.0</td>\n",
       "      <td>7.0</td>\n",
       "      <td>0.0</td>\n",
       "      <td>0.0</td>\n",
       "      <td>4.0</td>\n",
       "      <td>7.0</td>\n",
       "      <td>0.0</td>\n",
       "      <td>...</td>\n",
       "      <td>0</td>\n",
       "      <td>0</td>\n",
       "      <td>0</td>\n",
       "      <td>0</td>\n",
       "      <td>1</td>\n",
       "      <td>0</td>\n",
       "      <td>0</td>\n",
       "      <td>1</td>\n",
       "      <td>1</td>\n",
       "      <td>0</td>\n",
       "    </tr>\n",
       "  </tbody>\n",
       "</table>\n",
       "<p>5 rows × 441 columns</p>\n",
       "</div>"
      ],
      "text/plain": [
       "      LNR  AKT_DAT_KL  ALTER_HH  ALTERSKATEGORIE_FEIN  ANZ_HAUSHALTE_AKTIV  \\\n",
       "0    9626         1.0      10.0                  10.0                  1.0   \n",
       "1    9628         9.0      11.0                   NaN                  NaN   \n",
       "2  143872         1.0       6.0                   0.0                  1.0   \n",
       "3  143873         1.0       8.0                   8.0                  0.0   \n",
       "4  143874         1.0      20.0                  14.0                  7.0   \n",
       "\n",
       "   ANZ_HH_TITEL  ANZ_KINDER  ANZ_PERSONEN  ANZ_STATISTISCHE_HAUSHALTE  \\\n",
       "0           0.0         0.0           2.0                         1.0   \n",
       "1           NaN         0.0           3.0                         NaN   \n",
       "2           0.0         0.0           1.0                         1.0   \n",
       "3           NaN         0.0           0.0                         1.0   \n",
       "4           0.0         0.0           4.0                         7.0   \n",
       "\n",
       "   ANZ_TITEL  ...  D19_LETZTER_KAUF_BRANCHE_D19_VERSICHERUNGEN  \\\n",
       "0        0.0  ...                                            0   \n",
       "1        0.0  ...                                            0   \n",
       "2        0.0  ...                                            0   \n",
       "3        0.0  ...                                            0   \n",
       "4        0.0  ...                                            0   \n",
       "\n",
       "   D19_LETZTER_KAUF_BRANCHE_D19_VOLLSORTIMENT  \\\n",
       "0                                           0   \n",
       "1                                           0   \n",
       "2                                           0   \n",
       "3                                           0   \n",
       "4                                           0   \n",
       "\n",
       "   D19_LETZTER_KAUF_BRANCHE_D19_WEIN_FEINKOST  OST_WEST_KZ_O  OST_WEST_KZ_W  \\\n",
       "0                                           0              0              1   \n",
       "1                                           0              0              0   \n",
       "2                                           0              0              1   \n",
       "3                                           0              0              1   \n",
       "4                                           0              0              1   \n",
       "\n",
       "   PRODUCT_GROUP_COSMETIC  PRODUCT_GROUP_COSMETIC_AND_FOOD  \\\n",
       "0                       0                                1   \n",
       "1                       0                                0   \n",
       "2                       0                                1   \n",
       "3                       1                                0   \n",
       "4                       0                                0   \n",
       "\n",
       "   PRODUCT_GROUP_FOOD  CUSTOMER_GROUP_MULTI_BUYER  CUSTOMER_GROUP_SINGLE_BUYER  \n",
       "0                   0                           1                            0  \n",
       "1                   1                           0                            1  \n",
       "2                   0                           1                            0  \n",
       "3                   0                           1                            0  \n",
       "4                   1                           1                            0  \n",
       "\n",
       "[5 rows x 441 columns]"
      ]
     },
     "execution_count": 86,
     "metadata": {},
     "output_type": "execute_result"
    }
   ],
   "source": [
    "customers_clean.head()"
   ]
  },
  {
   "cell_type": "markdown",
   "metadata": {},
   "source": [
    "Let's delete unnecessary columns, which have duplicated information for binary features such as 'OST_WEST_KZ' and 'CUSTOMER_GROUP'."
   ]
  },
  {
   "cell_type": "code",
   "execution_count": 87,
   "metadata": {},
   "outputs": [
    {
     "data": {
      "text/plain": [
       "(891221, 436)"
      ]
     },
     "execution_count": 87,
     "metadata": {},
     "output_type": "execute_result"
    }
   ],
   "source": [
    "azdias_clean.drop(columns=['OST_WEST_KZ_W'], inplace=True)\n",
    "azdias_clean.shape"
   ]
  },
  {
   "cell_type": "code",
   "execution_count": 88,
   "metadata": {},
   "outputs": [
    {
     "data": {
      "text/plain": [
       "(191652, 439)"
      ]
     },
     "execution_count": 88,
     "metadata": {},
     "output_type": "execute_result"
    }
   ],
   "source": [
    "customers_clean.drop(columns=['OST_WEST_KZ_W', 'CUSTOMER_GROUP_SINGLE_BUYER'], inplace=True)\n",
    "customers_clean.shape"
   ]
  },
  {
   "cell_type": "code",
   "execution_count": 92,
   "metadata": {},
   "outputs": [
    {
     "name": "stdout",
     "output_type": "stream",
     "text": [
      "Percentage of missing values in Azdias dataset: 7.660503260298836\n",
      "\n",
      "Percentage of missing values in Customers dataset: 15.34658466724545\n"
     ]
    }
   ],
   "source": [
    "# Let's check the percentage of missing values in each dataset after one-hot encoding\n",
    "print(\"Percentage of missing values in Azdias dataset:\",\n",
    " azdias_clean.isnull().sum().sum()*100/(azdias_clean.shape[0]*azdias_clean.shape[1]))\n",
    "print()\n",
    "print(\"Percentage of missing values in Customers dataset:\",\n",
    " customers_clean.isnull().sum().sum()*100/(customers_clean.shape[0]*customers_clean.shape[1]))"
   ]
  },
  {
   "cell_type": "code",
   "execution_count": 90,
   "metadata": {},
   "outputs": [],
   "source": [
    "# Save cleaned data\n",
    "azdias_clean.to_csv('azdias_after_cleaning.csv', index=False)\n",
    "customers_clean.to_csv('customers_after_cleaning.csv', index=False)"
   ]
  },
  {
   "cell_type": "markdown",
   "metadata": {},
   "source": [
    "#### 0.5.6 Fill in NULL values"
   ]
  },
  {
   "cell_type": "code",
   "execution_count": 93,
   "metadata": {},
   "outputs": [
    {
     "name": "stdout",
     "output_type": "stream",
     "text": [
      "CPU times: user 15.9 s, sys: 18 s, total: 33.9 s\n",
      "Wall time: 44.8 s\n"
     ]
    }
   ],
   "source": [
    "%%time\n",
    "azdias_clean = azdias_clean.fillna(azdias_clean.mode().iloc[0])"
   ]
  },
  {
   "cell_type": "code",
   "execution_count": 94,
   "metadata": {},
   "outputs": [
    {
     "name": "stdout",
     "output_type": "stream",
     "text": [
      "CPU times: user 3.47 s, sys: 1.81 s, total: 5.28 s\n",
      "Wall time: 6.36 s\n"
     ]
    }
   ],
   "source": [
    "%%time\n",
    "customers_clean = customers_clean.fillna(customers_clean.mode().iloc[0])"
   ]
  },
  {
   "cell_type": "code",
   "execution_count": 96,
   "metadata": {},
   "outputs": [
    {
     "name": "stdout",
     "output_type": "stream",
     "text": [
      "Missing values in Azdias dataset AFTER cleaning: 0\n",
      "Missing values in Customers dataset AFTER cleaning: 0\n"
     ]
    }
   ],
   "source": [
    "# Check NULL values in dataframes\n",
    "print(\"Missing values in Azdias dataset AFTER cleaning:\", azdias_clean.isnull().sum().sum())\n",
    "print(\"Missing values in Customers dataset AFTER cleaning:\", customers_clean.isnull().sum().sum())"
   ]
  },
  {
   "cell_type": "markdown",
   "metadata": {},
   "source": [
    "#### 0.5.7 Visualize data after data cleaning"
   ]
  },
  {
   "cell_type": "markdown",
   "metadata": {},
   "source": [
    "Let us use pandas-profiling to look at cleaned data."
   ]
  },
  {
   "cell_type": "code",
   "execution_count": 101,
   "metadata": {},
   "outputs": [
    {
     "name": "stdout",
     "output_type": "stream",
     "text": [
      "CPU times: user 185 ms, sys: 1.3 s, total: 1.49 s\n",
      "Wall time: 2.25 s\n"
     ]
    }
   ],
   "source": [
    "%%time\n",
    "profile_azdias_clean = ProfileReport(azdias_clean, title='EDA for Azdias dataset after cleaning', explorative = True, minimal=True)\n",
    "profile_customers_clean = ProfileReport(customers_clean, title='EDA for Customers dataset after cleaning', explorative = True, minimal=True)"
   ]
  },
  {
   "cell_type": "code",
   "execution_count": 102,
   "metadata": {},
   "outputs": [
    {
     "data": {
      "application/vnd.jupyter.widget-view+json": {
       "model_id": "2b1b9656c37e46b4b0a8971b110c3727",
       "version_major": 2,
       "version_minor": 0
      },
      "text/plain": [
       "HBox(children=(HTML(value='Summarize dataset'), FloatProgress(value=0.0, max=445.0), HTML(value='')))"
      ]
     },
     "metadata": {},
     "output_type": "display_data"
    },
    {
     "name": "stdout",
     "output_type": "stream",
     "text": [
      "\n"
     ]
    },
    {
     "data": {
      "application/vnd.jupyter.widget-view+json": {
       "model_id": "d8bbc621092641cd8e6a1f490576cc03",
       "version_major": 2,
       "version_minor": 0
      },
      "text/plain": [
       "HBox(children=(HTML(value='Generate report structure'), FloatProgress(value=0.0, max=1.0), HTML(value='')))"
      ]
     },
     "metadata": {},
     "output_type": "display_data"
    },
    {
     "name": "stdout",
     "output_type": "stream",
     "text": [
      "\n"
     ]
    },
    {
     "data": {
      "application/vnd.jupyter.widget-view+json": {
       "model_id": "87fef4f3209f481b823d7724cff1e154",
       "version_major": 2,
       "version_minor": 0
      },
      "text/plain": [
       "HBox(children=(HTML(value='Render HTML'), FloatProgress(value=0.0, max=1.0), HTML(value='')))"
      ]
     },
     "metadata": {},
     "output_type": "display_data"
    },
    {
     "name": "stdout",
     "output_type": "stream",
     "text": [
      "\n"
     ]
    },
    {
     "data": {
      "application/vnd.jupyter.widget-view+json": {
       "model_id": "8232355560b94f1aba7b251d95ffde1f",
       "version_major": 2,
       "version_minor": 0
      },
      "text/plain": [
       "HBox(children=(HTML(value='Export report to file'), FloatProgress(value=0.0, max=1.0), HTML(value='')))"
      ]
     },
     "metadata": {},
     "output_type": "display_data"
    },
    {
     "name": "stdout",
     "output_type": "stream",
     "text": [
      "\n"
     ]
    },
    {
     "data": {
      "application/vnd.jupyter.widget-view+json": {
       "model_id": "2010fb1cb56249e287f2d7e4dce4c3ee",
       "version_major": 2,
       "version_minor": 0
      },
      "text/plain": [
       "HBox(children=(HTML(value='Summarize dataset'), FloatProgress(value=0.0, max=448.0), HTML(value='')))"
      ]
     },
     "metadata": {},
     "output_type": "display_data"
    },
    {
     "name": "stdout",
     "output_type": "stream",
     "text": [
      "\n"
     ]
    },
    {
     "data": {
      "application/vnd.jupyter.widget-view+json": {
       "model_id": "888a5f63ff2042d1b9f92243ecb99811",
       "version_major": 2,
       "version_minor": 0
      },
      "text/plain": [
       "HBox(children=(HTML(value='Generate report structure'), FloatProgress(value=0.0, max=1.0), HTML(value='')))"
      ]
     },
     "metadata": {},
     "output_type": "display_data"
    },
    {
     "name": "stdout",
     "output_type": "stream",
     "text": [
      "\n"
     ]
    },
    {
     "data": {
      "application/vnd.jupyter.widget-view+json": {
       "model_id": "e7de6468443b465583bf8a00fbcd8de3",
       "version_major": 2,
       "version_minor": 0
      },
      "text/plain": [
       "HBox(children=(HTML(value='Render HTML'), FloatProgress(value=0.0, max=1.0), HTML(value='')))"
      ]
     },
     "metadata": {},
     "output_type": "display_data"
    },
    {
     "name": "stdout",
     "output_type": "stream",
     "text": [
      "\n"
     ]
    },
    {
     "data": {
      "application/vnd.jupyter.widget-view+json": {
       "model_id": "75e0412c1d8948c4a7190ed9dca41219",
       "version_major": 2,
       "version_minor": 0
      },
      "text/plain": [
       "HBox(children=(HTML(value='Export report to file'), FloatProgress(value=0.0, max=1.0), HTML(value='')))"
      ]
     },
     "metadata": {},
     "output_type": "display_data"
    },
    {
     "name": "stdout",
     "output_type": "stream",
     "text": [
      "\n",
      "CPU times: user 4min 44s, sys: 42.7 s, total: 5min 27s\n",
      "Wall time: 4min 45s\n"
     ]
    }
   ],
   "source": [
    "%%time\n",
    "# Make output files\n",
    "profile_azdias_clean.to_file(output_file='output_azdias_after_cleaning.html')\n",
    "profile_customers_clean.to_file(output_file='output_customers_after_cleaning.html')"
   ]
  },
  {
   "cell_type": "markdown",
   "metadata": {},
   "source": [
    "We got some warnings on zeros and skewed data. The skewed data occured due to filling in the data with mode values."
   ]
  },
  {
   "cell_type": "markdown",
   "metadata": {},
   "source": [
    "## Part 1: Customer Segmentation Report\n",
    "\n",
    "The main bulk of your analysis will come in this part of the project. Here, you should use unsupervised learning techniques to describe the relationship between the demographics of the company's existing customers and the general population of Germany. By the end of this part, you should be able to describe parts of the general population that are more likely to be part of the mail-order company's main customer base, and which parts of the general population are less so."
   ]
  },
  {
   "cell_type": "markdown",
   "metadata": {},
   "source": [
    "#### Solution\n",
    "In order to find new potential customers for the service, I decided to\n",
    "1. Understand current customers by identifying clusters within subscibed users\n",
    "2. Find similar users in the genereal population dataset.\n",
    "\n",
    "#### From technical perspective, my solution has the following steps:\n",
    "1. Drop additional columns in customers dataset ('CUSTOMER_GROUP', 'ONLINE_PURCHASE', and 'PRODUCT_GROUP') to unify both datasets\n",
    "2. Conduct feature scaling to make sure that the features have the same range\n",
    "3. We got 435 attributes in Azdias dataset. It's better to conduct PCA for reducing dimensionality, which may help for k-means clustering to find clusters\n",
    "4. Run k-means clustering and find customer segments\n",
    "5. Use Euclidean distance to find the distances between centroids and existing people in the general population. This approach can help to find potential users\n",
    "5. Obtain a list of users, which can be potential subscibers of the mail-order company."
   ]
  },
  {
   "cell_type": "markdown",
   "metadata": {},
   "source": [
    "### 1.1 Data preprocessing"
   ]
  },
  {
   "cell_type": "code",
   "execution_count": 172,
   "metadata": {},
   "outputs": [],
   "source": [
    "azdias_clean = pd.read_csv(\"azdias_after_cleaning.csv\")\n",
    "customers_clean = pd.read_csv(\"customers_after_cleaning.csv\")"
   ]
  },
  {
   "cell_type": "code",
   "execution_count": 173,
   "metadata": {},
   "outputs": [
    {
     "name": "stdout",
     "output_type": "stream",
     "text": [
      "CPU times: user 14.3 s, sys: 12.8 s, total: 27.1 s\n",
      "Wall time: 29 s\n"
     ]
    }
   ],
   "source": [
    "%%time\n",
    "azdias_clean = azdias_clean.fillna(azdias_clean.mode().iloc[0])"
   ]
  },
  {
   "cell_type": "code",
   "execution_count": 174,
   "metadata": {},
   "outputs": [
    {
     "name": "stdout",
     "output_type": "stream",
     "text": [
      "CPU times: user 3.06 s, sys: 1.29 s, total: 4.34 s\n",
      "Wall time: 4.65 s\n"
     ]
    }
   ],
   "source": [
    "%%time\n",
    "customers_clean = customers_clean.fillna(customers_clean.mode().iloc[0])"
   ]
  },
  {
   "cell_type": "code",
   "execution_count": 175,
   "metadata": {},
   "outputs": [
    {
     "data": {
      "text/html": [
       "<div>\n",
       "<style scoped>\n",
       "    .dataframe tbody tr th:only-of-type {\n",
       "        vertical-align: middle;\n",
       "    }\n",
       "\n",
       "    .dataframe tbody tr th {\n",
       "        vertical-align: top;\n",
       "    }\n",
       "\n",
       "    .dataframe thead th {\n",
       "        text-align: right;\n",
       "    }\n",
       "</style>\n",
       "<table border=\"1\" class=\"dataframe\">\n",
       "  <thead>\n",
       "    <tr style=\"text-align: right;\">\n",
       "      <th></th>\n",
       "      <th>LNR</th>\n",
       "      <th>AKT_DAT_KL</th>\n",
       "      <th>ALTER_HH</th>\n",
       "      <th>ALTERSKATEGORIE_FEIN</th>\n",
       "      <th>ANZ_HAUSHALTE_AKTIV</th>\n",
       "      <th>ANZ_HH_TITEL</th>\n",
       "      <th>ANZ_KINDER</th>\n",
       "      <th>ANZ_PERSONEN</th>\n",
       "      <th>ANZ_STATISTISCHE_HAUSHALTE</th>\n",
       "      <th>ANZ_TITEL</th>\n",
       "      <th>...</th>\n",
       "      <th>D19_LETZTER_KAUF_BRANCHE_D19_TECHNIK</th>\n",
       "      <th>D19_LETZTER_KAUF_BRANCHE_D19_TELKO_MOBILE</th>\n",
       "      <th>D19_LETZTER_KAUF_BRANCHE_D19_TELKO_REST</th>\n",
       "      <th>D19_LETZTER_KAUF_BRANCHE_D19_TIERARTIKEL</th>\n",
       "      <th>D19_LETZTER_KAUF_BRANCHE_D19_UNBEKANNT</th>\n",
       "      <th>D19_LETZTER_KAUF_BRANCHE_D19_VERSAND_REST</th>\n",
       "      <th>D19_LETZTER_KAUF_BRANCHE_D19_VERSICHERUNGEN</th>\n",
       "      <th>D19_LETZTER_KAUF_BRANCHE_D19_VOLLSORTIMENT</th>\n",
       "      <th>D19_LETZTER_KAUF_BRANCHE_D19_WEIN_FEINKOST</th>\n",
       "      <th>OST_WEST_KZ_O</th>\n",
       "    </tr>\n",
       "  </thead>\n",
       "  <tbody>\n",
       "    <tr>\n",
       "      <th>0</th>\n",
       "      <td>910215</td>\n",
       "      <td>1.0</td>\n",
       "      <td>0.0</td>\n",
       "      <td>15.0</td>\n",
       "      <td>1.0</td>\n",
       "      <td>0.0</td>\n",
       "      <td>0.0</td>\n",
       "      <td>1.0</td>\n",
       "      <td>1.0</td>\n",
       "      <td>0.0</td>\n",
       "      <td>...</td>\n",
       "      <td>0</td>\n",
       "      <td>0</td>\n",
       "      <td>0</td>\n",
       "      <td>0</td>\n",
       "      <td>0</td>\n",
       "      <td>0</td>\n",
       "      <td>0</td>\n",
       "      <td>0</td>\n",
       "      <td>0</td>\n",
       "      <td>0</td>\n",
       "    </tr>\n",
       "    <tr>\n",
       "      <th>1</th>\n",
       "      <td>910220</td>\n",
       "      <td>9.0</td>\n",
       "      <td>0.0</td>\n",
       "      <td>21.0</td>\n",
       "      <td>11.0</td>\n",
       "      <td>0.0</td>\n",
       "      <td>0.0</td>\n",
       "      <td>2.0</td>\n",
       "      <td>12.0</td>\n",
       "      <td>0.0</td>\n",
       "      <td>...</td>\n",
       "      <td>0</td>\n",
       "      <td>0</td>\n",
       "      <td>0</td>\n",
       "      <td>0</td>\n",
       "      <td>0</td>\n",
       "      <td>0</td>\n",
       "      <td>0</td>\n",
       "      <td>0</td>\n",
       "      <td>0</td>\n",
       "      <td>0</td>\n",
       "    </tr>\n",
       "    <tr>\n",
       "      <th>2</th>\n",
       "      <td>910225</td>\n",
       "      <td>9.0</td>\n",
       "      <td>17.0</td>\n",
       "      <td>17.0</td>\n",
       "      <td>10.0</td>\n",
       "      <td>0.0</td>\n",
       "      <td>0.0</td>\n",
       "      <td>1.0</td>\n",
       "      <td>7.0</td>\n",
       "      <td>0.0</td>\n",
       "      <td>...</td>\n",
       "      <td>0</td>\n",
       "      <td>0</td>\n",
       "      <td>0</td>\n",
       "      <td>0</td>\n",
       "      <td>1</td>\n",
       "      <td>0</td>\n",
       "      <td>0</td>\n",
       "      <td>0</td>\n",
       "      <td>0</td>\n",
       "      <td>0</td>\n",
       "    </tr>\n",
       "    <tr>\n",
       "      <th>3</th>\n",
       "      <td>910226</td>\n",
       "      <td>1.0</td>\n",
       "      <td>13.0</td>\n",
       "      <td>13.0</td>\n",
       "      <td>1.0</td>\n",
       "      <td>0.0</td>\n",
       "      <td>0.0</td>\n",
       "      <td>0.0</td>\n",
       "      <td>2.0</td>\n",
       "      <td>0.0</td>\n",
       "      <td>...</td>\n",
       "      <td>0</td>\n",
       "      <td>0</td>\n",
       "      <td>0</td>\n",
       "      <td>0</td>\n",
       "      <td>1</td>\n",
       "      <td>0</td>\n",
       "      <td>0</td>\n",
       "      <td>0</td>\n",
       "      <td>0</td>\n",
       "      <td>0</td>\n",
       "    </tr>\n",
       "    <tr>\n",
       "      <th>4</th>\n",
       "      <td>910241</td>\n",
       "      <td>1.0</td>\n",
       "      <td>20.0</td>\n",
       "      <td>14.0</td>\n",
       "      <td>3.0</td>\n",
       "      <td>0.0</td>\n",
       "      <td>0.0</td>\n",
       "      <td>4.0</td>\n",
       "      <td>3.0</td>\n",
       "      <td>0.0</td>\n",
       "      <td>...</td>\n",
       "      <td>0</td>\n",
       "      <td>0</td>\n",
       "      <td>0</td>\n",
       "      <td>0</td>\n",
       "      <td>0</td>\n",
       "      <td>0</td>\n",
       "      <td>0</td>\n",
       "      <td>0</td>\n",
       "      <td>0</td>\n",
       "      <td>0</td>\n",
       "    </tr>\n",
       "  </tbody>\n",
       "</table>\n",
       "<p>5 rows × 436 columns</p>\n",
       "</div>"
      ],
      "text/plain": [
       "      LNR  AKT_DAT_KL  ALTER_HH  ALTERSKATEGORIE_FEIN  ANZ_HAUSHALTE_AKTIV  \\\n",
       "0  910215         1.0       0.0                  15.0                  1.0   \n",
       "1  910220         9.0       0.0                  21.0                 11.0   \n",
       "2  910225         9.0      17.0                  17.0                 10.0   \n",
       "3  910226         1.0      13.0                  13.0                  1.0   \n",
       "4  910241         1.0      20.0                  14.0                  3.0   \n",
       "\n",
       "   ANZ_HH_TITEL  ANZ_KINDER  ANZ_PERSONEN  ANZ_STATISTISCHE_HAUSHALTE  \\\n",
       "0           0.0         0.0           1.0                         1.0   \n",
       "1           0.0         0.0           2.0                        12.0   \n",
       "2           0.0         0.0           1.0                         7.0   \n",
       "3           0.0         0.0           0.0                         2.0   \n",
       "4           0.0         0.0           4.0                         3.0   \n",
       "\n",
       "   ANZ_TITEL  ...  D19_LETZTER_KAUF_BRANCHE_D19_TECHNIK  \\\n",
       "0        0.0  ...                                     0   \n",
       "1        0.0  ...                                     0   \n",
       "2        0.0  ...                                     0   \n",
       "3        0.0  ...                                     0   \n",
       "4        0.0  ...                                     0   \n",
       "\n",
       "   D19_LETZTER_KAUF_BRANCHE_D19_TELKO_MOBILE  \\\n",
       "0                                          0   \n",
       "1                                          0   \n",
       "2                                          0   \n",
       "3                                          0   \n",
       "4                                          0   \n",
       "\n",
       "   D19_LETZTER_KAUF_BRANCHE_D19_TELKO_REST  \\\n",
       "0                                        0   \n",
       "1                                        0   \n",
       "2                                        0   \n",
       "3                                        0   \n",
       "4                                        0   \n",
       "\n",
       "   D19_LETZTER_KAUF_BRANCHE_D19_TIERARTIKEL  \\\n",
       "0                                         0   \n",
       "1                                         0   \n",
       "2                                         0   \n",
       "3                                         0   \n",
       "4                                         0   \n",
       "\n",
       "   D19_LETZTER_KAUF_BRANCHE_D19_UNBEKANNT  \\\n",
       "0                                       0   \n",
       "1                                       0   \n",
       "2                                       1   \n",
       "3                                       1   \n",
       "4                                       0   \n",
       "\n",
       "   D19_LETZTER_KAUF_BRANCHE_D19_VERSAND_REST  \\\n",
       "0                                          0   \n",
       "1                                          0   \n",
       "2                                          0   \n",
       "3                                          0   \n",
       "4                                          0   \n",
       "\n",
       "   D19_LETZTER_KAUF_BRANCHE_D19_VERSICHERUNGEN  \\\n",
       "0                                            0   \n",
       "1                                            0   \n",
       "2                                            0   \n",
       "3                                            0   \n",
       "4                                            0   \n",
       "\n",
       "   D19_LETZTER_KAUF_BRANCHE_D19_VOLLSORTIMENT  \\\n",
       "0                                           0   \n",
       "1                                           0   \n",
       "2                                           0   \n",
       "3                                           0   \n",
       "4                                           0   \n",
       "\n",
       "   D19_LETZTER_KAUF_BRANCHE_D19_WEIN_FEINKOST  OST_WEST_KZ_O  \n",
       "0                                           0              0  \n",
       "1                                           0              0  \n",
       "2                                           0              0  \n",
       "3                                           0              0  \n",
       "4                                           0              0  \n",
       "\n",
       "[5 rows x 436 columns]"
      ]
     },
     "execution_count": 175,
     "metadata": {},
     "output_type": "execute_result"
    }
   ],
   "source": [
    "azdias_clean.head()"
   ]
  },
  {
   "cell_type": "markdown",
   "metadata": {},
   "source": [
    "#### 1.1.1 Unify columns"
   ]
  },
  {
   "cell_type": "code",
   "execution_count": 176,
   "metadata": {},
   "outputs": [
    {
     "data": {
      "text/plain": [
       "(891221, 436)"
      ]
     },
     "execution_count": 176,
     "metadata": {},
     "output_type": "execute_result"
    }
   ],
   "source": [
    "azdias_clean.shape"
   ]
  },
  {
   "cell_type": "code",
   "execution_count": 177,
   "metadata": {},
   "outputs": [
    {
     "data": {
      "text/plain": [
       "(191652, 439)"
      ]
     },
     "execution_count": 177,
     "metadata": {},
     "output_type": "execute_result"
    }
   ],
   "source": [
    "customers_clean.shape"
   ]
  },
  {
   "cell_type": "code",
   "execution_count": 178,
   "metadata": {},
   "outputs": [
    {
     "data": {
      "text/plain": [
       "{'CUSTOMER_GROUP_MULTI_BUYER',\n",
       " 'ONLINE_PURCHASE',\n",
       " 'PRODUCT_GROUP_COSMETIC',\n",
       " 'PRODUCT_GROUP_COSMETIC_AND_FOOD',\n",
       " 'PRODUCT_GROUP_FOOD'}"
      ]
     },
     "execution_count": 178,
     "metadata": {},
     "output_type": "execute_result"
    }
   ],
   "source": [
    "# Difference in columns\n",
    "set(list(customers_clean.columns)) - set(list(azdias_clean.columns))"
   ]
  },
  {
   "cell_type": "code",
   "execution_count": 179,
   "metadata": {},
   "outputs": [
    {
     "data": {
      "text/plain": [
       "{'KKK', 'REGIOTYP'}"
      ]
     },
     "execution_count": 179,
     "metadata": {},
     "output_type": "execute_result"
    }
   ],
   "source": [
    "# Difference in columns\n",
    "set(list(azdias_clean.columns)) - set(list(customers_clean.columns))"
   ]
  },
  {
   "cell_type": "code",
   "execution_count": 180,
   "metadata": {},
   "outputs": [],
   "source": [
    "# Drop columns\n",
    "customers_clean.drop(columns=['CUSTOMER_GROUP_MULTI_BUYER','ONLINE_PURCHASE', 'PRODUCT_GROUP_COSMETIC',\n",
    "                              'PRODUCT_GROUP_COSMETIC_AND_FOOD', 'PRODUCT_GROUP_FOOD'], inplace=True)\n",
    "azdias_clean.drop(columns=['KKK', 'REGIOTYP'], inplace=True)"
   ]
  },
  {
   "cell_type": "code",
   "execution_count": 181,
   "metadata": {},
   "outputs": [
    {
     "data": {
      "text/plain": [
       "(891221, 434)"
      ]
     },
     "execution_count": 181,
     "metadata": {},
     "output_type": "execute_result"
    }
   ],
   "source": [
    "azdias_clean.shape"
   ]
  },
  {
   "cell_type": "code",
   "execution_count": 182,
   "metadata": {},
   "outputs": [
    {
     "data": {
      "text/plain": [
       "(191652, 434)"
      ]
     },
     "execution_count": 182,
     "metadata": {},
     "output_type": "execute_result"
    }
   ],
   "source": [
    "customers_clean.shape"
   ]
  },
  {
   "cell_type": "markdown",
   "metadata": {},
   "source": [
    "Now we have identical columns for each dataset."
   ]
  },
  {
   "cell_type": "markdown",
   "metadata": {},
   "source": [
    "#### 1.1.2 Feature scaling"
   ]
  },
  {
   "cell_type": "code",
   "execution_count": 183,
   "metadata": {},
   "outputs": [],
   "source": [
    "# Copy datasets before data transformation\n",
    "X_azdias = azdias_clean.copy()\n",
    "X_customers= customers_clean.copy()"
   ]
  },
  {
   "cell_type": "code",
   "execution_count": 184,
   "metadata": {},
   "outputs": [],
   "source": [
    "# Let's drop ids from the dataframes\n",
    "X_azdias.drop(columns=[\"LNR\"], inplace=True)\n",
    "X_customers.drop(columns=[\"LNR\"], inplace=True)"
   ]
  },
  {
   "cell_type": "code",
   "execution_count": 185,
   "metadata": {},
   "outputs": [],
   "source": [
    "scaler = StandardScaler()\n",
    "\n",
    "scaler.fit(X_azdias)\n",
    "\n",
    "X_azdias = pd.DataFrame(scaler.transform(X_azdias), columns = X_azdias.columns)\n",
    "X_customers = pd.DataFrame(scaler.transform(X_customers), columns = X_customers.columns)"
   ]
  },
  {
   "cell_type": "code",
   "execution_count": 186,
   "metadata": {},
   "outputs": [
    {
     "data": {
      "text/html": [
       "<div>\n",
       "<style scoped>\n",
       "    .dataframe tbody tr th:only-of-type {\n",
       "        vertical-align: middle;\n",
       "    }\n",
       "\n",
       "    .dataframe tbody tr th {\n",
       "        vertical-align: top;\n",
       "    }\n",
       "\n",
       "    .dataframe thead th {\n",
       "        text-align: right;\n",
       "    }\n",
       "</style>\n",
       "<table border=\"1\" class=\"dataframe\">\n",
       "  <thead>\n",
       "    <tr style=\"text-align: right;\">\n",
       "      <th></th>\n",
       "      <th>AKT_DAT_KL</th>\n",
       "      <th>ALTER_HH</th>\n",
       "      <th>ALTERSKATEGORIE_FEIN</th>\n",
       "      <th>ANZ_HAUSHALTE_AKTIV</th>\n",
       "      <th>ANZ_HH_TITEL</th>\n",
       "      <th>ANZ_KINDER</th>\n",
       "      <th>ANZ_PERSONEN</th>\n",
       "      <th>ANZ_STATISTISCHE_HAUSHALTE</th>\n",
       "      <th>ANZ_TITEL</th>\n",
       "      <th>ARBEIT</th>\n",
       "      <th>...</th>\n",
       "      <th>D19_LETZTER_KAUF_BRANCHE_D19_TECHNIK</th>\n",
       "      <th>D19_LETZTER_KAUF_BRANCHE_D19_TELKO_MOBILE</th>\n",
       "      <th>D19_LETZTER_KAUF_BRANCHE_D19_TELKO_REST</th>\n",
       "      <th>D19_LETZTER_KAUF_BRANCHE_D19_TIERARTIKEL</th>\n",
       "      <th>D19_LETZTER_KAUF_BRANCHE_D19_UNBEKANNT</th>\n",
       "      <th>D19_LETZTER_KAUF_BRANCHE_D19_VERSAND_REST</th>\n",
       "      <th>D19_LETZTER_KAUF_BRANCHE_D19_VERSICHERUNGEN</th>\n",
       "      <th>D19_LETZTER_KAUF_BRANCHE_D19_VOLLSORTIMENT</th>\n",
       "      <th>D19_LETZTER_KAUF_BRANCHE_D19_WEIN_FEINKOST</th>\n",
       "      <th>OST_WEST_KZ_O</th>\n",
       "    </tr>\n",
       "  </thead>\n",
       "  <tbody>\n",
       "    <tr>\n",
       "      <th>0</th>\n",
       "      <td>-0.869634</td>\n",
       "      <td>-1.261061</td>\n",
       "      <td>0.212708</td>\n",
       "      <td>-0.436323</td>\n",
       "      <td>-0.118316</td>\n",
       "      <td>-0.292527</td>\n",
       "      <td>-0.593390</td>\n",
       "      <td>-0.430981</td>\n",
       "      <td>-0.057885</td>\n",
       "      <td>0.755697</td>\n",
       "      <td>...</td>\n",
       "      <td>-0.088988</td>\n",
       "      <td>-0.128365</td>\n",
       "      <td>-0.114193</td>\n",
       "      <td>-0.053861</td>\n",
       "      <td>-0.529816</td>\n",
       "      <td>-0.173466</td>\n",
       "      <td>-0.263188</td>\n",
       "      <td>-0.201615</td>\n",
       "      <td>-0.049336</td>\n",
       "      <td>-0.482932</td>\n",
       "    </tr>\n",
       "    <tr>\n",
       "      <th>1</th>\n",
       "      <td>1.346190</td>\n",
       "      <td>-1.261061</td>\n",
       "      <td>1.606082</td>\n",
       "      <td>0.232308</td>\n",
       "      <td>-0.118316</td>\n",
       "      <td>-0.292527</td>\n",
       "      <td>0.295412</td>\n",
       "      <td>0.371236</td>\n",
       "      <td>-0.057885</td>\n",
       "      <td>-0.263623</td>\n",
       "      <td>...</td>\n",
       "      <td>-0.088988</td>\n",
       "      <td>-0.128365</td>\n",
       "      <td>-0.114193</td>\n",
       "      <td>-0.053861</td>\n",
       "      <td>-0.529816</td>\n",
       "      <td>-0.173466</td>\n",
       "      <td>-0.263188</td>\n",
       "      <td>-0.201615</td>\n",
       "      <td>-0.049336</td>\n",
       "      <td>-0.482932</td>\n",
       "    </tr>\n",
       "    <tr>\n",
       "      <th>2</th>\n",
       "      <td>1.346190</td>\n",
       "      <td>0.889590</td>\n",
       "      <td>0.677166</td>\n",
       "      <td>0.165445</td>\n",
       "      <td>-0.118316</td>\n",
       "      <td>-0.292527</td>\n",
       "      <td>-0.593390</td>\n",
       "      <td>0.006592</td>\n",
       "      <td>-0.057885</td>\n",
       "      <td>-0.263623</td>\n",
       "      <td>...</td>\n",
       "      <td>-0.088988</td>\n",
       "      <td>-0.128365</td>\n",
       "      <td>-0.114193</td>\n",
       "      <td>-0.053861</td>\n",
       "      <td>1.887447</td>\n",
       "      <td>-0.173466</td>\n",
       "      <td>-0.263188</td>\n",
       "      <td>-0.201615</td>\n",
       "      <td>-0.049336</td>\n",
       "      <td>-0.482932</td>\n",
       "    </tr>\n",
       "    <tr>\n",
       "      <th>3</th>\n",
       "      <td>-0.869634</td>\n",
       "      <td>0.383554</td>\n",
       "      <td>-0.251750</td>\n",
       "      <td>-0.436323</td>\n",
       "      <td>-0.118316</td>\n",
       "      <td>-0.292527</td>\n",
       "      <td>-1.482193</td>\n",
       "      <td>-0.358052</td>\n",
       "      <td>-0.057885</td>\n",
       "      <td>-1.282942</td>\n",
       "      <td>...</td>\n",
       "      <td>-0.088988</td>\n",
       "      <td>-0.128365</td>\n",
       "      <td>-0.114193</td>\n",
       "      <td>-0.053861</td>\n",
       "      <td>1.887447</td>\n",
       "      <td>-0.173466</td>\n",
       "      <td>-0.263188</td>\n",
       "      <td>-0.201615</td>\n",
       "      <td>-0.049336</td>\n",
       "      <td>-0.482932</td>\n",
       "    </tr>\n",
       "    <tr>\n",
       "      <th>4</th>\n",
       "      <td>-0.869634</td>\n",
       "      <td>1.269116</td>\n",
       "      <td>-0.019521</td>\n",
       "      <td>-0.302597</td>\n",
       "      <td>-0.118316</td>\n",
       "      <td>-0.292527</td>\n",
       "      <td>2.073018</td>\n",
       "      <td>-0.285123</td>\n",
       "      <td>-0.057885</td>\n",
       "      <td>0.755697</td>\n",
       "      <td>...</td>\n",
       "      <td>-0.088988</td>\n",
       "      <td>-0.128365</td>\n",
       "      <td>-0.114193</td>\n",
       "      <td>-0.053861</td>\n",
       "      <td>-0.529816</td>\n",
       "      <td>-0.173466</td>\n",
       "      <td>-0.263188</td>\n",
       "      <td>-0.201615</td>\n",
       "      <td>-0.049336</td>\n",
       "      <td>-0.482932</td>\n",
       "    </tr>\n",
       "  </tbody>\n",
       "</table>\n",
       "<p>5 rows × 433 columns</p>\n",
       "</div>"
      ],
      "text/plain": [
       "   AKT_DAT_KL  ALTER_HH  ALTERSKATEGORIE_FEIN  ANZ_HAUSHALTE_AKTIV  \\\n",
       "0   -0.869634 -1.261061              0.212708            -0.436323   \n",
       "1    1.346190 -1.261061              1.606082             0.232308   \n",
       "2    1.346190  0.889590              0.677166             0.165445   \n",
       "3   -0.869634  0.383554             -0.251750            -0.436323   \n",
       "4   -0.869634  1.269116             -0.019521            -0.302597   \n",
       "\n",
       "   ANZ_HH_TITEL  ANZ_KINDER  ANZ_PERSONEN  ANZ_STATISTISCHE_HAUSHALTE  \\\n",
       "0     -0.118316   -0.292527     -0.593390                   -0.430981   \n",
       "1     -0.118316   -0.292527      0.295412                    0.371236   \n",
       "2     -0.118316   -0.292527     -0.593390                    0.006592   \n",
       "3     -0.118316   -0.292527     -1.482193                   -0.358052   \n",
       "4     -0.118316   -0.292527      2.073018                   -0.285123   \n",
       "\n",
       "   ANZ_TITEL    ARBEIT  ...  D19_LETZTER_KAUF_BRANCHE_D19_TECHNIK  \\\n",
       "0  -0.057885  0.755697  ...                             -0.088988   \n",
       "1  -0.057885 -0.263623  ...                             -0.088988   \n",
       "2  -0.057885 -0.263623  ...                             -0.088988   \n",
       "3  -0.057885 -1.282942  ...                             -0.088988   \n",
       "4  -0.057885  0.755697  ...                             -0.088988   \n",
       "\n",
       "   D19_LETZTER_KAUF_BRANCHE_D19_TELKO_MOBILE  \\\n",
       "0                                  -0.128365   \n",
       "1                                  -0.128365   \n",
       "2                                  -0.128365   \n",
       "3                                  -0.128365   \n",
       "4                                  -0.128365   \n",
       "\n",
       "   D19_LETZTER_KAUF_BRANCHE_D19_TELKO_REST  \\\n",
       "0                                -0.114193   \n",
       "1                                -0.114193   \n",
       "2                                -0.114193   \n",
       "3                                -0.114193   \n",
       "4                                -0.114193   \n",
       "\n",
       "   D19_LETZTER_KAUF_BRANCHE_D19_TIERARTIKEL  \\\n",
       "0                                 -0.053861   \n",
       "1                                 -0.053861   \n",
       "2                                 -0.053861   \n",
       "3                                 -0.053861   \n",
       "4                                 -0.053861   \n",
       "\n",
       "   D19_LETZTER_KAUF_BRANCHE_D19_UNBEKANNT  \\\n",
       "0                               -0.529816   \n",
       "1                               -0.529816   \n",
       "2                                1.887447   \n",
       "3                                1.887447   \n",
       "4                               -0.529816   \n",
       "\n",
       "   D19_LETZTER_KAUF_BRANCHE_D19_VERSAND_REST  \\\n",
       "0                                  -0.173466   \n",
       "1                                  -0.173466   \n",
       "2                                  -0.173466   \n",
       "3                                  -0.173466   \n",
       "4                                  -0.173466   \n",
       "\n",
       "   D19_LETZTER_KAUF_BRANCHE_D19_VERSICHERUNGEN  \\\n",
       "0                                    -0.263188   \n",
       "1                                    -0.263188   \n",
       "2                                    -0.263188   \n",
       "3                                    -0.263188   \n",
       "4                                    -0.263188   \n",
       "\n",
       "   D19_LETZTER_KAUF_BRANCHE_D19_VOLLSORTIMENT  \\\n",
       "0                                   -0.201615   \n",
       "1                                   -0.201615   \n",
       "2                                   -0.201615   \n",
       "3                                   -0.201615   \n",
       "4                                   -0.201615   \n",
       "\n",
       "   D19_LETZTER_KAUF_BRANCHE_D19_WEIN_FEINKOST  OST_WEST_KZ_O  \n",
       "0                                   -0.049336      -0.482932  \n",
       "1                                   -0.049336      -0.482932  \n",
       "2                                   -0.049336      -0.482932  \n",
       "3                                   -0.049336      -0.482932  \n",
       "4                                   -0.049336      -0.482932  \n",
       "\n",
       "[5 rows x 433 columns]"
      ]
     },
     "execution_count": 186,
     "metadata": {},
     "output_type": "execute_result"
    }
   ],
   "source": [
    "X_azdias.head()"
   ]
  },
  {
   "cell_type": "code",
   "execution_count": 187,
   "metadata": {},
   "outputs": [
    {
     "data": {
      "text/html": [
       "<div>\n",
       "<style scoped>\n",
       "    .dataframe tbody tr th:only-of-type {\n",
       "        vertical-align: middle;\n",
       "    }\n",
       "\n",
       "    .dataframe tbody tr th {\n",
       "        vertical-align: top;\n",
       "    }\n",
       "\n",
       "    .dataframe thead th {\n",
       "        text-align: right;\n",
       "    }\n",
       "</style>\n",
       "<table border=\"1\" class=\"dataframe\">\n",
       "  <thead>\n",
       "    <tr style=\"text-align: right;\">\n",
       "      <th></th>\n",
       "      <th>AKT_DAT_KL</th>\n",
       "      <th>ALTER_HH</th>\n",
       "      <th>ALTERSKATEGORIE_FEIN</th>\n",
       "      <th>ANZ_HAUSHALTE_AKTIV</th>\n",
       "      <th>ANZ_HH_TITEL</th>\n",
       "      <th>ANZ_KINDER</th>\n",
       "      <th>ANZ_PERSONEN</th>\n",
       "      <th>ANZ_STATISTISCHE_HAUSHALTE</th>\n",
       "      <th>ANZ_TITEL</th>\n",
       "      <th>ARBEIT</th>\n",
       "      <th>...</th>\n",
       "      <th>D19_LETZTER_KAUF_BRANCHE_D19_TECHNIK</th>\n",
       "      <th>D19_LETZTER_KAUF_BRANCHE_D19_TELKO_MOBILE</th>\n",
       "      <th>D19_LETZTER_KAUF_BRANCHE_D19_TELKO_REST</th>\n",
       "      <th>D19_LETZTER_KAUF_BRANCHE_D19_TIERARTIKEL</th>\n",
       "      <th>D19_LETZTER_KAUF_BRANCHE_D19_UNBEKANNT</th>\n",
       "      <th>D19_LETZTER_KAUF_BRANCHE_D19_VERSAND_REST</th>\n",
       "      <th>D19_LETZTER_KAUF_BRANCHE_D19_VERSICHERUNGEN</th>\n",
       "      <th>D19_LETZTER_KAUF_BRANCHE_D19_VOLLSORTIMENT</th>\n",
       "      <th>D19_LETZTER_KAUF_BRANCHE_D19_WEIN_FEINKOST</th>\n",
       "      <th>OST_WEST_KZ_O</th>\n",
       "    </tr>\n",
       "  </thead>\n",
       "  <tbody>\n",
       "    <tr>\n",
       "      <th>0</th>\n",
       "      <td>-0.869634</td>\n",
       "      <td>0.004028</td>\n",
       "      <td>-0.948437</td>\n",
       "      <td>-0.436323</td>\n",
       "      <td>-0.118316</td>\n",
       "      <td>-0.292527</td>\n",
       "      <td>0.295412</td>\n",
       "      <td>-0.430981</td>\n",
       "      <td>-0.057885</td>\n",
       "      <td>-2.302262</td>\n",
       "      <td>...</td>\n",
       "      <td>-0.088988</td>\n",
       "      <td>-0.128365</td>\n",
       "      <td>-0.114193</td>\n",
       "      <td>-0.053861</td>\n",
       "      <td>1.887447</td>\n",
       "      <td>-0.173466</td>\n",
       "      <td>-0.263188</td>\n",
       "      <td>-0.201615</td>\n",
       "      <td>-0.049336</td>\n",
       "      <td>-0.482932</td>\n",
       "    </tr>\n",
       "    <tr>\n",
       "      <th>1</th>\n",
       "      <td>1.346190</td>\n",
       "      <td>0.130537</td>\n",
       "      <td>-0.948437</td>\n",
       "      <td>-0.436323</td>\n",
       "      <td>-0.118316</td>\n",
       "      <td>-0.292527</td>\n",
       "      <td>1.184215</td>\n",
       "      <td>-0.430981</td>\n",
       "      <td>-0.057885</td>\n",
       "      <td>-0.263623</td>\n",
       "      <td>...</td>\n",
       "      <td>-0.088988</td>\n",
       "      <td>-0.128365</td>\n",
       "      <td>-0.114193</td>\n",
       "      <td>-0.053861</td>\n",
       "      <td>-0.529816</td>\n",
       "      <td>-0.173466</td>\n",
       "      <td>-0.263188</td>\n",
       "      <td>-0.201615</td>\n",
       "      <td>-0.049336</td>\n",
       "      <td>-0.482932</td>\n",
       "    </tr>\n",
       "    <tr>\n",
       "      <th>2</th>\n",
       "      <td>-0.869634</td>\n",
       "      <td>-0.502008</td>\n",
       "      <td>-3.270726</td>\n",
       "      <td>-0.436323</td>\n",
       "      <td>-0.118316</td>\n",
       "      <td>-0.292527</td>\n",
       "      <td>-0.593390</td>\n",
       "      <td>-0.430981</td>\n",
       "      <td>-0.057885</td>\n",
       "      <td>-0.263623</td>\n",
       "      <td>...</td>\n",
       "      <td>-0.088988</td>\n",
       "      <td>-0.128365</td>\n",
       "      <td>-0.114193</td>\n",
       "      <td>-0.053861</td>\n",
       "      <td>1.887447</td>\n",
       "      <td>-0.173466</td>\n",
       "      <td>-0.263188</td>\n",
       "      <td>-0.201615</td>\n",
       "      <td>-0.049336</td>\n",
       "      <td>-0.482932</td>\n",
       "    </tr>\n",
       "    <tr>\n",
       "      <th>3</th>\n",
       "      <td>-0.869634</td>\n",
       "      <td>-0.248990</td>\n",
       "      <td>-1.412895</td>\n",
       "      <td>-0.503186</td>\n",
       "      <td>-0.118316</td>\n",
       "      <td>-0.292527</td>\n",
       "      <td>-1.482193</td>\n",
       "      <td>-0.430981</td>\n",
       "      <td>-0.057885</td>\n",
       "      <td>-2.302262</td>\n",
       "      <td>...</td>\n",
       "      <td>-0.088988</td>\n",
       "      <td>-0.128365</td>\n",
       "      <td>-0.114193</td>\n",
       "      <td>-0.053861</td>\n",
       "      <td>-0.529816</td>\n",
       "      <td>-0.173466</td>\n",
       "      <td>-0.263188</td>\n",
       "      <td>-0.201615</td>\n",
       "      <td>-0.049336</td>\n",
       "      <td>-0.482932</td>\n",
       "    </tr>\n",
       "    <tr>\n",
       "      <th>4</th>\n",
       "      <td>-0.869634</td>\n",
       "      <td>1.269116</td>\n",
       "      <td>-0.019521</td>\n",
       "      <td>-0.035144</td>\n",
       "      <td>-0.118316</td>\n",
       "      <td>-0.292527</td>\n",
       "      <td>2.073018</td>\n",
       "      <td>0.006592</td>\n",
       "      <td>-0.057885</td>\n",
       "      <td>-0.263623</td>\n",
       "      <td>...</td>\n",
       "      <td>-0.088988</td>\n",
       "      <td>-0.128365</td>\n",
       "      <td>-0.114193</td>\n",
       "      <td>-0.053861</td>\n",
       "      <td>-0.529816</td>\n",
       "      <td>-0.173466</td>\n",
       "      <td>-0.263188</td>\n",
       "      <td>-0.201615</td>\n",
       "      <td>-0.049336</td>\n",
       "      <td>-0.482932</td>\n",
       "    </tr>\n",
       "  </tbody>\n",
       "</table>\n",
       "<p>5 rows × 433 columns</p>\n",
       "</div>"
      ],
      "text/plain": [
       "   AKT_DAT_KL  ALTER_HH  ALTERSKATEGORIE_FEIN  ANZ_HAUSHALTE_AKTIV  \\\n",
       "0   -0.869634  0.004028             -0.948437            -0.436323   \n",
       "1    1.346190  0.130537             -0.948437            -0.436323   \n",
       "2   -0.869634 -0.502008             -3.270726            -0.436323   \n",
       "3   -0.869634 -0.248990             -1.412895            -0.503186   \n",
       "4   -0.869634  1.269116             -0.019521            -0.035144   \n",
       "\n",
       "   ANZ_HH_TITEL  ANZ_KINDER  ANZ_PERSONEN  ANZ_STATISTISCHE_HAUSHALTE  \\\n",
       "0     -0.118316   -0.292527      0.295412                   -0.430981   \n",
       "1     -0.118316   -0.292527      1.184215                   -0.430981   \n",
       "2     -0.118316   -0.292527     -0.593390                   -0.430981   \n",
       "3     -0.118316   -0.292527     -1.482193                   -0.430981   \n",
       "4     -0.118316   -0.292527      2.073018                    0.006592   \n",
       "\n",
       "   ANZ_TITEL    ARBEIT  ...  D19_LETZTER_KAUF_BRANCHE_D19_TECHNIK  \\\n",
       "0  -0.057885 -2.302262  ...                             -0.088988   \n",
       "1  -0.057885 -0.263623  ...                             -0.088988   \n",
       "2  -0.057885 -0.263623  ...                             -0.088988   \n",
       "3  -0.057885 -2.302262  ...                             -0.088988   \n",
       "4  -0.057885 -0.263623  ...                             -0.088988   \n",
       "\n",
       "   D19_LETZTER_KAUF_BRANCHE_D19_TELKO_MOBILE  \\\n",
       "0                                  -0.128365   \n",
       "1                                  -0.128365   \n",
       "2                                  -0.128365   \n",
       "3                                  -0.128365   \n",
       "4                                  -0.128365   \n",
       "\n",
       "   D19_LETZTER_KAUF_BRANCHE_D19_TELKO_REST  \\\n",
       "0                                -0.114193   \n",
       "1                                -0.114193   \n",
       "2                                -0.114193   \n",
       "3                                -0.114193   \n",
       "4                                -0.114193   \n",
       "\n",
       "   D19_LETZTER_KAUF_BRANCHE_D19_TIERARTIKEL  \\\n",
       "0                                 -0.053861   \n",
       "1                                 -0.053861   \n",
       "2                                 -0.053861   \n",
       "3                                 -0.053861   \n",
       "4                                 -0.053861   \n",
       "\n",
       "   D19_LETZTER_KAUF_BRANCHE_D19_UNBEKANNT  \\\n",
       "0                                1.887447   \n",
       "1                               -0.529816   \n",
       "2                                1.887447   \n",
       "3                               -0.529816   \n",
       "4                               -0.529816   \n",
       "\n",
       "   D19_LETZTER_KAUF_BRANCHE_D19_VERSAND_REST  \\\n",
       "0                                  -0.173466   \n",
       "1                                  -0.173466   \n",
       "2                                  -0.173466   \n",
       "3                                  -0.173466   \n",
       "4                                  -0.173466   \n",
       "\n",
       "   D19_LETZTER_KAUF_BRANCHE_D19_VERSICHERUNGEN  \\\n",
       "0                                    -0.263188   \n",
       "1                                    -0.263188   \n",
       "2                                    -0.263188   \n",
       "3                                    -0.263188   \n",
       "4                                    -0.263188   \n",
       "\n",
       "   D19_LETZTER_KAUF_BRANCHE_D19_VOLLSORTIMENT  \\\n",
       "0                                   -0.201615   \n",
       "1                                   -0.201615   \n",
       "2                                   -0.201615   \n",
       "3                                   -0.201615   \n",
       "4                                   -0.201615   \n",
       "\n",
       "   D19_LETZTER_KAUF_BRANCHE_D19_WEIN_FEINKOST  OST_WEST_KZ_O  \n",
       "0                                   -0.049336      -0.482932  \n",
       "1                                   -0.049336      -0.482932  \n",
       "2                                   -0.049336      -0.482932  \n",
       "3                                   -0.049336      -0.482932  \n",
       "4                                   -0.049336      -0.482932  \n",
       "\n",
       "[5 rows x 433 columns]"
      ]
     },
     "execution_count": 187,
     "metadata": {},
     "output_type": "execute_result"
    }
   ],
   "source": [
    "X_customers.head()"
   ]
  },
  {
   "cell_type": "markdown",
   "metadata": {},
   "source": [
    "#### 1.1.3 Dimensionality reduction"
   ]
  },
  {
   "cell_type": "code",
   "execution_count": 188,
   "metadata": {},
   "outputs": [],
   "source": [
    "def perform_pca(df, n_components=None):\n",
    "    \"\"\"\n",
    "    Returns transformed data with PCA\n",
    "    \"\"\"\n",
    "    pca = PCA(n_components, random_state=SEED)\n",
    "    pca.fit(df)\n",
    "    df_transformed = pca.transform(df)\n",
    "    return pca, df_transformed"
   ]
  },
  {
   "cell_type": "code",
   "execution_count": 189,
   "metadata": {},
   "outputs": [
    {
     "name": "stdout",
     "output_type": "stream",
     "text": [
      "CPU times: user 10min, sys: 57.2 s, total: 10min 57s\n",
      "Wall time: 11min 1s\n"
     ]
    }
   ],
   "source": [
    "%%time\n",
    "pca_azdias, _ = perform_pca(X_azdias, None)"
   ]
  },
  {
   "cell_type": "code",
   "execution_count": 190,
   "metadata": {},
   "outputs": [],
   "source": [
    "def plot_pca_results(pca_azdias, cumulative=True, figsize=(10,12)):\n",
    "    \"\"\"\n",
    "    Takes in two PCA models (which are fit on corresponding data) and plots \n",
    "    their Explained Variance vs Number of components\n",
    "    \n",
    "    \"\"\"   \n",
    "    \n",
    "    if cumulative:\n",
    "        azdias_variance = np.cumsum(pca_azdias.explained_variance_ratio_)\n",
    "        y_label = \"Variance Explained (%)\"\n",
    "    else:\n",
    "        azdias_variance = pca_azdias.explained_variance_ratio_\n",
    "        y_label = \"Explained Variance Ratio\"\n",
    "        \n",
    "    fig = plt.figure(figsize=figsize)\n",
    "\n",
    "    ax = fig.add_subplot(211)\n",
    "    ax.plot(azdias_variance, linewidth=2.5, color='dodgerblue')\n",
    "    ax.set_xlabel(\"Principal Component\", fontsize=14)\n",
    "    plt.xticks(np.arange(0, 441, 20))\n",
    "    plt.yticks(np.arange(0, 1.05, 0.05))\n",
    "    ax.set_ylabel(y_label, fontsize=14)\n",
    "    ax.set_title(\"Explained variance per principal component for Azdias dataset\", fontsize=16)\n",
    "    ax.grid()\n",
    "    plt.show()"
   ]
  },
  {
   "cell_type": "code",
   "execution_count": 191,
   "metadata": {},
   "outputs": [
    {
     "data": {
      "image/png": "[encoded data removed]",
      "text/plain": [
       "<Figure size 720x864 with 1 Axes>"
      ]
     },
     "metadata": {
      "needs_background": "light"
     },
     "output_type": "display_data"
    }
   ],
   "source": [
    "plot_pca_results(pca_azdias)"
   ]
  },
  {
   "cell_type": "markdown",
   "metadata": {},
   "source": [
    "I decided to use 200 principal components, which explain approximately 85% of variance."
   ]
  },
  {
   "cell_type": "code",
   "execution_count": 192,
   "metadata": {},
   "outputs": [
    {
     "name": "stdout",
     "output_type": "stream",
     "text": [
      "CPU times: user 5min 41s, sys: 1min 44s, total: 7min 25s\n",
      "Wall time: 6min 22s\n"
     ]
    }
   ],
   "source": [
    "%%time\n",
    "pca_azd_200, X_azdias_pca_200 = perform_pca(X_azdias, n_components=200)\n",
    "pca_cust_200, X_customers_pca_200 = perform_pca(X_customers, n_components=200)"
   ]
  },
  {
   "cell_type": "code",
   "execution_count": 193,
   "metadata": {},
   "outputs": [
    {
     "data": {
      "text/plain": [
       "PCA(n_components=200, random_state=8)"
      ]
     },
     "execution_count": 193,
     "metadata": {},
     "output_type": "execute_result"
    }
   ],
   "source": [
    "pca_azd_200"
   ]
  },
  {
   "cell_type": "code",
   "execution_count": 194,
   "metadata": {},
   "outputs": [
    {
     "data": {
      "text/plain": [
       "array([[-4.14557277, -4.5224838 , -1.64805297, ...,  0.34960471,\n",
       "         0.12169462,  0.01872796],\n",
       "       [-4.74832308,  0.49075889,  5.84803312, ..., -1.20402067,\n",
       "        -0.25739276,  0.53173812],\n",
       "       [-0.15793635, -2.95981638,  2.04824672, ...,  1.58137722,\n",
       "         1.06385589,  0.57763716],\n",
       "       ...,\n",
       "       [ 4.27070105,  0.55328964,  0.93725134, ..., -0.18326542,\n",
       "        -1.98774463, -0.27679903],\n",
       "       [-7.16736075,  5.90985997, -3.18527945, ..., -0.91561227,\n",
       "        -0.86032411,  0.39042882],\n",
       "       [-1.09776677, -5.54504096, -1.55257708, ..., -0.29318487,\n",
       "        -0.11682219,  0.22349191]])"
      ]
     },
     "execution_count": 194,
     "metadata": {},
     "output_type": "execute_result"
    }
   ],
   "source": [
    "X_azdias_pca_200"
   ]
  },
  {
   "cell_type": "code",
   "execution_count": 195,
   "metadata": {},
   "outputs": [
    {
     "data": {
      "text/plain": [
       "array([[ 2.77103632, -0.27232199, -5.84226433, ...,  0.23270122,\n",
       "        -1.20412796, -0.97838834],\n",
       "       [-2.83312448, -0.61653707, -0.18210509, ..., -0.06779259,\n",
       "        -0.74851884,  0.27631049],\n",
       "       [-0.88157538,  7.11765224,  1.34879918, ..., -0.64094956,\n",
       "         0.12701742, -0.18176476],\n",
       "       ...,\n",
       "       [ 2.6074654 ,  1.57245265,  1.18939294, ..., -0.36013971,\n",
       "         0.63895372, -0.30265517],\n",
       "       [ 2.02436552, -0.54416673,  4.98496464, ...,  0.92025212,\n",
       "        -0.5591021 , -0.29069358],\n",
       "       [ 5.24642934, -6.93262989, -1.43816232, ..., -0.60023595,\n",
       "        -1.25378484,  0.71890621]])"
      ]
     },
     "execution_count": 195,
     "metadata": {},
     "output_type": "execute_result"
    }
   ],
   "source": [
    "X_customers_pca_200"
   ]
  },
  {
   "cell_type": "markdown",
   "metadata": {},
   "source": [
    "### 1.2 k-means clustering"
   ]
  },
  {
   "cell_type": "markdown",
   "metadata": {},
   "source": [
    "#### 1.2.1 Choosing number of clusters"
   ]
  },
  {
   "cell_type": "markdown",
   "metadata": {},
   "source": [
    "I'm planning to apply **Elbow method** to determine the optimal number of clusters. I will calculate distortion and inertia metrics to identify the number of clusters for customers dataset.\n",
    "\n",
    "* **Distortion** is calculated as the average of the squared distances from the cluster centers of the respective clusters (the Euclidean distance metric is used)\n",
    "* **Inertia** is the sum of squared distances of samples to their closest cluster center."
   ]
  },
  {
   "cell_type": "code",
   "execution_count": 196,
   "metadata": {},
   "outputs": [],
   "source": [
    "from sklearn.cluster import KMeans \n",
    "from sklearn import metrics \n",
    "from scipy.spatial.distance import cdist "
   ]
  },
  {
   "cell_type": "code",
   "execution_count": 197,
   "metadata": {},
   "outputs": [],
   "source": [
    "# Calculate inertias and distortions for customers dataset\n",
    "# Link to original code: https://www.geeksforgeeks.org/elbow-method-for-optimal-value-of-k-in-kmeans/\n",
    "distortions = [] \n",
    "inertias = []\n",
    "K=range(1, 11)\n",
    "\n",
    "for k in K: \n",
    "    kmeanModel = KMeans(n_clusters=k, max_iter=400, n_init=20).fit(X_customers_pca_200) \n",
    "    kmeanModel.fit(X_customers_pca_200)\n",
    "    distortions.append(sum(np.min(cdist(X_customers_pca_200, kmeanModel.cluster_centers_,\n",
    "                                        'euclidean'),axis=1)) / X_customers_pca_200.shape[0]) \n",
    "    inertias.append(kmeanModel.inertia_)"
   ]
  },
  {
   "cell_type": "code",
   "execution_count": 198,
   "metadata": {},
   "outputs": [
    {
     "data": {
      "text/plain": [
       "KMeans(max_iter=400, n_clusters=10, n_init=20)"
      ]
     },
     "execution_count": 198,
     "metadata": {},
     "output_type": "execute_result"
    }
   ],
   "source": [
    "kmeanModel"
   ]
  },
  {
   "cell_type": "code",
   "execution_count": 199,
   "metadata": {},
   "outputs": [
    {
     "data": {
      "image/png": "[encoded data removed]",
      "text/plain": [
       "<Figure size 432x288 with 1 Axes>"
      ]
     },
     "metadata": {
      "needs_background": "light"
     },
     "output_type": "display_data"
    }
   ],
   "source": [
    "# Plot distortions\n",
    "plt.plot(K, distortions, 'bx-',  linewidth=2.5, color='dodgerblue') \n",
    "plt.xlabel('Values of K', fontsize=14) \n",
    "plt.ylabel('Distortion', fontsize=14) \n",
    "plt.title('The Elbow Method using Distortion', fontsize=16) \n",
    "plt.xticks(np.arange(1, 11))\n",
    "plt.show()"
   ]
  },
  {
   "cell_type": "code",
   "execution_count": 200,
   "metadata": {},
   "outputs": [
    {
     "data": {
      "image/png": "[encoded data removed]",
      "text/plain": [
       "<Figure size 432x288 with 1 Axes>"
      ]
     },
     "metadata": {
      "needs_background": "light"
     },
     "output_type": "display_data"
    }
   ],
   "source": [
    "# Plot inertias\n",
    "plt.plot(K, inertias, 'bx-', linewidth=2.5, color='dodgerblue') \n",
    "plt.xlabel('Values of K', fontsize=14) \n",
    "plt.ylabel('Inertia', fontsize=14) \n",
    "plt.title('The Elbow Method using Inertia', fontsize=16) \n",
    "plt.xticks(np.arange(1, 11))\n",
    "plt.show() "
   ]
  },
  {
   "cell_type": "markdown",
   "metadata": {},
   "source": [
    "Using the Elbow method, I chose 4 clusters for Customers dataset"
   ]
  },
  {
   "cell_type": "markdown",
   "metadata": {},
   "source": [
    "#### 1.2.2 Perform k-means clustering for Customers dataset"
   ]
  },
  {
   "cell_type": "code",
   "execution_count": 201,
   "metadata": {},
   "outputs": [],
   "source": [
    "# Let us apply k-means clustering\n",
    "kmeans_customers = KMeans(n_clusters=4, max_iter=400, n_init=20, random_state=SEED)\n",
    "pred_y_customers = kmeans_customers.fit(X_customers_pca_200)"
   ]
  },
  {
   "cell_type": "code",
   "execution_count": 202,
   "metadata": {},
   "outputs": [],
   "source": [
    "# Cetroids of clusters\n",
    "cluster_1 = pred_y_customers.cluster_centers_[0]\n",
    "cluster_2 = pred_y_customers.cluster_centers_[1]\n",
    "cluster_3 = pred_y_customers.cluster_centers_[2]\n",
    "cluster_4 = pred_y_customers.cluster_centers_[3]"
   ]
  },
  {
   "cell_type": "code",
   "execution_count": 203,
   "metadata": {},
   "outputs": [],
   "source": [
    "labels = list(pred_y_customers.labels_)"
   ]
  },
  {
   "cell_type": "code",
   "execution_count": 204,
   "metadata": {},
   "outputs": [
    {
     "data": {
      "text/html": [
       "<div>\n",
       "<style scoped>\n",
       "    .dataframe tbody tr th:only-of-type {\n",
       "        vertical-align: middle;\n",
       "    }\n",
       "\n",
       "    .dataframe tbody tr th {\n",
       "        vertical-align: top;\n",
       "    }\n",
       "\n",
       "    .dataframe thead th {\n",
       "        text-align: right;\n",
       "    }\n",
       "</style>\n",
       "<table border=\"1\" class=\"dataframe\">\n",
       "  <thead>\n",
       "    <tr style=\"text-align: right;\">\n",
       "      <th></th>\n",
       "      <th>cluster</th>\n",
       "      <th>number_of_customers</th>\n",
       "    </tr>\n",
       "  </thead>\n",
       "  <tbody>\n",
       "    <tr>\n",
       "      <th>0</th>\n",
       "      <td>1</td>\n",
       "      <td>33683</td>\n",
       "    </tr>\n",
       "    <tr>\n",
       "      <th>1</th>\n",
       "      <td>2</td>\n",
       "      <td>48376</td>\n",
       "    </tr>\n",
       "    <tr>\n",
       "      <th>2</th>\n",
       "      <td>3</td>\n",
       "      <td>62502</td>\n",
       "    </tr>\n",
       "    <tr>\n",
       "      <th>3</th>\n",
       "      <td>4</td>\n",
       "      <td>47091</td>\n",
       "    </tr>\n",
       "  </tbody>\n",
       "</table>\n",
       "</div>"
      ],
      "text/plain": [
       "   cluster  number_of_customers\n",
       "0        1                33683\n",
       "1        2                48376\n",
       "2        3                62502\n",
       "3        4                47091"
      ]
     },
     "execution_count": 204,
     "metadata": {},
     "output_type": "execute_result"
    }
   ],
   "source": [
    "unique, counts = np.unique(labels, return_counts=True)\n",
    "cust_number_clusters = pd.DataFrame(list(zip(unique, counts)),columns = ['cluster','number_of_customers']) \n",
    "cust_number_clusters['cluster'] = cust_number_clusters['cluster'] + 1\n",
    "cust_number_clusters"
   ]
  },
  {
   "cell_type": "code",
   "execution_count": 205,
   "metadata": {},
   "outputs": [],
   "source": [
    "sns.set(style=\"white\")\n",
    "sns.set(style=\"whitegrid\", color_codes=True)\n",
    "plt.rc(\"font\")"
   ]
  },
  {
   "cell_type": "code",
   "execution_count": 206,
   "metadata": {},
   "outputs": [
    {
     "data": {
      "image/png": "[encoded data removed]",
      "text/plain": [
       "<Figure size 432x288 with 1 Axes>"
      ]
     },
     "metadata": {},
     "output_type": "display_data"
    }
   ],
   "source": [
    "plt.bar(cust_number_clusters['cluster'], cust_number_clusters['number_of_customers'],\n",
    "        width = 0.5, color='dodgerblue') \n",
    "plt.xlabel(\"Cluster\", fontsize=14) \n",
    "plt.ylabel(\"Number of customers\", fontsize=14) \n",
    "plt.title(\"Number of customers in each clusters\", fontsize=16) \n",
    "plt.xticks(np.arange(1, 5))\n",
    "plt.show() "
   ]
  },
  {
   "cell_type": "markdown",
   "metadata": {},
   "source": [
    "Most of the customers belong to cluster#3"
   ]
  },
  {
   "cell_type": "markdown",
   "metadata": {},
   "source": [
    "#### 1.2.3 Calculate Euclidean distances between centroids and general population"
   ]
  },
  {
   "cell_type": "code",
   "execution_count": 89,
   "metadata": {},
   "outputs": [],
   "source": [
    "def find_distance(array, cluster):\n",
    "    \"\"\"\n",
    "    Returens distances between cluster's centrod of customers and general population\n",
    "    \"\"\"\n",
    "    distances=[]\n",
    "    for i in range(len(array)):\n",
    "        dist = np.linalg.norm(array[i] - cluster) \n",
    "        distances.append(dist)\n",
    "    return distances"
   ]
  },
  {
   "cell_type": "code",
   "execution_count": 99,
   "metadata": {},
   "outputs": [],
   "source": [
    "dist_cluster_1 = find_distance(X_azdias_pca_200, cluster_1)\n",
    "dist_cluster_2 = find_distance(X_azdias_pca_200, cluster_2)\n",
    "dist_cluster_3 = find_distance(X_azdias_pca_200, cluster_3)\n",
    "dist_cluster_4 = find_distance(X_azdias_pca_200, cluster_4)"
   ]
  },
  {
   "cell_type": "code",
   "execution_count": 105,
   "metadata": {},
   "outputs": [],
   "source": [
    "# Get ids\n",
    "lnr = list(azdias_clean['LNR'])"
   ]
  },
  {
   "cell_type": "code",
   "execution_count": 106,
   "metadata": {},
   "outputs": [],
   "source": [
    "azdias_dist = pd.DataFrame({'LNR':lnr,\n",
    "                            'dist_to_cluster_1':dist_cluster_1,\n",
    "                            'dist_to_cluster_2':dist_cluster_2,\n",
    "                            'dist_to_cluster_3':dist_cluster_3,\n",
    "                            'dist_to_cluster_4':dist_cluster_4})"
   ]
  },
  {
   "cell_type": "code",
   "execution_count": 107,
   "metadata": {},
   "outputs": [
    {
     "data": {
      "text/html": [
       "<div>\n",
       "<style scoped>\n",
       "    .dataframe tbody tr th:only-of-type {\n",
       "        vertical-align: middle;\n",
       "    }\n",
       "\n",
       "    .dataframe tbody tr th {\n",
       "        vertical-align: top;\n",
       "    }\n",
       "\n",
       "    .dataframe thead th {\n",
       "        text-align: right;\n",
       "    }\n",
       "</style>\n",
       "<table border=\"1\" class=\"dataframe\">\n",
       "  <thead>\n",
       "    <tr style=\"text-align: right;\">\n",
       "      <th></th>\n",
       "      <th>LNR</th>\n",
       "      <th>dist_to_cluster_1</th>\n",
       "      <th>dist_to_cluster_2</th>\n",
       "      <th>dist_to_cluster_3</th>\n",
       "      <th>dist_to_cluster_4</th>\n",
       "    </tr>\n",
       "  </thead>\n",
       "  <tbody>\n",
       "    <tr>\n",
       "      <th>0</th>\n",
       "      <td>910215</td>\n",
       "      <td>14.937541</td>\n",
       "      <td>13.625299</td>\n",
       "      <td>11.207223</td>\n",
       "      <td>10.134274</td>\n",
       "    </tr>\n",
       "    <tr>\n",
       "      <th>1</th>\n",
       "      <td>910220</td>\n",
       "      <td>21.575936</td>\n",
       "      <td>24.579590</td>\n",
       "      <td>21.965648</td>\n",
       "      <td>22.598706</td>\n",
       "    </tr>\n",
       "    <tr>\n",
       "      <th>2</th>\n",
       "      <td>910225</td>\n",
       "      <td>16.991694</td>\n",
       "      <td>16.341150</td>\n",
       "      <td>15.611845</td>\n",
       "      <td>17.778787</td>\n",
       "    </tr>\n",
       "    <tr>\n",
       "      <th>3</th>\n",
       "      <td>910226</td>\n",
       "      <td>20.816558</td>\n",
       "      <td>16.057726</td>\n",
       "      <td>17.450730</td>\n",
       "      <td>20.666800</td>\n",
       "    </tr>\n",
       "    <tr>\n",
       "      <th>4</th>\n",
       "      <td>910241</td>\n",
       "      <td>21.795960</td>\n",
       "      <td>23.945871</td>\n",
       "      <td>23.928754</td>\n",
       "      <td>28.833117</td>\n",
       "    </tr>\n",
       "  </tbody>\n",
       "</table>\n",
       "</div>"
      ],
      "text/plain": [
       "      LNR  dist_to_cluster_1  dist_to_cluster_2  dist_to_cluster_3  \\\n",
       "0  910215          14.937541          13.625299          11.207223   \n",
       "1  910220          21.575936          24.579590          21.965648   \n",
       "2  910225          16.991694          16.341150          15.611845   \n",
       "3  910226          20.816558          16.057726          17.450730   \n",
       "4  910241          21.795960          23.945871          23.928754   \n",
       "\n",
       "   dist_to_cluster_4  \n",
       "0          10.134274  \n",
       "1          22.598706  \n",
       "2          17.778787  \n",
       "3          20.666800  \n",
       "4          28.833117  "
      ]
     },
     "execution_count": 107,
     "metadata": {},
     "output_type": "execute_result"
    }
   ],
   "source": [
    "azdias_dist.head()"
   ]
  },
  {
   "cell_type": "code",
   "execution_count": 108,
   "metadata": {},
   "outputs": [
    {
     "data": {
      "text/plain": [
       "(891221, 5)"
      ]
     },
     "execution_count": 108,
     "metadata": {},
     "output_type": "execute_result"
    }
   ],
   "source": [
    "azdias_dist.shape"
   ]
  },
  {
   "cell_type": "code",
   "execution_count": 110,
   "metadata": {},
   "outputs": [
    {
     "name": "stdout",
     "output_type": "stream",
     "text": [
      "<class 'pandas.core.frame.DataFrame'>\n",
      "RangeIndex: 891221 entries, 0 to 891220\n",
      "Data columns (total 5 columns):\n",
      " #   Column             Non-Null Count   Dtype  \n",
      "---  ------             --------------   -----  \n",
      " 0   LNR                891221 non-null  int64  \n",
      " 1   dist_to_cluster_1  891221 non-null  float64\n",
      " 2   dist_to_cluster_2  891221 non-null  float64\n",
      " 3   dist_to_cluster_3  891221 non-null  float64\n",
      " 4   dist_to_cluster_4  891221 non-null  float64\n",
      "dtypes: float64(4), int64(1)\n",
      "memory usage: 34.0 MB\n"
     ]
    }
   ],
   "source": [
    "azdias_dist.info()"
   ]
  },
  {
   "cell_type": "code",
   "execution_count": 111,
   "metadata": {},
   "outputs": [],
   "source": [
    "# Save distance\n",
    "azdias_dist.to_csv('distance_between_centroids_and_general_population.csv', index=False)"
   ]
  },
  {
   "cell_type": "markdown",
   "metadata": {},
   "source": [
    "### 1.3 Analyze data and find potential customers"
   ]
  },
  {
   "cell_type": "markdown",
   "metadata": {},
   "source": [
    "#### 1.3.1 Potential customers"
   ]
  },
  {
   "cell_type": "code",
   "execution_count": 58,
   "metadata": {},
   "outputs": [],
   "source": [
    "azdias_dist = pd.read_csv('distance_between_centroids_and_general_population.csv')"
   ]
  },
  {
   "cell_type": "code",
   "execution_count": 170,
   "metadata": {},
   "outputs": [
    {
     "data": {
      "image/png": "[encoded data removed]",
      "text/plain": [
       "<Figure size 432x288 with 1 Axes>"
      ]
     },
     "metadata": {
      "needs_background": "light"
     },
     "output_type": "display_data"
    }
   ],
   "source": [
    "# Let's have a look at distribution of distances\n",
    "plt.hist(data=azdias_dist, x='dist_to_cluster_1', color='dodgerblue')\n",
    "plt.xlabel('Distance', fontsize=14)\n",
    "plt.ylabel('Count', fontsize=14)\n",
    "plt.title(\"Distribution of distances for cluster #1\", fontsize=16);"
   ]
  },
  {
   "cell_type": "code",
   "execution_count": 169,
   "metadata": {},
   "outputs": [
    {
     "data": {
      "image/png": "[encoded data removed]",
      "text/plain": [
       "<Figure size 432x288 with 1 Axes>"
      ]
     },
     "metadata": {
      "needs_background": "light"
     },
     "output_type": "display_data"
    }
   ],
   "source": [
    "# Let's have a look at distribution of distances\n",
    "plt.hist(data=azdias_dist, x='dist_to_cluster_2', color='dodgerblue')\n",
    "plt.xlabel('Distance', fontsize=14)\n",
    "plt.ylabel('Count', fontsize=14)\n",
    "plt.title(\"Distribution of distances for cluster #2\", fontsize=16);"
   ]
  },
  {
   "cell_type": "code",
   "execution_count": 168,
   "metadata": {},
   "outputs": [
    {
     "data": {
      "image/png": "[encoded data removed]",
      "text/plain": [
       "<Figure size 432x288 with 1 Axes>"
      ]
     },
     "metadata": {
      "needs_background": "light"
     },
     "output_type": "display_data"
    }
   ],
   "source": [
    "# Let's have a look at distribution of distances\n",
    "plt.hist(data=azdias_dist, x='dist_to_cluster_3', color='dodgerblue')\n",
    "plt.xlabel('Distance', fontsize=14)\n",
    "plt.ylabel('Count', fontsize=14)\n",
    "plt.title(\"Distribution of distances for cluster #3\", fontsize=16);"
   ]
  },
  {
   "cell_type": "code",
   "execution_count": 167,
   "metadata": {},
   "outputs": [
    {
     "data": {
      "image/png": "[encoded data removed]",
      "text/plain": [
       "<Figure size 432x288 with 1 Axes>"
      ]
     },
     "metadata": {
      "needs_background": "light"
     },
     "output_type": "display_data"
    }
   ],
   "source": [
    "# Let's have a look at distribution of distances\n",
    "plt.hist(data=azdias_dist, x='dist_to_cluster_3', color='dodgerblue')\n",
    "plt.xlabel('Distance', fontsize=14)\n",
    "plt.ylabel('Count', fontsize=14)\n",
    "plt.title(\"Distribution of distances for cluster #3\", fontsize=16);"
   ]
  },
  {
   "cell_type": "code",
   "execution_count": 166,
   "metadata": {},
   "outputs": [
    {
     "data": {
      "image/png": "[encoded data removed]",
      "text/plain": [
       "<Figure size 432x288 with 1 Axes>"
      ]
     },
     "metadata": {
      "needs_background": "light"
     },
     "output_type": "display_data"
    }
   ],
   "source": [
    "# Let's have a look at distribution of distances\n",
    "plt.hist(data=azdias_dist, x='dist_to_cluster_4', color='dodgerblue')\n",
    "plt.xlabel('Distance', fontsize=14)\n",
    "plt.ylabel('Count', fontsize=14)\n",
    "plt.title(\"Distribution of distances for cluster #4\", fontsize=16);"
   ]
  },
  {
   "cell_type": "code",
   "execution_count": 40,
   "metadata": {},
   "outputs": [
    {
     "data": {
      "text/html": [
       "<div>\n",
       "<style scoped>\n",
       "    .dataframe tbody tr th:only-of-type {\n",
       "        vertical-align: middle;\n",
       "    }\n",
       "\n",
       "    .dataframe tbody tr th {\n",
       "        vertical-align: top;\n",
       "    }\n",
       "\n",
       "    .dataframe thead th {\n",
       "        text-align: right;\n",
       "    }\n",
       "</style>\n",
       "<table border=\"1\" class=\"dataframe\">\n",
       "  <thead>\n",
       "    <tr style=\"text-align: right;\">\n",
       "      <th></th>\n",
       "      <th>LNR</th>\n",
       "      <th>dist_to_cluster_1</th>\n",
       "      <th>dist_to_cluster_2</th>\n",
       "      <th>dist_to_cluster_3</th>\n",
       "      <th>dist_to_cluster_4</th>\n",
       "    </tr>\n",
       "  </thead>\n",
       "  <tbody>\n",
       "    <tr>\n",
       "      <th>count</th>\n",
       "      <td>8.912210e+05</td>\n",
       "      <td>891221.000000</td>\n",
       "      <td>891221.000000</td>\n",
       "      <td>891221.000000</td>\n",
       "      <td>891221.000000</td>\n",
       "    </tr>\n",
       "    <tr>\n",
       "      <th>mean</th>\n",
       "      <td>6.372630e+05</td>\n",
       "      <td>20.160643</td>\n",
       "      <td>20.114183</td>\n",
       "      <td>19.070191</td>\n",
       "      <td>20.689563</td>\n",
       "    </tr>\n",
       "    <tr>\n",
       "      <th>std</th>\n",
       "      <td>2.572735e+05</td>\n",
       "      <td>3.590957</td>\n",
       "      <td>4.047673</td>\n",
       "      <td>4.388235</td>\n",
       "      <td>5.476316</td>\n",
       "    </tr>\n",
       "    <tr>\n",
       "      <th>min</th>\n",
       "      <td>1.916530e+05</td>\n",
       "      <td>11.870609</td>\n",
       "      <td>10.300935</td>\n",
       "      <td>8.810565</td>\n",
       "      <td>8.406486</td>\n",
       "    </tr>\n",
       "    <tr>\n",
       "      <th>25%</th>\n",
       "      <td>4.144580e+05</td>\n",
       "      <td>18.164938</td>\n",
       "      <td>17.426530</td>\n",
       "      <td>16.889402</td>\n",
       "      <td>17.382858</td>\n",
       "    </tr>\n",
       "    <tr>\n",
       "      <th>50%</th>\n",
       "      <td>6.372630e+05</td>\n",
       "      <td>19.927098</td>\n",
       "      <td>19.929587</td>\n",
       "      <td>19.099385</td>\n",
       "      <td>20.477412</td>\n",
       "    </tr>\n",
       "    <tr>\n",
       "      <th>75%</th>\n",
       "      <td>8.600680e+05</td>\n",
       "      <td>21.892560</td>\n",
       "      <td>22.500536</td>\n",
       "      <td>21.401643</td>\n",
       "      <td>24.098390</td>\n",
       "    </tr>\n",
       "    <tr>\n",
       "      <th>max</th>\n",
       "      <td>1.082873e+06</td>\n",
       "      <td>88.290265</td>\n",
       "      <td>88.344341</td>\n",
       "      <td>87.971006</td>\n",
       "      <td>87.970552</td>\n",
       "    </tr>\n",
       "  </tbody>\n",
       "</table>\n",
       "</div>"
      ],
      "text/plain": [
       "                LNR  dist_to_cluster_1  dist_to_cluster_2  dist_to_cluster_3  \\\n",
       "count  8.912210e+05      891221.000000      891221.000000      891221.000000   \n",
       "mean   6.372630e+05          20.160643          20.114183          19.070191   \n",
       "std    2.572735e+05           3.590957           4.047673           4.388235   \n",
       "min    1.916530e+05          11.870609          10.300935           8.810565   \n",
       "25%    4.144580e+05          18.164938          17.426530          16.889402   \n",
       "50%    6.372630e+05          19.927098          19.929587          19.099385   \n",
       "75%    8.600680e+05          21.892560          22.500536          21.401643   \n",
       "max    1.082873e+06          88.290265          88.344341          87.971006   \n",
       "\n",
       "       dist_to_cluster_4  \n",
       "count      891221.000000  \n",
       "mean           20.689563  \n",
       "std             5.476316  \n",
       "min             8.406486  \n",
       "25%            17.382858  \n",
       "50%            20.477412  \n",
       "75%            24.098390  \n",
       "max            87.970552  "
      ]
     },
     "execution_count": 40,
     "metadata": {},
     "output_type": "execute_result"
    }
   ],
   "source": [
    "azdias_dist.describe()"
   ]
  },
  {
   "cell_type": "markdown",
   "metadata": {},
   "source": [
    "#### 1.3.2. Set a threshold for Euclidean distances"
   ]
  },
  {
   "cell_type": "markdown",
   "metadata": {},
   "source": [
    "Looking at the histograms and the table, we can say that the minimum distance is 8.4, while the maximum is 88.3. Mean value is around 20. Let us set a threshold, which will be higher than the minimum and lower than the mean value. For the sake of simplicity let's choose 16, which is approximately higher the minimum value by average 2 standard deviations."
   ]
  },
  {
   "cell_type": "code",
   "execution_count": 127,
   "metadata": {},
   "outputs": [],
   "source": [
    "# Choose potential customers based on threshold value\n",
    "potential_customers_1 = azdias_dist.loc[azdias_dist['dist_to_cluster_1'] <= 16]\n",
    "potential_customers_2 = azdias_dist.loc[azdias_dist['dist_to_cluster_2'] <= 16]\n",
    "potential_customers_3 = azdias_dist.loc[azdias_dist['dist_to_cluster_3'] <= 16]\n",
    "potential_customers_4 = azdias_dist.loc[azdias_dist['dist_to_cluster_4'] <= 16]"
   ]
  },
  {
   "cell_type": "code",
   "execution_count": 128,
   "metadata": {},
   "outputs": [
    {
     "data": {
      "text/plain": [
       "(97990, 5)"
      ]
     },
     "execution_count": 128,
     "metadata": {},
     "output_type": "execute_result"
    }
   ],
   "source": [
    "potential_customers_1.shape"
   ]
  },
  {
   "cell_type": "code",
   "execution_count": 129,
   "metadata": {},
   "outputs": [
    {
     "data": {
      "text/plain": [
       "(137583, 5)"
      ]
     },
     "execution_count": 129,
     "metadata": {},
     "output_type": "execute_result"
    }
   ],
   "source": [
    "potential_customers_2.shape"
   ]
  },
  {
   "cell_type": "code",
   "execution_count": 130,
   "metadata": {},
   "outputs": [
    {
     "data": {
      "text/plain": [
       "(158539, 5)"
      ]
     },
     "execution_count": 130,
     "metadata": {},
     "output_type": "execute_result"
    }
   ],
   "source": [
    "potential_customers_3.shape"
   ]
  },
  {
   "cell_type": "code",
   "execution_count": 131,
   "metadata": {},
   "outputs": [
    {
     "data": {
      "text/plain": [
       "(143342, 5)"
      ]
     },
     "execution_count": 131,
     "metadata": {},
     "output_type": "execute_result"
    }
   ],
   "source": [
    "potential_customers_4.shape"
   ]
  },
  {
   "cell_type": "markdown",
   "metadata": {},
   "source": [
    "I expect that there is could be an intersection between each dataset for potential customers. Therefore, let's do left join and have a look at the data."
   ]
  },
  {
   "cell_type": "code",
   "execution_count": 132,
   "metadata": {},
   "outputs": [],
   "source": [
    "potential_customers = pd.concat([potential_customers_1, potential_customers_2,\n",
    "                                 potential_customers_3, potential_customers_4], ignore_index=True)"
   ]
  },
  {
   "cell_type": "code",
   "execution_count": 133,
   "metadata": {},
   "outputs": [
    {
     "data": {
      "text/plain": [
       "(537454, 5)"
      ]
     },
     "execution_count": 133,
     "metadata": {},
     "output_type": "execute_result"
    }
   ],
   "source": [
    "potential_customers.shape"
   ]
  },
  {
   "cell_type": "code",
   "execution_count": 134,
   "metadata": {},
   "outputs": [],
   "source": [
    "potential_customers.drop_duplicates(subset =\"LNR\", keep = 'first', inplace = True)"
   ]
  },
  {
   "cell_type": "code",
   "execution_count": 135,
   "metadata": {},
   "outputs": [
    {
     "data": {
      "text/plain": [
       "(226218, 5)"
      ]
     },
     "execution_count": 135,
     "metadata": {},
     "output_type": "execute_result"
    }
   ],
   "source": [
    "potential_customers.shape"
   ]
  },
  {
   "cell_type": "code",
   "execution_count": 136,
   "metadata": {},
   "outputs": [
    {
     "data": {
      "text/plain": [
       "0"
      ]
     },
     "execution_count": 136,
     "metadata": {},
     "output_type": "execute_result"
    }
   ],
   "source": [
    "potential_customers.duplicated().sum()"
   ]
  },
  {
   "cell_type": "code",
   "execution_count": 137,
   "metadata": {},
   "outputs": [
    {
     "data": {
      "text/plain": [
       "226218"
      ]
     },
     "execution_count": 137,
     "metadata": {},
     "output_type": "execute_result"
    }
   ],
   "source": [
    "potential_customers['LNR'].nunique()"
   ]
  },
  {
   "cell_type": "code",
   "execution_count": 138,
   "metadata": {},
   "outputs": [
    {
     "data": {
      "text/plain": [
       "(891221, 436)"
      ]
     },
     "execution_count": 138,
     "metadata": {},
     "output_type": "execute_result"
    }
   ],
   "source": [
    "azdias_clean.shape"
   ]
  },
  {
   "cell_type": "code",
   "execution_count": 139,
   "metadata": {},
   "outputs": [
    {
     "data": {
      "text/html": [
       "<div>\n",
       "<style scoped>\n",
       "    .dataframe tbody tr th:only-of-type {\n",
       "        vertical-align: middle;\n",
       "    }\n",
       "\n",
       "    .dataframe tbody tr th {\n",
       "        vertical-align: top;\n",
       "    }\n",
       "\n",
       "    .dataframe thead th {\n",
       "        text-align: right;\n",
       "    }\n",
       "</style>\n",
       "<table border=\"1\" class=\"dataframe\">\n",
       "  <thead>\n",
       "    <tr style=\"text-align: right;\">\n",
       "      <th></th>\n",
       "      <th>LNR</th>\n",
       "      <th>dist_to_cluster_1</th>\n",
       "      <th>dist_to_cluster_2</th>\n",
       "      <th>dist_to_cluster_3</th>\n",
       "      <th>dist_to_cluster_4</th>\n",
       "    </tr>\n",
       "  </thead>\n",
       "  <tbody>\n",
       "    <tr>\n",
       "      <th>count</th>\n",
       "      <td>2.262180e+05</td>\n",
       "      <td>226218.000000</td>\n",
       "      <td>226218.000000</td>\n",
       "      <td>226218.000000</td>\n",
       "      <td>226218.000000</td>\n",
       "    </tr>\n",
       "    <tr>\n",
       "      <th>mean</th>\n",
       "      <td>6.681156e+05</td>\n",
       "      <td>16.756370</td>\n",
       "      <td>16.121793</td>\n",
       "      <td>14.166239</td>\n",
       "      <td>14.824902</td>\n",
       "    </tr>\n",
       "    <tr>\n",
       "      <th>std</th>\n",
       "      <td>2.455371e+05</td>\n",
       "      <td>2.110467</td>\n",
       "      <td>2.419381</td>\n",
       "      <td>2.962748</td>\n",
       "      <td>3.695353</td>\n",
       "    </tr>\n",
       "    <tr>\n",
       "      <th>min</th>\n",
       "      <td>1.916550e+05</td>\n",
       "      <td>11.870609</td>\n",
       "      <td>10.300935</td>\n",
       "      <td>8.810565</td>\n",
       "      <td>8.406486</td>\n",
       "    </tr>\n",
       "    <tr>\n",
       "      <th>25%</th>\n",
       "      <td>4.667562e+05</td>\n",
       "      <td>14.940026</td>\n",
       "      <td>14.362000</td>\n",
       "      <td>10.928119</td>\n",
       "      <td>10.622726</td>\n",
       "    </tr>\n",
       "    <tr>\n",
       "      <th>50%</th>\n",
       "      <td>6.734375e+05</td>\n",
       "      <td>16.807769</td>\n",
       "      <td>15.349026</td>\n",
       "      <td>14.976134</td>\n",
       "      <td>15.186132</td>\n",
       "    </tr>\n",
       "    <tr>\n",
       "      <th>75%</th>\n",
       "      <td>8.796398e+05</td>\n",
       "      <td>18.491822</td>\n",
       "      <td>17.681468</td>\n",
       "      <td>16.432301</td>\n",
       "      <td>17.726430</td>\n",
       "    </tr>\n",
       "    <tr>\n",
       "      <th>max</th>\n",
       "      <td>1.082873e+06</td>\n",
       "      <td>22.972276</td>\n",
       "      <td>25.043647</td>\n",
       "      <td>22.070489</td>\n",
       "      <td>26.906875</td>\n",
       "    </tr>\n",
       "  </tbody>\n",
       "</table>\n",
       "</div>"
      ],
      "text/plain": [
       "                LNR  dist_to_cluster_1  dist_to_cluster_2  dist_to_cluster_3  \\\n",
       "count  2.262180e+05      226218.000000      226218.000000      226218.000000   \n",
       "mean   6.681156e+05          16.756370          16.121793          14.166239   \n",
       "std    2.455371e+05           2.110467           2.419381           2.962748   \n",
       "min    1.916550e+05          11.870609          10.300935           8.810565   \n",
       "25%    4.667562e+05          14.940026          14.362000          10.928119   \n",
       "50%    6.734375e+05          16.807769          15.349026          14.976134   \n",
       "75%    8.796398e+05          18.491822          17.681468          16.432301   \n",
       "max    1.082873e+06          22.972276          25.043647          22.070489   \n",
       "\n",
       "       dist_to_cluster_4  \n",
       "count      226218.000000  \n",
       "mean           14.824902  \n",
       "std             3.695353  \n",
       "min             8.406486  \n",
       "25%            10.622726  \n",
       "50%            15.186132  \n",
       "75%            17.726430  \n",
       "max            26.906875  "
      ]
     },
     "execution_count": 139,
     "metadata": {},
     "output_type": "execute_result"
    }
   ],
   "source": [
    "potential_customers.describe()"
   ]
  },
  {
   "cell_type": "code",
   "execution_count": 140,
   "metadata": {},
   "outputs": [
    {
     "name": "stdout",
     "output_type": "stream",
     "text": [
      "Number of potential customers for the mail-order company: 226218\n",
      "Percentage of potential customers from the general population: 25.38292971103688\n"
     ]
    }
   ],
   "source": [
    "print(\"Number of potential customers for the mail-order company:\", potential_customers['LNR'].nunique())\n",
    "print(\"Percentage of potential customers from the general population:\", \n",
    "      potential_customers['LNR'].nunique()*100/azdias_clean.shape[0])"
   ]
  },
  {
   "cell_type": "markdown",
   "metadata": {},
   "source": [
    "#### 1.3.1 Identify a segment for potential customers"
   ]
  },
  {
   "cell_type": "markdown",
   "metadata": {},
   "source": [
    "In order to identify a segment to which a potential customer belongs to, we will check the Euclidean distances and choose the smallest one for each potential customer, which shows with which segment's existing customers people have most similarity."
   ]
  },
  {
   "cell_type": "code",
   "execution_count": 142,
   "metadata": {},
   "outputs": [
    {
     "data": {
      "text/html": [
       "<div>\n",
       "<style scoped>\n",
       "    .dataframe tbody tr th:only-of-type {\n",
       "        vertical-align: middle;\n",
       "    }\n",
       "\n",
       "    .dataframe tbody tr th {\n",
       "        vertical-align: top;\n",
       "    }\n",
       "\n",
       "    .dataframe thead th {\n",
       "        text-align: right;\n",
       "    }\n",
       "</style>\n",
       "<table border=\"1\" class=\"dataframe\">\n",
       "  <thead>\n",
       "    <tr style=\"text-align: right;\">\n",
       "      <th></th>\n",
       "      <th>LNR</th>\n",
       "      <th>dist_to_cluster_1</th>\n",
       "      <th>dist_to_cluster_2</th>\n",
       "      <th>dist_to_cluster_3</th>\n",
       "      <th>dist_to_cluster_4</th>\n",
       "      <th>shortest_dist</th>\n",
       "    </tr>\n",
       "  </thead>\n",
       "  <tbody>\n",
       "    <tr>\n",
       "      <th>0</th>\n",
       "      <td>910215</td>\n",
       "      <td>14.937541</td>\n",
       "      <td>13.625299</td>\n",
       "      <td>11.207223</td>\n",
       "      <td>10.134274</td>\n",
       "      <td>10.134274</td>\n",
       "    </tr>\n",
       "    <tr>\n",
       "      <th>1</th>\n",
       "      <td>645169</td>\n",
       "      <td>14.921207</td>\n",
       "      <td>14.405534</td>\n",
       "      <td>10.925748</td>\n",
       "      <td>10.567038</td>\n",
       "      <td>10.567038</td>\n",
       "    </tr>\n",
       "    <tr>\n",
       "      <th>2</th>\n",
       "      <td>612565</td>\n",
       "      <td>14.940630</td>\n",
       "      <td>14.346337</td>\n",
       "      <td>10.948035</td>\n",
       "      <td>10.528093</td>\n",
       "      <td>10.528093</td>\n",
       "    </tr>\n",
       "    <tr>\n",
       "      <th>3</th>\n",
       "      <td>612577</td>\n",
       "      <td>14.921207</td>\n",
       "      <td>14.405534</td>\n",
       "      <td>10.925748</td>\n",
       "      <td>10.567038</td>\n",
       "      <td>10.567038</td>\n",
       "    </tr>\n",
       "    <tr>\n",
       "      <th>4</th>\n",
       "      <td>703164</td>\n",
       "      <td>14.940026</td>\n",
       "      <td>14.362000</td>\n",
       "      <td>10.928119</td>\n",
       "      <td>10.531798</td>\n",
       "      <td>10.531798</td>\n",
       "    </tr>\n",
       "  </tbody>\n",
       "</table>\n",
       "</div>"
      ],
      "text/plain": [
       "      LNR  dist_to_cluster_1  dist_to_cluster_2  dist_to_cluster_3  \\\n",
       "0  910215          14.937541          13.625299          11.207223   \n",
       "1  645169          14.921207          14.405534          10.925748   \n",
       "2  612565          14.940630          14.346337          10.948035   \n",
       "3  612577          14.921207          14.405534          10.925748   \n",
       "4  703164          14.940026          14.362000          10.928119   \n",
       "\n",
       "   dist_to_cluster_4  shortest_dist  \n",
       "0          10.134274      10.134274  \n",
       "1          10.567038      10.567038  \n",
       "2          10.528093      10.528093  \n",
       "3          10.567038      10.567038  \n",
       "4          10.531798      10.531798  "
      ]
     },
     "execution_count": 142,
     "metadata": {},
     "output_type": "execute_result"
    }
   ],
   "source": [
    "potential_customers['shortest_dist'] = potential_customers.min(axis=1)\n",
    "potential_customers.head()"
   ]
  },
  {
   "cell_type": "code",
   "execution_count": 150,
   "metadata": {},
   "outputs": [],
   "source": [
    "potential_customers.loc[potential_customers['dist_to_cluster_1'] == potential_customers['shortest_dist'],\n",
    "                        'cluster'] = 1\n",
    "potential_customers.loc[potential_customers['dist_to_cluster_2'] == potential_customers['shortest_dist'],\n",
    "                        'cluster'] = 2\n",
    "potential_customers.loc[potential_customers['dist_to_cluster_3'] == potential_customers['shortest_dist'],\n",
    "                        'cluster'] = 3\n",
    "potential_customers.loc[potential_customers['dist_to_cluster_4'] == potential_customers['shortest_dist'],\n",
    "                        'cluster'] = 4"
   ]
  },
  {
   "cell_type": "code",
   "execution_count": 164,
   "metadata": {},
   "outputs": [
    {
     "data": {
      "image/png": "[encoded data removed]",
      "text/plain": [
       "<Figure size 504x360 with 1 Axes>"
      ]
     },
     "metadata": {
      "needs_background": "light"
     },
     "output_type": "display_data"
    }
   ],
   "source": [
    "fig = plt.figure(figsize=(7, 5))\n",
    "potential_customers['cluster'].value_counts().plot.bar(color='dodgerblue');\n",
    "plt.xlabel('Cluster', fontsize=14)\n",
    "plt.ylabel('Number of potential customers', fontsize=14)\n",
    "plt.title(\"Distribution of potential customers by clusters\", fontsize=16);"
   ]
  },
  {
   "cell_type": "code",
   "execution_count": 165,
   "metadata": {},
   "outputs": [
    {
     "data": {
      "image/png": "[encoded data removed]",
      "text/plain": [
       "<Figure size 504x360 with 1 Axes>"
      ]
     },
     "metadata": {
      "needs_background": "light"
     },
     "output_type": "display_data"
    }
   ],
   "source": [
    "fig = plt.figure(figsize=(7, 5))\n",
    "potential_customers['cluster'].value_counts(normalize=True).plot.bar(color='dodgerblue');\n",
    "plt.xlabel('Cluster', fontsize=14)\n",
    "plt.ylabel('Percentage of potential customers', fontsize=14)\n",
    "plt.title(\"Distribution of the percentage of potential customers by clusters\", fontsize=16);"
   ]
  },
  {
   "cell_type": "code",
   "execution_count": 207,
   "metadata": {},
   "outputs": [],
   "source": [
    "# Save results\n",
    "potential_customers.to_csv('potential_customers_from_general_population.csv', index=False)"
   ]
  },
  {
   "cell_type": "markdown",
   "metadata": {},
   "source": [
    "### 1.4 Summary of findings"
   ]
  },
  {
   "cell_type": "markdown",
   "metadata": {},
   "source": [
    "* Using k-means clustering and Elbow method 4 clusters were found within the existing customers\n",
    "* By applying Euclidean distances we found distances between the centroids of clusters and people in the general population's dataset\n",
    "* I set a threshold = 16 to define potential customers, which was decided based on adding two standard deviations to the minimum distance\n",
    "* Based on k-means clustering model, **most of the existing customers belong to cluster #3**\n",
    "* Overall, **226,218 potential customers were found, which represent about 25% of the general population**\n",
    "* The majority of potential customers may belong to **segments/clusters #4 and #3**\n",
    "* Based on the data of potential and existing customers, I would recommend to learn/understand more about clusters/segments #3 and #4, which have the highest number of potential customers. Also, segment #3 has the highest number of existing customers."
   ]
  },
  {
   "cell_type": "markdown",
   "metadata": {},
   "source": [
    "## Part 2: Supervised Learning Model\n",
    "\n",
    "Now that you've found which parts of the population are more likely to be customers of the mail-order company, it's time to build a prediction model. Each of the rows in the \"MAILOUT\" data files represents an individual that was targeted for a mailout campaign. Ideally, we should be able to use the demographic information from each individual to decide whether or not it will be worth it to include that person in the campaign.\n",
    "\n",
    "The \"MAILOUT\" data has been split into two approximately equal parts, each with almost 43 000 data rows. In this part, you can verify your model with the \"TRAIN\" partition, which includes a column, \"RESPONSE\", that states whether or not a person became a customer of the company following the campaign. In the next part, you'll need to create predictions on the \"TEST\" partition, where the \"RESPONSE\" column has been withheld."
   ]
  },
  {
   "cell_type": "markdown",
   "metadata": {},
   "source": [
    "### 2.1 Data cleaning"
   ]
  },
  {
   "cell_type": "code",
   "execution_count": null,
   "metadata": {},
   "outputs": [],
   "source": [
    "mailout_train = pd.read_csv('../../data/Term2/capstone/arvato_data/Udacity_MAILOUT_052018_TRAIN.csv', sep=';')"
   ]
  },
  {
   "cell_type": "code",
   "execution_count": null,
   "metadata": {},
   "outputs": [],
   "source": []
  },
  {
   "cell_type": "code",
   "execution_count": null,
   "metadata": {},
   "outputs": [],
   "source": []
  },
  {
   "cell_type": "code",
   "execution_count": null,
   "metadata": {},
   "outputs": [],
   "source": []
  },
  {
   "cell_type": "code",
   "execution_count": null,
   "metadata": {},
   "outputs": [],
   "source": []
  },
  {
   "cell_type": "code",
   "execution_count": null,
   "metadata": {},
   "outputs": [],
   "source": []
  },
  {
   "cell_type": "code",
   "execution_count": null,
   "metadata": {},
   "outputs": [],
   "source": []
  },
  {
   "cell_type": "code",
   "execution_count": null,
   "metadata": {},
   "outputs": [],
   "source": []
  },
  {
   "cell_type": "code",
   "execution_count": null,
   "metadata": {},
   "outputs": [],
   "source": []
  },
  {
   "cell_type": "markdown",
   "metadata": {},
   "source": [
    "## Part 3: Kaggle Competition\n",
    "\n",
    "Now that you've created a model to predict which individuals are most likely to respond to a mailout campaign, it's time to test that model in competition through Kaggle. If you click on the link [here](http://www.kaggle.com/t/21e6d45d4c574c7fa2d868f0e8c83140), you'll be taken to the competition page where, if you have a Kaggle account, you can enter. If you're one of the top performers, you may have the chance to be contacted by a hiring manager from Arvato or Bertelsmann for an interview!\n",
    "\n",
    "Your entry to the competition should be a CSV file with two columns. The first column should be a copy of \"LNR\", which acts as an ID number for each individual in the \"TEST\" partition. The second column, \"RESPONSE\", should be some measure of how likely each individual became a customer – this might not be a straightforward probability. As you should have found in Part 2, there is a large output class imbalance, where most individuals did not respond to the mailout. Thus, predicting individual classes and using accuracy does not seem to be an appropriate performance evaluation method. Instead, the competition will be using AUC to evaluate performance. The exact values of the \"RESPONSE\" column do not matter as much: only that the higher values try to capture as many of the actual customers as possible, early in the ROC curve sweep."
   ]
  },
  {
   "cell_type": "code",
   "execution_count": null,
   "metadata": {},
   "outputs": [],
   "source": [
    "mailout_test = pd.read_csv('../../data/Term2/capstone/arvato_data/Udacity_MAILOUT_052018_TEST.csv', sep=';')"
   ]
  },
  {
   "cell_type": "code",
   "execution_count": null,
   "metadata": {},
   "outputs": [],
   "source": []
  }
 ],
 "metadata": {
  "kernelspec": {
   "display_name": "Python 3",
   "language": "python",
   "name": "python3"
  },
  "language_info": {
   "codemirror_mode": {
    "name": "ipython",
    "version": 3
   },
   "file_extension": ".py",
   "mimetype": "text/x-python",
   "name": "python",
   "nbconvert_exporter": "python",
   "pygments_lexer": "ipython3",
   "version": "3.7.9"
  }
 },
 "nbformat": 4,
 "nbformat_minor": 2
}
